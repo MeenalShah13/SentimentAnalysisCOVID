{
  "nbformat": 4,
  "nbformat_minor": 0,
  "metadata": {
    "colab": {
      "name": "Sentiment classifier 2.ipynb",
      "provenance": [],
      "authorship_tag": "ABX9TyMJeEiKNyfdX90a0NSqwDcc",
      "include_colab_link": true
    },
    "kernelspec": {
      "name": "python3",
      "display_name": "Python 3"
    },
    "language_info": {
      "name": "python"
    }
  },
  "cells": [
    {
      "cell_type": "markdown",
      "metadata": {
        "id": "view-in-github",
        "colab_type": "text"
      },
      "source": [
        "<a href=\"https://colab.research.google.com/github/MeenalShah13/SentimentAnalysisCOVID/blob/main/Sentiment_classifier_2.ipynb\" target=\"_parent\"><img src=\"https://colab.research.google.com/assets/colab-badge.svg\" alt=\"Open In Colab\"/></a>"
      ]
    },
    {
      "cell_type": "code",
      "metadata": {
        "colab": {
          "base_uri": "https://localhost:8080/"
        },
        "id": "d9KkJKDb73Bz",
        "outputId": "c083efea-68fb-4916-8013-a1af59cff375"
      },
      "source": [
        "###!wget https://github.com/MeenalShah13/SentimentAnalysisCOVID/sample_data.zip"
      ],
      "execution_count": 3,
      "outputs": [
        {
          "output_type": "stream",
          "text": [
            "--2021-04-05 16:53:25--  https://github.com/MeenalShah13/SentimentAnalysisCOVID/sample_data.zip\n",
            "Resolving github.com (github.com)... 140.82.113.3\n",
            "Connecting to github.com (github.com)|140.82.113.3|:443... connected.\n",
            "HTTP request sent, awaiting response... 404 Not Found\n",
            "2021-04-05 16:53:25 ERROR 404: Not Found.\n",
            "\n"
          ],
          "name": "stdout"
        }
      ]
    },
    {
      "cell_type": "code",
      "metadata": {
        "colab": {
          "base_uri": "https://localhost:8080/"
        },
        "id": "wtkKC48Q8kqK",
        "outputId": "3f871eb6-bb36-494e-8287-33e596dd992c"
      },
      "source": [
        "!unzip sample_data.zip"
      ],
      "execution_count": 4,
      "outputs": [
        {
          "output_type": "stream",
          "text": [
            "Archive:  sample_data.zip\n",
            "  inflating: sample_data.csv         \n"
          ],
          "name": "stdout"
        }
      ]
    },
    {
      "cell_type": "code",
      "metadata": {
        "id": "QLgX7Njy85di"
      },
      "source": [
        "import pandas as pd\n",
        "import numpy as np"
      ],
      "execution_count": 2,
      "outputs": []
    },
    {
      "cell_type": "code",
      "metadata": {
        "colab": {
          "base_uri": "https://localhost:8080/",
          "height": 534
        },
        "id": "C5Ar80Hu_lY4",
        "outputId": "f3b41cc4-5599-450d-d788-f6281de06e3b"
      },
      "source": [
        "df=pd.read_csv('sample_data.csv')\n",
        "df.head()"
      ],
      "execution_count": 3,
      "outputs": [
        {
          "output_type": "execute_result",
          "data": {
            "text/html": [
              "<div>\n",
              "<style scoped>\n",
              "    .dataframe tbody tr th:only-of-type {\n",
              "        vertical-align: middle;\n",
              "    }\n",
              "\n",
              "    .dataframe tbody tr th {\n",
              "        vertical-align: top;\n",
              "    }\n",
              "\n",
              "    .dataframe thead th {\n",
              "        text-align: right;\n",
              "    }\n",
              "</style>\n",
              "<table border=\"1\" class=\"dataframe\">\n",
              "  <thead>\n",
              "    <tr style=\"text-align: right;\">\n",
              "      <th></th>\n",
              "      <th>TweetID</th>\n",
              "      <th>Username</th>\n",
              "      <th>TimeStamp</th>\n",
              "      <th>Follower_num</th>\n",
              "      <th>Friend_num</th>\n",
              "      <th>Retweets_num</th>\n",
              "      <th>Favourites_num</th>\n",
              "      <th>Tweet</th>\n",
              "      <th>Sentiment</th>\n",
              "      <th>Mentions</th>\n",
              "      <th>Hashtags</th>\n",
              "      <th>URL</th>\n",
              "    </tr>\n",
              "  </thead>\n",
              "  <tbody>\n",
              "    <tr>\n",
              "      <th>0</th>\n",
              "      <td>1338226694444859394</td>\n",
              "      <td>089be85f6a89c59e88023f993960401a</td>\n",
              "      <td>Sun Dec 13 20:58:01 +0000 2020</td>\n",
              "      <td>188</td>\n",
              "      <td>199</td>\n",
              "      <td>0</td>\n",
              "      <td>0</td>\n",
              "      <td>null;</td>\n",
              "      <td>1 -4</td>\n",
              "      <td>MikeEmanuelFox</td>\n",
              "      <td>null;</td>\n",
              "      <td>null;</td>\n",
              "    </tr>\n",
              "    <tr>\n",
              "      <th>1</th>\n",
              "      <td>1300246448995409924</td>\n",
              "      <td>7b32b6b1251ff68e93fbca72ac103d28</td>\n",
              "      <td>Mon Aug 31 01:38:05 +0000 2020</td>\n",
              "      <td>1524</td>\n",
              "      <td>323</td>\n",
              "      <td>5</td>\n",
              "      <td>10</td>\n",
              "      <td>null;</td>\n",
              "      <td>1 -3</td>\n",
              "      <td>johncardillo</td>\n",
              "      <td>null;</td>\n",
              "      <td>null;</td>\n",
              "    </tr>\n",
              "    <tr>\n",
              "      <th>2</th>\n",
              "      <td>1278708694390173696</td>\n",
              "      <td>43250c612d875e4b4723f8bc9267f4e4</td>\n",
              "      <td>Thu Jul 02 15:14:44 +0000 2020</td>\n",
              "      <td>4018</td>\n",
              "      <td>4357</td>\n",
              "      <td>0</td>\n",
              "      <td>0</td>\n",
              "      <td>claw back:Clawback:-2.8650884132444534;</td>\n",
              "      <td>1 -1</td>\n",
              "      <td>null;</td>\n",
              "      <td>null;</td>\n",
              "      <td>https://www.wsj.com/articles/businesses-hit-ha...</td>\n",
              "    </tr>\n",
              "    <tr>\n",
              "      <th>3</th>\n",
              "      <td>1321386099785293824</td>\n",
              "      <td>47274922378102842a9d0d3864a9f732</td>\n",
              "      <td>Wed Oct 28 09:39:31 +0000 2020</td>\n",
              "      <td>744</td>\n",
              "      <td>732</td>\n",
              "      <td>9</td>\n",
              "      <td>17</td>\n",
              "      <td>where i live:Where_I_Live:-2.284433538491413;</td>\n",
              "      <td>1 -3</td>\n",
              "      <td>confidencenac</td>\n",
              "      <td>null;</td>\n",
              "      <td>null;</td>\n",
              "    </tr>\n",
              "    <tr>\n",
              "      <th>4</th>\n",
              "      <td>1296079483523522568</td>\n",
              "      <td>a66b8dc9de405ca8dd7616b74de4c3f8</td>\n",
              "      <td>Wed Aug 19 13:40:03 +0000 2020</td>\n",
              "      <td>15694</td>\n",
              "      <td>30</td>\n",
              "      <td>2</td>\n",
              "      <td>5</td>\n",
              "      <td>tu quoque:Tu_quoque:-1.1387633458589146;</td>\n",
              "      <td>2 -1</td>\n",
              "      <td>null;</td>\n",
              "      <td>null;</td>\n",
              "      <td>null;</td>\n",
              "    </tr>\n",
              "  </tbody>\n",
              "</table>\n",
              "</div>"
            ],
            "text/plain": [
              "               TweetID  ...                                                URL\n",
              "0  1338226694444859394  ...                                              null;\n",
              "1  1300246448995409924  ...                                              null;\n",
              "2  1278708694390173696  ...  https://www.wsj.com/articles/businesses-hit-ha...\n",
              "3  1321386099785293824  ...                                              null;\n",
              "4  1296079483523522568  ...                                              null;\n",
              "\n",
              "[5 rows x 12 columns]"
            ]
          },
          "metadata": {
            "tags": []
          },
          "execution_count": 3
        }
      ]
    },
    {
      "cell_type": "code",
      "metadata": {
        "colab": {
          "base_uri": "https://localhost:8080/"
        },
        "id": "wLVZesVG_rWt",
        "outputId": "0586d20c-e5e8-4cc0-9d48-366d1e6dce7a"
      },
      "source": [
        "df.shape"
      ],
      "execution_count": 4,
      "outputs": [
        {
          "output_type": "execute_result",
          "data": {
            "text/plain": [
              "(150000, 12)"
            ]
          },
          "metadata": {
            "tags": []
          },
          "execution_count": 4
        }
      ]
    },
    {
      "cell_type": "code",
      "metadata": {
        "colab": {
          "base_uri": "https://localhost:8080/"
        },
        "id": "brEnmygNBAFm",
        "outputId": "bf415fab-a452-4416-f220-2c0c989d9ac8"
      },
      "source": [
        "df.isnull().sum() "
      ],
      "execution_count": 5,
      "outputs": [
        {
          "output_type": "execute_result",
          "data": {
            "text/plain": [
              "TweetID             0\n",
              "Username            0\n",
              "TimeStamp           0\n",
              "Follower_num        0\n",
              "Friend_num          0\n",
              "Retweets_num        0\n",
              "Favourites_num      0\n",
              "Tweet               0\n",
              "Sentiment           0\n",
              "Mentions          270\n",
              "Hashtags           58\n",
              "URL                 0\n",
              "dtype: int64"
            ]
          },
          "metadata": {
            "tags": []
          },
          "execution_count": 5
        }
      ]
    },
    {
      "cell_type": "code",
      "metadata": {
        "id": "7XG995UQBBxj"
      },
      "source": [
        "df = df.dropna()"
      ],
      "execution_count": 6,
      "outputs": []
    },
    {
      "cell_type": "code",
      "metadata": {
        "colab": {
          "base_uri": "https://localhost:8080/"
        },
        "id": "rJi66M5dBJXb",
        "outputId": "b38e7586-7b2a-4b1c-ccea-e9d4581d2714"
      },
      "source": [
        "df.duplicated().sum()"
      ],
      "execution_count": 7,
      "outputs": [
        {
          "output_type": "execute_result",
          "data": {
            "text/plain": [
              "0"
            ]
          },
          "metadata": {
            "tags": []
          },
          "execution_count": 7
        }
      ]
    },
    {
      "cell_type": "code",
      "metadata": {
        "colab": {
          "base_uri": "https://localhost:8080/",
          "height": 196
        },
        "id": "qzNN17_4BLn6",
        "outputId": "1d2d8f7d-cf5f-44f7-80b4-f3884762752b"
      },
      "source": [
        "df1 = df.drop(['TweetID','Username','Follower_num','Friend_num','Retweets_num','Favourites_num','Mentions','URL','Hashtags'],axis=1)\n",
        "df1.head()"
      ],
      "execution_count": 8,
      "outputs": [
        {
          "output_type": "execute_result",
          "data": {
            "text/html": [
              "<div>\n",
              "<style scoped>\n",
              "    .dataframe tbody tr th:only-of-type {\n",
              "        vertical-align: middle;\n",
              "    }\n",
              "\n",
              "    .dataframe tbody tr th {\n",
              "        vertical-align: top;\n",
              "    }\n",
              "\n",
              "    .dataframe thead th {\n",
              "        text-align: right;\n",
              "    }\n",
              "</style>\n",
              "<table border=\"1\" class=\"dataframe\">\n",
              "  <thead>\n",
              "    <tr style=\"text-align: right;\">\n",
              "      <th></th>\n",
              "      <th>TimeStamp</th>\n",
              "      <th>Tweet</th>\n",
              "      <th>Sentiment</th>\n",
              "    </tr>\n",
              "  </thead>\n",
              "  <tbody>\n",
              "    <tr>\n",
              "      <th>0</th>\n",
              "      <td>Sun Dec 13 20:58:01 +0000 2020</td>\n",
              "      <td>null;</td>\n",
              "      <td>1 -4</td>\n",
              "    </tr>\n",
              "    <tr>\n",
              "      <th>1</th>\n",
              "      <td>Mon Aug 31 01:38:05 +0000 2020</td>\n",
              "      <td>null;</td>\n",
              "      <td>1 -3</td>\n",
              "    </tr>\n",
              "    <tr>\n",
              "      <th>2</th>\n",
              "      <td>Thu Jul 02 15:14:44 +0000 2020</td>\n",
              "      <td>claw back:Clawback:-2.8650884132444534;</td>\n",
              "      <td>1 -1</td>\n",
              "    </tr>\n",
              "    <tr>\n",
              "      <th>3</th>\n",
              "      <td>Wed Oct 28 09:39:31 +0000 2020</td>\n",
              "      <td>where i live:Where_I_Live:-2.284433538491413;</td>\n",
              "      <td>1 -3</td>\n",
              "    </tr>\n",
              "    <tr>\n",
              "      <th>4</th>\n",
              "      <td>Wed Aug 19 13:40:03 +0000 2020</td>\n",
              "      <td>tu quoque:Tu_quoque:-1.1387633458589146;</td>\n",
              "      <td>2 -1</td>\n",
              "    </tr>\n",
              "  </tbody>\n",
              "</table>\n",
              "</div>"
            ],
            "text/plain": [
              "                        TimeStamp  ... Sentiment\n",
              "0  Sun Dec 13 20:58:01 +0000 2020  ...      1 -4\n",
              "1  Mon Aug 31 01:38:05 +0000 2020  ...      1 -3\n",
              "2  Thu Jul 02 15:14:44 +0000 2020  ...      1 -1\n",
              "3  Wed Oct 28 09:39:31 +0000 2020  ...      1 -3\n",
              "4  Wed Aug 19 13:40:03 +0000 2020  ...      2 -1\n",
              "\n",
              "[5 rows x 3 columns]"
            ]
          },
          "metadata": {
            "tags": []
          },
          "execution_count": 8
        }
      ]
    },
    {
      "cell_type": "code",
      "metadata": {
        "colab": {
          "base_uri": "https://localhost:8080/"
        },
        "id": "Am6RoXL7BnYs",
        "outputId": "c65044dc-92a4-46eb-e9ae-68d54588c6de"
      },
      "source": [
        "df1.shape"
      ],
      "execution_count": 9,
      "outputs": [
        {
          "output_type": "execute_result",
          "data": {
            "text/plain": [
              "(149672, 3)"
            ]
          },
          "metadata": {
            "tags": []
          },
          "execution_count": 9
        }
      ]
    },
    {
      "cell_type": "code",
      "metadata": {
        "colab": {
          "base_uri": "https://localhost:8080/"
        },
        "id": "n6rAUpluBwec",
        "outputId": "f112090a-2ec3-4f0d-b134-48a62dad20f1"
      },
      "source": [
        "blanks=[]\n",
        "for i,time,tweet,senti in df1.itertuples():  # iterate over the DataFrame\n",
        "    if type(tweet)==str:            # avoid NaN values\n",
        "        if tweet=='null;':         # test 'review' for whitespace\n",
        "            blanks.append(i)     # add matching index numbers to the list\n",
        "\n",
        "df1.drop(blanks, inplace=True)\n",
        "df1.shape"
      ],
      "execution_count": 10,
      "outputs": [
        {
          "output_type": "execute_result",
          "data": {
            "text/plain": [
              "(103469, 3)"
            ]
          },
          "metadata": {
            "tags": []
          },
          "execution_count": 10
        }
      ]
    },
    {
      "cell_type": "code",
      "metadata": {
        "colab": {
          "base_uri": "https://localhost:8080/",
          "height": 196
        },
        "id": "f9nLnwFHDMSB",
        "outputId": "c41613b4-37bc-47b1-f083-833c374e9fc0"
      },
      "source": [
        "df1.head()"
      ],
      "execution_count": 11,
      "outputs": [
        {
          "output_type": "execute_result",
          "data": {
            "text/html": [
              "<div>\n",
              "<style scoped>\n",
              "    .dataframe tbody tr th:only-of-type {\n",
              "        vertical-align: middle;\n",
              "    }\n",
              "\n",
              "    .dataframe tbody tr th {\n",
              "        vertical-align: top;\n",
              "    }\n",
              "\n",
              "    .dataframe thead th {\n",
              "        text-align: right;\n",
              "    }\n",
              "</style>\n",
              "<table border=\"1\" class=\"dataframe\">\n",
              "  <thead>\n",
              "    <tr style=\"text-align: right;\">\n",
              "      <th></th>\n",
              "      <th>TimeStamp</th>\n",
              "      <th>Tweet</th>\n",
              "      <th>Sentiment</th>\n",
              "    </tr>\n",
              "  </thead>\n",
              "  <tbody>\n",
              "    <tr>\n",
              "      <th>2</th>\n",
              "      <td>Thu Jul 02 15:14:44 +0000 2020</td>\n",
              "      <td>claw back:Clawback:-2.8650884132444534;</td>\n",
              "      <td>1 -1</td>\n",
              "    </tr>\n",
              "    <tr>\n",
              "      <th>3</th>\n",
              "      <td>Wed Oct 28 09:39:31 +0000 2020</td>\n",
              "      <td>where i live:Where_I_Live:-2.284433538491413;</td>\n",
              "      <td>1 -3</td>\n",
              "    </tr>\n",
              "    <tr>\n",
              "      <th>4</th>\n",
              "      <td>Wed Aug 19 13:40:03 +0000 2020</td>\n",
              "      <td>tu quoque:Tu_quoque:-1.1387633458589146;</td>\n",
              "      <td>2 -1</td>\n",
              "    </tr>\n",
              "    <tr>\n",
              "      <th>5</th>\n",
              "      <td>Fri Sep 04 09:44:29 +0000 2020</td>\n",
              "      <td>sarkodie:Sarkodie_%28rapper%29:-1.195632594385...</td>\n",
              "      <td>2 -1</td>\n",
              "    </tr>\n",
              "    <tr>\n",
              "      <th>6</th>\n",
              "      <td>Thu Oct 29 20:12:39 +0000 2020</td>\n",
              "      <td>kidding:Kidding:-2.9308236049363066;</td>\n",
              "      <td>2 -3</td>\n",
              "    </tr>\n",
              "  </tbody>\n",
              "</table>\n",
              "</div>"
            ],
            "text/plain": [
              "                        TimeStamp  ... Sentiment\n",
              "2  Thu Jul 02 15:14:44 +0000 2020  ...      1 -1\n",
              "3  Wed Oct 28 09:39:31 +0000 2020  ...      1 -3\n",
              "4  Wed Aug 19 13:40:03 +0000 2020  ...      2 -1\n",
              "5  Fri Sep 04 09:44:29 +0000 2020  ...      2 -1\n",
              "6  Thu Oct 29 20:12:39 +0000 2020  ...      2 -3\n",
              "\n",
              "[5 rows x 3 columns]"
            ]
          },
          "metadata": {
            "tags": []
          },
          "execution_count": 11
        }
      ]
    },
    {
      "cell_type": "code",
      "metadata": {
        "id": "dSRMrle-CAW3"
      },
      "source": [
        "df1['score']  = df1['Sentiment'].apply(lambda s:  s.split())\n",
        "df1['score'] = df1['score'].apply(lambda x :int(x[0])+int(x[1]))\n"
      ],
      "execution_count": 12,
      "outputs": []
    },
    {
      "cell_type": "code",
      "metadata": {
        "colab": {
          "base_uri": "https://localhost:8080/",
          "height": 196
        },
        "id": "FexTCiwZC9RG",
        "outputId": "b7193863-27df-40a7-e960-0f046f07a039"
      },
      "source": [
        "df1.head()"
      ],
      "execution_count": 13,
      "outputs": [
        {
          "output_type": "execute_result",
          "data": {
            "text/html": [
              "<div>\n",
              "<style scoped>\n",
              "    .dataframe tbody tr th:only-of-type {\n",
              "        vertical-align: middle;\n",
              "    }\n",
              "\n",
              "    .dataframe tbody tr th {\n",
              "        vertical-align: top;\n",
              "    }\n",
              "\n",
              "    .dataframe thead th {\n",
              "        text-align: right;\n",
              "    }\n",
              "</style>\n",
              "<table border=\"1\" class=\"dataframe\">\n",
              "  <thead>\n",
              "    <tr style=\"text-align: right;\">\n",
              "      <th></th>\n",
              "      <th>TimeStamp</th>\n",
              "      <th>Tweet</th>\n",
              "      <th>Sentiment</th>\n",
              "      <th>score</th>\n",
              "    </tr>\n",
              "  </thead>\n",
              "  <tbody>\n",
              "    <tr>\n",
              "      <th>2</th>\n",
              "      <td>Thu Jul 02 15:14:44 +0000 2020</td>\n",
              "      <td>claw back:Clawback:-2.8650884132444534;</td>\n",
              "      <td>1 -1</td>\n",
              "      <td>0</td>\n",
              "    </tr>\n",
              "    <tr>\n",
              "      <th>3</th>\n",
              "      <td>Wed Oct 28 09:39:31 +0000 2020</td>\n",
              "      <td>where i live:Where_I_Live:-2.284433538491413;</td>\n",
              "      <td>1 -3</td>\n",
              "      <td>-2</td>\n",
              "    </tr>\n",
              "    <tr>\n",
              "      <th>4</th>\n",
              "      <td>Wed Aug 19 13:40:03 +0000 2020</td>\n",
              "      <td>tu quoque:Tu_quoque:-1.1387633458589146;</td>\n",
              "      <td>2 -1</td>\n",
              "      <td>1</td>\n",
              "    </tr>\n",
              "    <tr>\n",
              "      <th>5</th>\n",
              "      <td>Fri Sep 04 09:44:29 +0000 2020</td>\n",
              "      <td>sarkodie:Sarkodie_%28rapper%29:-1.195632594385...</td>\n",
              "      <td>2 -1</td>\n",
              "      <td>1</td>\n",
              "    </tr>\n",
              "    <tr>\n",
              "      <th>6</th>\n",
              "      <td>Thu Oct 29 20:12:39 +0000 2020</td>\n",
              "      <td>kidding:Kidding:-2.9308236049363066;</td>\n",
              "      <td>2 -3</td>\n",
              "      <td>-1</td>\n",
              "    </tr>\n",
              "  </tbody>\n",
              "</table>\n",
              "</div>"
            ],
            "text/plain": [
              "                        TimeStamp  ... score\n",
              "2  Thu Jul 02 15:14:44 +0000 2020  ...     0\n",
              "3  Wed Oct 28 09:39:31 +0000 2020  ...    -2\n",
              "4  Wed Aug 19 13:40:03 +0000 2020  ...     1\n",
              "5  Fri Sep 04 09:44:29 +0000 2020  ...     1\n",
              "6  Thu Oct 29 20:12:39 +0000 2020  ...    -1\n",
              "\n",
              "[5 rows x 4 columns]"
            ]
          },
          "metadata": {
            "tags": []
          },
          "execution_count": 13
        }
      ]
    },
    {
      "cell_type": "code",
      "metadata": {
        "id": "13hQC7z4DYMS"
      },
      "source": [
        "df1['label'] = df1['score'].apply(lambda c: 'pos' if c >0 else ('neu' if c==0 else 'neg'))"
      ],
      "execution_count": 14,
      "outputs": []
    },
    {
      "cell_type": "code",
      "metadata": {
        "colab": {
          "base_uri": "https://localhost:8080/",
          "height": 196
        },
        "id": "5QMyy25bFgv_",
        "outputId": "19efbe3e-0128-4bdf-b034-1429415bac18"
      },
      "source": [
        "df1.head()"
      ],
      "execution_count": 15,
      "outputs": [
        {
          "output_type": "execute_result",
          "data": {
            "text/html": [
              "<div>\n",
              "<style scoped>\n",
              "    .dataframe tbody tr th:only-of-type {\n",
              "        vertical-align: middle;\n",
              "    }\n",
              "\n",
              "    .dataframe tbody tr th {\n",
              "        vertical-align: top;\n",
              "    }\n",
              "\n",
              "    .dataframe thead th {\n",
              "        text-align: right;\n",
              "    }\n",
              "</style>\n",
              "<table border=\"1\" class=\"dataframe\">\n",
              "  <thead>\n",
              "    <tr style=\"text-align: right;\">\n",
              "      <th></th>\n",
              "      <th>TimeStamp</th>\n",
              "      <th>Tweet</th>\n",
              "      <th>Sentiment</th>\n",
              "      <th>score</th>\n",
              "      <th>label</th>\n",
              "    </tr>\n",
              "  </thead>\n",
              "  <tbody>\n",
              "    <tr>\n",
              "      <th>2</th>\n",
              "      <td>Thu Jul 02 15:14:44 +0000 2020</td>\n",
              "      <td>claw back:Clawback:-2.8650884132444534;</td>\n",
              "      <td>1 -1</td>\n",
              "      <td>0</td>\n",
              "      <td>neu</td>\n",
              "    </tr>\n",
              "    <tr>\n",
              "      <th>3</th>\n",
              "      <td>Wed Oct 28 09:39:31 +0000 2020</td>\n",
              "      <td>where i live:Where_I_Live:-2.284433538491413;</td>\n",
              "      <td>1 -3</td>\n",
              "      <td>-2</td>\n",
              "      <td>neg</td>\n",
              "    </tr>\n",
              "    <tr>\n",
              "      <th>4</th>\n",
              "      <td>Wed Aug 19 13:40:03 +0000 2020</td>\n",
              "      <td>tu quoque:Tu_quoque:-1.1387633458589146;</td>\n",
              "      <td>2 -1</td>\n",
              "      <td>1</td>\n",
              "      <td>pos</td>\n",
              "    </tr>\n",
              "    <tr>\n",
              "      <th>5</th>\n",
              "      <td>Fri Sep 04 09:44:29 +0000 2020</td>\n",
              "      <td>sarkodie:Sarkodie_%28rapper%29:-1.195632594385...</td>\n",
              "      <td>2 -1</td>\n",
              "      <td>1</td>\n",
              "      <td>pos</td>\n",
              "    </tr>\n",
              "    <tr>\n",
              "      <th>6</th>\n",
              "      <td>Thu Oct 29 20:12:39 +0000 2020</td>\n",
              "      <td>kidding:Kidding:-2.9308236049363066;</td>\n",
              "      <td>2 -3</td>\n",
              "      <td>-1</td>\n",
              "      <td>neg</td>\n",
              "    </tr>\n",
              "  </tbody>\n",
              "</table>\n",
              "</div>"
            ],
            "text/plain": [
              "                        TimeStamp  ... label\n",
              "2  Thu Jul 02 15:14:44 +0000 2020  ...   neu\n",
              "3  Wed Oct 28 09:39:31 +0000 2020  ...   neg\n",
              "4  Wed Aug 19 13:40:03 +0000 2020  ...   pos\n",
              "5  Fri Sep 04 09:44:29 +0000 2020  ...   pos\n",
              "6  Thu Oct 29 20:12:39 +0000 2020  ...   neg\n",
              "\n",
              "[5 rows x 5 columns]"
            ]
          },
          "metadata": {
            "tags": []
          },
          "execution_count": 15
        }
      ]
    },
    {
      "cell_type": "code",
      "metadata": {
        "colab": {
          "base_uri": "https://localhost:8080/"
        },
        "id": "hz0CPemGFjBK",
        "outputId": "a6ab0dca-cc74-4f9c-a138-3cc93aada4ba"
      },
      "source": [
        "df1['label'].value_counts()"
      ],
      "execution_count": 16,
      "outputs": [
        {
          "output_type": "execute_result",
          "data": {
            "text/plain": [
              "neu    43266\n",
              "pos    31864\n",
              "neg    28339\n",
              "Name: label, dtype: int64"
            ]
          },
          "metadata": {
            "tags": []
          },
          "execution_count": 16
        }
      ]
    },
    {
      "cell_type": "code",
      "metadata": {
        "id": "d9sHSrDCFog8"
      },
      "source": [
        "import re\n",
        "contractions_dict = {\"can`t\":\"can not\",\n",
        "                     \"won`t\":\"will not\",\n",
        "                     \"don`t\":\"do not\",\n",
        "                     \"aren`t\":\"are not\",\n",
        "                     \"i`d\":\"i would\",\n",
        "                     \"couldn`t\": \"could not\",\n",
        "                     \"shouldn`t\": \"should not\",\n",
        "                     \"wouldn`t\": \"would not\",\n",
        "                     \"isn`t\": \"is not\",\n",
        "                     \"it`s\": \"it is\",\n",
        "                     \"didn`t\": \"did not\",\n",
        "                     \"weren`t\": \"were not\",\n",
        "                     \"mustn`t\": \"must not\",\n",
        "                    }\n",
        "\n",
        "def prepare_data(df1:pd.DataFrame) -> pd.DataFrame:\n",
        "    \n",
        "    df1[\"text\"] = df1[\"text\"] \\\n",
        "              .apply(lambda x: re.split('http:\\/\\/.*', str(x))[0]) \\\n",
        "              .str.lower() \\\n",
        "              .apply(lambda x: replace_words(x,contractions_dict))\n",
        "        \n",
        "    df1[\"label\"] = df1[\"label\"].map(\n",
        "                        {\"neu\": 1, \"neg\":0, \"pos\":2 }\n",
        "                        )\n",
        "    return df1.text.values, df1.label.values\n",
        "def replace_words(string:str, dictionary:dict):\n",
        "    for k, v in dictionary.items():\n",
        "        string = string.replace(k, v)\n",
        "    return string\n"
      ],
      "execution_count": 17,
      "outputs": []
    },
    {
      "cell_type": "code",
      "metadata": {
        "colab": {
          "base_uri": "https://localhost:8080/"
        },
        "id": "2lP42282Gts-",
        "outputId": "fb36b568-8e82-49ca-da6f-75a39f8dabdb"
      },
      "source": [
        "from sklearn import datasets, linear_model\n",
        "from sklearn.model_selection import train_test_split\n",
        "from matplotlib import pyplot as plt\n",
        "sample = df1.sample(n=15000)\n",
        "X = sample.Tweet\n",
        "Y =sample.label\n",
        "\n",
        "X_train, X_test, y_train, y_test = train_test_split(X, Y, test_size=0.2)\n",
        "print(X_train.shape, y_train.shape)\n",
        "print(X_test.shape, y_test.shape)\n",
        "\n",
        "\n",
        "\n",
        "X_train = X_train \\\n",
        "              .apply(lambda x: re.split('http:\\/\\/.*', str(x))[0]) \\\n",
        "              .str.lower() \\\n",
        "              .apply(lambda x: replace_words(x,contractions_dict))\n",
        "\n",
        "X_test = X_test \\\n",
        "              .apply(lambda x: re.split('http:\\/\\/.*', str(x))[0]) \\\n",
        "              .str.lower() \\\n",
        "              .apply(lambda x: replace_words(x,contractions_dict))\n",
        "\n",
        "y_train =  y_train.map(\n",
        "                        {\"neu\": 1, \"neg\":0, \"pos\":2 }\n",
        "                        )\n",
        "y_test = y_test.map(\n",
        "                        {\"neu\": 1, \"neg\":0, \"pos\":2 }\n",
        "                        )\n"
      ],
      "execution_count": 18,
      "outputs": [
        {
          "output_type": "stream",
          "text": [
            "(12000,) (12000,)\n",
            "(3000,) (3000,)\n"
          ],
          "name": "stdout"
        }
      ]
    },
    {
      "cell_type": "code",
      "metadata": {
        "id": "y7b_U7RFGx9A"
      },
      "source": [
        "train_tweets, train_labels = X_train,y_train\n",
        "test_tweets, test_labels = X_test,y_test"
      ],
      "execution_count": 19,
      "outputs": []
    },
    {
      "cell_type": "code",
      "metadata": {
        "colab": {
          "base_uri": "https://localhost:8080/"
        },
        "id": "cnHNGiruICdk",
        "outputId": "2dd2f30f-6fe9-4a72-fd1e-16cedd33b1ca"
      },
      "source": [
        "pip install keras"
      ],
      "execution_count": 1,
      "outputs": [
        {
          "output_type": "stream",
          "text": [
            "Requirement already satisfied: keras in /usr/local/lib/python3.7/dist-packages (2.4.3)\n",
            "Requirement already satisfied: numpy>=1.9.1 in /usr/local/lib/python3.7/dist-packages (from keras) (1.19.5)\n",
            "Requirement already satisfied: scipy>=0.14 in /usr/local/lib/python3.7/dist-packages (from keras) (1.4.1)\n",
            "Requirement already satisfied: pyyaml in /usr/local/lib/python3.7/dist-packages (from keras) (3.13)\n",
            "Requirement already satisfied: h5py in /usr/local/lib/python3.7/dist-packages (from keras) (2.10.0)\n",
            "Requirement already satisfied: six in /usr/local/lib/python3.7/dist-packages (from h5py->keras) (1.15.0)\n"
          ],
          "name": "stdout"
        }
      ]
    },
    {
      "cell_type": "code",
      "metadata": {
        "id": "0Z8XRr3dG8mp"
      },
      "source": [
        "from keras.preprocessing.text import Tokenizer\n",
        "tokenizer = Tokenizer()\n",
        "tokenizer.fit_on_texts(train_tweets)\n",
        "train_tokenized = tokenizer.texts_to_matrix(\n",
        "                             train_tweets,\n",
        "                             mode='tfidf'\n",
        "                             )\n",
        "test_tokenized = tokenizer.texts_to_matrix(\n",
        "                             test_tweets,\n",
        "                             mode='tfidf'\n",
        "                             )"
      ],
      "execution_count": 20,
      "outputs": []
    },
    {
      "cell_type": "code",
      "metadata": {
        "colab": {
          "base_uri": "https://localhost:8080/"
        },
        "id": "bH2SWWiRHA9k",
        "outputId": "de8e0720-ee8c-4f8f-da44-30717ee1427b"
      },
      "source": [
        "from  sklearn.ensemble import RandomForestClassifier\n",
        "forest = RandomForestClassifier(\n",
        "                                n_estimators=500, \n",
        "                                min_samples_leaf=2,\n",
        "                                oob_score=True,\n",
        "                                n_jobs=-1,\n",
        "                                )\n",
        "forest.fit(train_tokenized,train_labels)\n",
        "print(f\"Train score: {forest.score(train_tokenized,train_labels)}\")\n",
        "print(f\"OOB score: {forest.oob_score_}\")"
      ],
      "execution_count": 21,
      "outputs": [
        {
          "output_type": "stream",
          "text": [
            "Train score: 0.65825\n",
            "OOB score: 0.44658333333333333\n"
          ],
          "name": "stdout"
        }
      ]
    },
    {
      "cell_type": "code",
      "metadata": {
        "colab": {
          "base_uri": "https://localhost:8080/"
        },
        "id": "676d5ByJOjXn",
        "outputId": "2b1279b9-70ad-403a-a199-df74114348d4"
      },
      "source": [
        "print(\"Test score:\", forest.score(test_tokenized,test_labels))"
      ],
      "execution_count": 22,
      "outputs": [
        {
          "output_type": "stream",
          "text": [
            "Test score: 0.4603333333333333\n"
          ],
          "name": "stdout"
        }
      ]
    },
    {
      "cell_type": "markdown",
      "metadata": {
        "id": "V1bidl9XLpo9"
      },
      "source": [
        "##Vader benchmark"
      ]
    },
    {
      "cell_type": "code",
      "metadata": {
        "id": "L7mZWhUXHIDW"
      },
      "source": [
        ""
      ],
      "execution_count": null,
      "outputs": []
    }
  ]
}