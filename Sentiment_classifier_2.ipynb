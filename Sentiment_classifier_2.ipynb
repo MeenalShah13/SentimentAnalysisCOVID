{
  "nbformat": 4,
  "nbformat_minor": 0,
  "metadata": {
    "colab": {
      "name": "Sentiment classifier 2.ipynb",
      "provenance": [],
      "authorship_tag": "ABX9TyNQAyfcIZVAN+Xdo+aShIy0",
      "include_colab_link": true
    },
    "kernelspec": {
      "name": "python3",
      "display_name": "Python 3"
    },
    "language_info": {
      "name": "python"
    }
  },
  "cells": [
    {
      "cell_type": "markdown",
      "metadata": {
        "id": "view-in-github",
        "colab_type": "text"
      },
      "source": [
        "<a href=\"https://colab.research.google.com/github/MeenalShah13/SentimentAnalysisCOVID/blob/main/Sentiment_classifier_2.ipynb\" target=\"_parent\"><img src=\"https://colab.research.google.com/assets/colab-badge.svg\" alt=\"Open In Colab\"/></a>"
      ]
    },
    {
      "cell_type": "code",
      "metadata": {
        "colab": {
          "base_uri": "https://localhost:8080/"
        },
        "id": "d9KkJKDb73Bz",
        "outputId": "c083efea-68fb-4916-8013-a1af59cff375"
      },
      "source": [
        "###!wget https://github.com/MeenalShah13/SentimentAnalysisCOVID/sample_data.zip"
      ],
      "execution_count": 3,
      "outputs": [
        {
          "output_type": "stream",
          "text": [
            "--2021-04-05 16:53:25--  https://github.com/MeenalShah13/SentimentAnalysisCOVID/sample_data.zip\n",
            "Resolving github.com (github.com)... 140.82.113.3\n",
            "Connecting to github.com (github.com)|140.82.113.3|:443... connected.\n",
            "HTTP request sent, awaiting response... 404 Not Found\n",
            "2021-04-05 16:53:25 ERROR 404: Not Found.\n",
            "\n"
          ],
          "name": "stdout"
        }
      ]
    },
    {
      "cell_type": "code",
      "metadata": {
        "colab": {
          "base_uri": "https://localhost:8080/"
        },
        "id": "wtkKC48Q8kqK",
        "outputId": "3f871eb6-bb36-494e-8287-33e596dd992c"
      },
      "source": [
        "!unzip sample_data.zip"
      ],
      "execution_count": 4,
      "outputs": [
        {
          "output_type": "stream",
          "text": [
            "Archive:  sample_data.zip\n",
            "  inflating: sample_data.csv         \n"
          ],
          "name": "stdout"
        }
      ]
    },
    {
      "cell_type": "code",
      "metadata": {
        "id": "QLgX7Njy85di"
      },
      "source": [
        "import pandas as pd\n",
        "import numpy as np"
      ],
      "execution_count": 5,
      "outputs": []
    },
    {
      "cell_type": "code",
      "metadata": {
        "colab": {
          "base_uri": "https://localhost:8080/",
          "height": 534
        },
        "id": "C5Ar80Hu_lY4",
        "outputId": "80eb5533-793e-4a8d-9012-94119ab13c7c"
      },
      "source": [
        "df=pd.read_csv('sample_data.csv')\n",
        "df.head()"
      ],
      "execution_count": 6,
      "outputs": [
        {
          "output_type": "execute_result",
          "data": {
            "text/html": [
              "<div>\n",
              "<style scoped>\n",
              "    .dataframe tbody tr th:only-of-type {\n",
              "        vertical-align: middle;\n",
              "    }\n",
              "\n",
              "    .dataframe tbody tr th {\n",
              "        vertical-align: top;\n",
              "    }\n",
              "\n",
              "    .dataframe thead th {\n",
              "        text-align: right;\n",
              "    }\n",
              "</style>\n",
              "<table border=\"1\" class=\"dataframe\">\n",
              "  <thead>\n",
              "    <tr style=\"text-align: right;\">\n",
              "      <th></th>\n",
              "      <th>TweetID</th>\n",
              "      <th>Username</th>\n",
              "      <th>TimeStamp</th>\n",
              "      <th>Follower_num</th>\n",
              "      <th>Friend_num</th>\n",
              "      <th>Retweets_num</th>\n",
              "      <th>Favourites_num</th>\n",
              "      <th>Tweet</th>\n",
              "      <th>Sentiment</th>\n",
              "      <th>Mentions</th>\n",
              "      <th>Hashtags</th>\n",
              "      <th>URL</th>\n",
              "    </tr>\n",
              "  </thead>\n",
              "  <tbody>\n",
              "    <tr>\n",
              "      <th>0</th>\n",
              "      <td>1338226694444859394</td>\n",
              "      <td>089be85f6a89c59e88023f993960401a</td>\n",
              "      <td>Sun Dec 13 20:58:01 +0000 2020</td>\n",
              "      <td>188</td>\n",
              "      <td>199</td>\n",
              "      <td>0</td>\n",
              "      <td>0</td>\n",
              "      <td>null;</td>\n",
              "      <td>1 -4</td>\n",
              "      <td>MikeEmanuelFox</td>\n",
              "      <td>null;</td>\n",
              "      <td>null;</td>\n",
              "    </tr>\n",
              "    <tr>\n",
              "      <th>1</th>\n",
              "      <td>1300246448995409924</td>\n",
              "      <td>7b32b6b1251ff68e93fbca72ac103d28</td>\n",
              "      <td>Mon Aug 31 01:38:05 +0000 2020</td>\n",
              "      <td>1524</td>\n",
              "      <td>323</td>\n",
              "      <td>5</td>\n",
              "      <td>10</td>\n",
              "      <td>null;</td>\n",
              "      <td>1 -3</td>\n",
              "      <td>johncardillo</td>\n",
              "      <td>null;</td>\n",
              "      <td>null;</td>\n",
              "    </tr>\n",
              "    <tr>\n",
              "      <th>2</th>\n",
              "      <td>1278708694390173696</td>\n",
              "      <td>43250c612d875e4b4723f8bc9267f4e4</td>\n",
              "      <td>Thu Jul 02 15:14:44 +0000 2020</td>\n",
              "      <td>4018</td>\n",
              "      <td>4357</td>\n",
              "      <td>0</td>\n",
              "      <td>0</td>\n",
              "      <td>claw back:Clawback:-2.8650884132444534;</td>\n",
              "      <td>1 -1</td>\n",
              "      <td>null;</td>\n",
              "      <td>null;</td>\n",
              "      <td>https://www.wsj.com/articles/businesses-hit-ha...</td>\n",
              "    </tr>\n",
              "    <tr>\n",
              "      <th>3</th>\n",
              "      <td>1321386099785293824</td>\n",
              "      <td>47274922378102842a9d0d3864a9f732</td>\n",
              "      <td>Wed Oct 28 09:39:31 +0000 2020</td>\n",
              "      <td>744</td>\n",
              "      <td>732</td>\n",
              "      <td>9</td>\n",
              "      <td>17</td>\n",
              "      <td>where i live:Where_I_Live:-2.284433538491413;</td>\n",
              "      <td>1 -3</td>\n",
              "      <td>confidencenac</td>\n",
              "      <td>null;</td>\n",
              "      <td>null;</td>\n",
              "    </tr>\n",
              "    <tr>\n",
              "      <th>4</th>\n",
              "      <td>1296079483523522568</td>\n",
              "      <td>a66b8dc9de405ca8dd7616b74de4c3f8</td>\n",
              "      <td>Wed Aug 19 13:40:03 +0000 2020</td>\n",
              "      <td>15694</td>\n",
              "      <td>30</td>\n",
              "      <td>2</td>\n",
              "      <td>5</td>\n",
              "      <td>tu quoque:Tu_quoque:-1.1387633458589146;</td>\n",
              "      <td>2 -1</td>\n",
              "      <td>null;</td>\n",
              "      <td>null;</td>\n",
              "      <td>null;</td>\n",
              "    </tr>\n",
              "  </tbody>\n",
              "</table>\n",
              "</div>"
            ],
            "text/plain": [
              "               TweetID  ...                                                URL\n",
              "0  1338226694444859394  ...                                              null;\n",
              "1  1300246448995409924  ...                                              null;\n",
              "2  1278708694390173696  ...  https://www.wsj.com/articles/businesses-hit-ha...\n",
              "3  1321386099785293824  ...                                              null;\n",
              "4  1296079483523522568  ...                                              null;\n",
              "\n",
              "[5 rows x 12 columns]"
            ]
          },
          "metadata": {
            "tags": []
          },
          "execution_count": 6
        }
      ]
    },
    {
      "cell_type": "code",
      "metadata": {
        "colab": {
          "base_uri": "https://localhost:8080/"
        },
        "id": "wLVZesVG_rWt",
        "outputId": "3d9728a1-904e-446b-cadf-b13ddb48d528"
      },
      "source": [
        "df.shape"
      ],
      "execution_count": 7,
      "outputs": [
        {
          "output_type": "execute_result",
          "data": {
            "text/plain": [
              "(150000, 12)"
            ]
          },
          "metadata": {
            "tags": []
          },
          "execution_count": 7
        }
      ]
    },
    {
      "cell_type": "code",
      "metadata": {
        "colab": {
          "base_uri": "https://localhost:8080/"
        },
        "id": "brEnmygNBAFm",
        "outputId": "d3b57e6a-057d-4121-9aed-a06db96063bd"
      },
      "source": [
        "df.isnull().sum() "
      ],
      "execution_count": 9,
      "outputs": [
        {
          "output_type": "execute_result",
          "data": {
            "text/plain": [
              "TweetID             0\n",
              "Username            0\n",
              "TimeStamp           0\n",
              "Follower_num        0\n",
              "Friend_num          0\n",
              "Retweets_num        0\n",
              "Favourites_num      0\n",
              "Tweet               0\n",
              "Sentiment           0\n",
              "Mentions          270\n",
              "Hashtags           58\n",
              "URL                 0\n",
              "dtype: int64"
            ]
          },
          "metadata": {
            "tags": []
          },
          "execution_count": 9
        }
      ]
    },
    {
      "cell_type": "code",
      "metadata": {
        "id": "7XG995UQBBxj"
      },
      "source": [
        "df = df.dropna()"
      ],
      "execution_count": 10,
      "outputs": []
    },
    {
      "cell_type": "code",
      "metadata": {
        "colab": {
          "base_uri": "https://localhost:8080/"
        },
        "id": "rJi66M5dBJXb",
        "outputId": "d4e7605b-afd0-472a-ca74-723255987a92"
      },
      "source": [
        "df.duplicated().sum()"
      ],
      "execution_count": 11,
      "outputs": [
        {
          "output_type": "execute_result",
          "data": {
            "text/plain": [
              "0"
            ]
          },
          "metadata": {
            "tags": []
          },
          "execution_count": 11
        }
      ]
    },
    {
      "cell_type": "code",
      "metadata": {
        "colab": {
          "base_uri": "https://localhost:8080/",
          "height": 196
        },
        "id": "qzNN17_4BLn6",
        "outputId": "a5c7e920-ec53-4fb0-cf1b-1f84206c1ff7"
      },
      "source": [
        "df1 = df.drop(['TweetID','Username','Follower_num','Friend_num','Retweets_num','Favourites_num','Mentions','URL','Hashtags'],axis=1)\n",
        "df1.head()"
      ],
      "execution_count": 15,
      "outputs": [
        {
          "output_type": "execute_result",
          "data": {
            "text/html": [
              "<div>\n",
              "<style scoped>\n",
              "    .dataframe tbody tr th:only-of-type {\n",
              "        vertical-align: middle;\n",
              "    }\n",
              "\n",
              "    .dataframe tbody tr th {\n",
              "        vertical-align: top;\n",
              "    }\n",
              "\n",
              "    .dataframe thead th {\n",
              "        text-align: right;\n",
              "    }\n",
              "</style>\n",
              "<table border=\"1\" class=\"dataframe\">\n",
              "  <thead>\n",
              "    <tr style=\"text-align: right;\">\n",
              "      <th></th>\n",
              "      <th>TimeStamp</th>\n",
              "      <th>Tweet</th>\n",
              "      <th>Sentiment</th>\n",
              "    </tr>\n",
              "  </thead>\n",
              "  <tbody>\n",
              "    <tr>\n",
              "      <th>0</th>\n",
              "      <td>Sun Dec 13 20:58:01 +0000 2020</td>\n",
              "      <td>null;</td>\n",
              "      <td>1 -4</td>\n",
              "    </tr>\n",
              "    <tr>\n",
              "      <th>1</th>\n",
              "      <td>Mon Aug 31 01:38:05 +0000 2020</td>\n",
              "      <td>null;</td>\n",
              "      <td>1 -3</td>\n",
              "    </tr>\n",
              "    <tr>\n",
              "      <th>2</th>\n",
              "      <td>Thu Jul 02 15:14:44 +0000 2020</td>\n",
              "      <td>claw back:Clawback:-2.8650884132444534;</td>\n",
              "      <td>1 -1</td>\n",
              "    </tr>\n",
              "    <tr>\n",
              "      <th>3</th>\n",
              "      <td>Wed Oct 28 09:39:31 +0000 2020</td>\n",
              "      <td>where i live:Where_I_Live:-2.284433538491413;</td>\n",
              "      <td>1 -3</td>\n",
              "    </tr>\n",
              "    <tr>\n",
              "      <th>4</th>\n",
              "      <td>Wed Aug 19 13:40:03 +0000 2020</td>\n",
              "      <td>tu quoque:Tu_quoque:-1.1387633458589146;</td>\n",
              "      <td>2 -1</td>\n",
              "    </tr>\n",
              "  </tbody>\n",
              "</table>\n",
              "</div>"
            ],
            "text/plain": [
              "                        TimeStamp  ... Sentiment\n",
              "0  Sun Dec 13 20:58:01 +0000 2020  ...      1 -4\n",
              "1  Mon Aug 31 01:38:05 +0000 2020  ...      1 -3\n",
              "2  Thu Jul 02 15:14:44 +0000 2020  ...      1 -1\n",
              "3  Wed Oct 28 09:39:31 +0000 2020  ...      1 -3\n",
              "4  Wed Aug 19 13:40:03 +0000 2020  ...      2 -1\n",
              "\n",
              "[5 rows x 3 columns]"
            ]
          },
          "metadata": {
            "tags": []
          },
          "execution_count": 15
        }
      ]
    },
    {
      "cell_type": "code",
      "metadata": {
        "colab": {
          "base_uri": "https://localhost:8080/"
        },
        "id": "Am6RoXL7BnYs",
        "outputId": "4dc4c135-1291-4929-a1a7-f551a96e9d3a"
      },
      "source": [
        "df1.shape"
      ],
      "execution_count": 13,
      "outputs": [
        {
          "output_type": "execute_result",
          "data": {
            "text/plain": [
              "(149672, 4)"
            ]
          },
          "metadata": {
            "tags": []
          },
          "execution_count": 13
        }
      ]
    },
    {
      "cell_type": "code",
      "metadata": {
        "colab": {
          "base_uri": "https://localhost:8080/"
        },
        "id": "n6rAUpluBwec",
        "outputId": "b8947a57-3edc-422b-9e40-78e9fa65089c"
      },
      "source": [
        "blanks=[]\n",
        "for i,time,tweet,senti in df1.itertuples():  # iterate over the DataFrame\n",
        "    if type(tweet)==str:            # avoid NaN values\n",
        "        if tweet=='null;':         # test 'review' for whitespace\n",
        "            blanks.append(i)     # add matching index numbers to the list\n",
        "\n",
        "df1.drop(blanks, inplace=True)\n",
        "df1.shape"
      ],
      "execution_count": 19,
      "outputs": [
        {
          "output_type": "execute_result",
          "data": {
            "text/plain": [
              "(103469, 3)"
            ]
          },
          "metadata": {
            "tags": []
          },
          "execution_count": 19
        }
      ]
    },
    {
      "cell_type": "code",
      "metadata": {
        "colab": {
          "base_uri": "https://localhost:8080/",
          "height": 196
        },
        "id": "f9nLnwFHDMSB",
        "outputId": "727368dd-0f51-4c07-dc5d-ab1b3ecce6bd"
      },
      "source": [
        "df1.head()"
      ],
      "execution_count": 21,
      "outputs": [
        {
          "output_type": "execute_result",
          "data": {
            "text/html": [
              "<div>\n",
              "<style scoped>\n",
              "    .dataframe tbody tr th:only-of-type {\n",
              "        vertical-align: middle;\n",
              "    }\n",
              "\n",
              "    .dataframe tbody tr th {\n",
              "        vertical-align: top;\n",
              "    }\n",
              "\n",
              "    .dataframe thead th {\n",
              "        text-align: right;\n",
              "    }\n",
              "</style>\n",
              "<table border=\"1\" class=\"dataframe\">\n",
              "  <thead>\n",
              "    <tr style=\"text-align: right;\">\n",
              "      <th></th>\n",
              "      <th>TimeStamp</th>\n",
              "      <th>Tweet</th>\n",
              "      <th>Sentiment</th>\n",
              "    </tr>\n",
              "  </thead>\n",
              "  <tbody>\n",
              "    <tr>\n",
              "      <th>2</th>\n",
              "      <td>Thu Jul 02 15:14:44 +0000 2020</td>\n",
              "      <td>claw back:Clawback:-2.8650884132444534;</td>\n",
              "      <td>1 -1</td>\n",
              "    </tr>\n",
              "    <tr>\n",
              "      <th>3</th>\n",
              "      <td>Wed Oct 28 09:39:31 +0000 2020</td>\n",
              "      <td>where i live:Where_I_Live:-2.284433538491413;</td>\n",
              "      <td>1 -3</td>\n",
              "    </tr>\n",
              "    <tr>\n",
              "      <th>4</th>\n",
              "      <td>Wed Aug 19 13:40:03 +0000 2020</td>\n",
              "      <td>tu quoque:Tu_quoque:-1.1387633458589146;</td>\n",
              "      <td>2 -1</td>\n",
              "    </tr>\n",
              "    <tr>\n",
              "      <th>5</th>\n",
              "      <td>Fri Sep 04 09:44:29 +0000 2020</td>\n",
              "      <td>sarkodie:Sarkodie_%28rapper%29:-1.195632594385...</td>\n",
              "      <td>2 -1</td>\n",
              "    </tr>\n",
              "    <tr>\n",
              "      <th>6</th>\n",
              "      <td>Thu Oct 29 20:12:39 +0000 2020</td>\n",
              "      <td>kidding:Kidding:-2.9308236049363066;</td>\n",
              "      <td>2 -3</td>\n",
              "    </tr>\n",
              "  </tbody>\n",
              "</table>\n",
              "</div>"
            ],
            "text/plain": [
              "                        TimeStamp  ... Sentiment\n",
              "2  Thu Jul 02 15:14:44 +0000 2020  ...      1 -1\n",
              "3  Wed Oct 28 09:39:31 +0000 2020  ...      1 -3\n",
              "4  Wed Aug 19 13:40:03 +0000 2020  ...      2 -1\n",
              "5  Fri Sep 04 09:44:29 +0000 2020  ...      2 -1\n",
              "6  Thu Oct 29 20:12:39 +0000 2020  ...      2 -3\n",
              "\n",
              "[5 rows x 3 columns]"
            ]
          },
          "metadata": {
            "tags": []
          },
          "execution_count": 21
        }
      ]
    },
    {
      "cell_type": "code",
      "metadata": {
        "id": "dSRMrle-CAW3"
      },
      "source": [
        "df1['score']  = df1['Sentiment'].apply(lambda s:  s.split())\n",
        "df1['score'] = df1['score'].apply(lambda x :int(x[0])+int(x[1]))\n"
      ],
      "execution_count": 28,
      "outputs": []
    },
    {
      "cell_type": "code",
      "metadata": {
        "colab": {
          "base_uri": "https://localhost:8080/",
          "height": 196
        },
        "id": "FexTCiwZC9RG",
        "outputId": "9b9c9734-4ea3-4aa1-bafa-3d0295aae803"
      },
      "source": [
        "df1.head()"
      ],
      "execution_count": 29,
      "outputs": [
        {
          "output_type": "execute_result",
          "data": {
            "text/html": [
              "<div>\n",
              "<style scoped>\n",
              "    .dataframe tbody tr th:only-of-type {\n",
              "        vertical-align: middle;\n",
              "    }\n",
              "\n",
              "    .dataframe tbody tr th {\n",
              "        vertical-align: top;\n",
              "    }\n",
              "\n",
              "    .dataframe thead th {\n",
              "        text-align: right;\n",
              "    }\n",
              "</style>\n",
              "<table border=\"1\" class=\"dataframe\">\n",
              "  <thead>\n",
              "    <tr style=\"text-align: right;\">\n",
              "      <th></th>\n",
              "      <th>TimeStamp</th>\n",
              "      <th>Tweet</th>\n",
              "      <th>Sentiment</th>\n",
              "      <th>score</th>\n",
              "    </tr>\n",
              "  </thead>\n",
              "  <tbody>\n",
              "    <tr>\n",
              "      <th>2</th>\n",
              "      <td>Thu Jul 02 15:14:44 +0000 2020</td>\n",
              "      <td>claw back:Clawback:-2.8650884132444534;</td>\n",
              "      <td>1 -1</td>\n",
              "      <td>0</td>\n",
              "    </tr>\n",
              "    <tr>\n",
              "      <th>3</th>\n",
              "      <td>Wed Oct 28 09:39:31 +0000 2020</td>\n",
              "      <td>where i live:Where_I_Live:-2.284433538491413;</td>\n",
              "      <td>1 -3</td>\n",
              "      <td>-2</td>\n",
              "    </tr>\n",
              "    <tr>\n",
              "      <th>4</th>\n",
              "      <td>Wed Aug 19 13:40:03 +0000 2020</td>\n",
              "      <td>tu quoque:Tu_quoque:-1.1387633458589146;</td>\n",
              "      <td>2 -1</td>\n",
              "      <td>1</td>\n",
              "    </tr>\n",
              "    <tr>\n",
              "      <th>5</th>\n",
              "      <td>Fri Sep 04 09:44:29 +0000 2020</td>\n",
              "      <td>sarkodie:Sarkodie_%28rapper%29:-1.195632594385...</td>\n",
              "      <td>2 -1</td>\n",
              "      <td>1</td>\n",
              "    </tr>\n",
              "    <tr>\n",
              "      <th>6</th>\n",
              "      <td>Thu Oct 29 20:12:39 +0000 2020</td>\n",
              "      <td>kidding:Kidding:-2.9308236049363066;</td>\n",
              "      <td>2 -3</td>\n",
              "      <td>-1</td>\n",
              "    </tr>\n",
              "  </tbody>\n",
              "</table>\n",
              "</div>"
            ],
            "text/plain": [
              "                        TimeStamp  ... score\n",
              "2  Thu Jul 02 15:14:44 +0000 2020  ...     0\n",
              "3  Wed Oct 28 09:39:31 +0000 2020  ...    -2\n",
              "4  Wed Aug 19 13:40:03 +0000 2020  ...     1\n",
              "5  Fri Sep 04 09:44:29 +0000 2020  ...     1\n",
              "6  Thu Oct 29 20:12:39 +0000 2020  ...    -1\n",
              "\n",
              "[5 rows x 4 columns]"
            ]
          },
          "metadata": {
            "tags": []
          },
          "execution_count": 29
        }
      ]
    },
    {
      "cell_type": "code",
      "metadata": {
        "id": "13hQC7z4DYMS"
      },
      "source": [
        "df1['label'] = df1['score'].apply(lambda c: 'pos' if c >0 else ('neu' if c==0 else 'neg'))"
      ],
      "execution_count": 30,
      "outputs": []
    },
    {
      "cell_type": "code",
      "metadata": {
        "colab": {
          "base_uri": "https://localhost:8080/",
          "height": 196
        },
        "id": "5QMyy25bFgv_",
        "outputId": "e914e383-9e2b-45cc-a583-aba370dd0a7d"
      },
      "source": [
        "df1.head()"
      ],
      "execution_count": 31,
      "outputs": [
        {
          "output_type": "execute_result",
          "data": {
            "text/html": [
              "<div>\n",
              "<style scoped>\n",
              "    .dataframe tbody tr th:only-of-type {\n",
              "        vertical-align: middle;\n",
              "    }\n",
              "\n",
              "    .dataframe tbody tr th {\n",
              "        vertical-align: top;\n",
              "    }\n",
              "\n",
              "    .dataframe thead th {\n",
              "        text-align: right;\n",
              "    }\n",
              "</style>\n",
              "<table border=\"1\" class=\"dataframe\">\n",
              "  <thead>\n",
              "    <tr style=\"text-align: right;\">\n",
              "      <th></th>\n",
              "      <th>TimeStamp</th>\n",
              "      <th>Tweet</th>\n",
              "      <th>Sentiment</th>\n",
              "      <th>score</th>\n",
              "      <th>label</th>\n",
              "    </tr>\n",
              "  </thead>\n",
              "  <tbody>\n",
              "    <tr>\n",
              "      <th>2</th>\n",
              "      <td>Thu Jul 02 15:14:44 +0000 2020</td>\n",
              "      <td>claw back:Clawback:-2.8650884132444534;</td>\n",
              "      <td>1 -1</td>\n",
              "      <td>0</td>\n",
              "      <td>neu</td>\n",
              "    </tr>\n",
              "    <tr>\n",
              "      <th>3</th>\n",
              "      <td>Wed Oct 28 09:39:31 +0000 2020</td>\n",
              "      <td>where i live:Where_I_Live:-2.284433538491413;</td>\n",
              "      <td>1 -3</td>\n",
              "      <td>-2</td>\n",
              "      <td>neg</td>\n",
              "    </tr>\n",
              "    <tr>\n",
              "      <th>4</th>\n",
              "      <td>Wed Aug 19 13:40:03 +0000 2020</td>\n",
              "      <td>tu quoque:Tu_quoque:-1.1387633458589146;</td>\n",
              "      <td>2 -1</td>\n",
              "      <td>1</td>\n",
              "      <td>pos</td>\n",
              "    </tr>\n",
              "    <tr>\n",
              "      <th>5</th>\n",
              "      <td>Fri Sep 04 09:44:29 +0000 2020</td>\n",
              "      <td>sarkodie:Sarkodie_%28rapper%29:-1.195632594385...</td>\n",
              "      <td>2 -1</td>\n",
              "      <td>1</td>\n",
              "      <td>pos</td>\n",
              "    </tr>\n",
              "    <tr>\n",
              "      <th>6</th>\n",
              "      <td>Thu Oct 29 20:12:39 +0000 2020</td>\n",
              "      <td>kidding:Kidding:-2.9308236049363066;</td>\n",
              "      <td>2 -3</td>\n",
              "      <td>-1</td>\n",
              "      <td>neg</td>\n",
              "    </tr>\n",
              "  </tbody>\n",
              "</table>\n",
              "</div>"
            ],
            "text/plain": [
              "                        TimeStamp  ... label\n",
              "2  Thu Jul 02 15:14:44 +0000 2020  ...   neu\n",
              "3  Wed Oct 28 09:39:31 +0000 2020  ...   neg\n",
              "4  Wed Aug 19 13:40:03 +0000 2020  ...   pos\n",
              "5  Fri Sep 04 09:44:29 +0000 2020  ...   pos\n",
              "6  Thu Oct 29 20:12:39 +0000 2020  ...   neg\n",
              "\n",
              "[5 rows x 5 columns]"
            ]
          },
          "metadata": {
            "tags": []
          },
          "execution_count": 31
        }
      ]
    },
    {
      "cell_type": "code",
      "metadata": {
        "colab": {
          "base_uri": "https://localhost:8080/"
        },
        "id": "hz0CPemGFjBK",
        "outputId": "fbe1de01-ec92-46a8-8a96-488626b8ebf8"
      },
      "source": [
        "df1['label'].value_counts()"
      ],
      "execution_count": 33,
      "outputs": [
        {
          "output_type": "execute_result",
          "data": {
            "text/plain": [
              "neu    43266\n",
              "pos    31864\n",
              "neg    28339\n",
              "Name: label, dtype: int64"
            ]
          },
          "metadata": {
            "tags": []
          },
          "execution_count": 33
        }
      ]
    },
    {
      "cell_type": "code",
      "metadata": {
        "id": "d9sHSrDCFog8"
      },
      "source": [
        ""
      ],
      "execution_count": null,
      "outputs": []
    }
  ]
}