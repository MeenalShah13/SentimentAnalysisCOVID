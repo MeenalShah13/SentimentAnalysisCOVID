{
  "nbformat": 4,
  "nbformat_minor": 0,
  "metadata": {
    "colab": {
      "name": "Sentiment Classifier.ipynb",
      "provenance": [],
      "authorship_tag": "ABX9TyPa/JieVzUrQyCjSoAsvj6X",
      "include_colab_link": true
    },
    "kernelspec": {
      "name": "python3",
      "display_name": "Python 3"
    },
    "language_info": {
      "name": "python"
    }
  },
  "cells": [
    {
      "cell_type": "markdown",
      "metadata": {
        "id": "view-in-github",
        "colab_type": "text"
      },
      "source": [
        "<a href=\"https://colab.research.google.com/github/MeenalShah13/SentimentAnalysisCOVID/blob/main/Sentiment_Classifier.ipynb\" target=\"_parent\"><img src=\"https://colab.research.google.com/assets/colab-badge.svg\" alt=\"Open In Colab\"/></a>"
      ]
    },
    {
      "cell_type": "code",
      "metadata": {
        "id": "FTkci3EfWEZ0"
      },
      "source": [
        "import pandas as pd\n",
        "import numpy as np\n"
      ],
      "execution_count": 13,
      "outputs": []
    },
    {
      "cell_type": "code",
      "metadata": {
        "colab": {
          "base_uri": "https://localhost:8080/",
          "height": 434
        },
        "id": "L6M70Ob7UsdD",
        "outputId": "f469cab4-eb11-4c2b-87a3-a230518fd326"
      },
      "source": [
        "tweets=pd.read_csv('covid19_tweets.csv')\n",
        "tweets.head()"
      ],
      "execution_count": 14,
      "outputs": [
        {
          "output_type": "execute_result",
          "data": {
            "text/html": [
              "<div>\n",
              "<style scoped>\n",
              "    .dataframe tbody tr th:only-of-type {\n",
              "        vertical-align: middle;\n",
              "    }\n",
              "\n",
              "    .dataframe tbody tr th {\n",
              "        vertical-align: top;\n",
              "    }\n",
              "\n",
              "    .dataframe thead th {\n",
              "        text-align: right;\n",
              "    }\n",
              "</style>\n",
              "<table border=\"1\" class=\"dataframe\">\n",
              "  <thead>\n",
              "    <tr style=\"text-align: right;\">\n",
              "      <th></th>\n",
              "      <th>user_name</th>\n",
              "      <th>user_location</th>\n",
              "      <th>user_description</th>\n",
              "      <th>user_created</th>\n",
              "      <th>user_followers</th>\n",
              "      <th>user_friends</th>\n",
              "      <th>user_favourites</th>\n",
              "      <th>user_verified</th>\n",
              "      <th>date</th>\n",
              "      <th>text</th>\n",
              "      <th>hashtags</th>\n",
              "      <th>source</th>\n",
              "      <th>is_retweet</th>\n",
              "    </tr>\n",
              "  </thead>\n",
              "  <tbody>\n",
              "    <tr>\n",
              "      <th>0</th>\n",
              "      <td>ᏉᎥ☻լꂅϮ</td>\n",
              "      <td>astroworld</td>\n",
              "      <td>wednesday addams as a disney princess keepin i...</td>\n",
              "      <td>2017-05-26 05:46:42</td>\n",
              "      <td>624</td>\n",
              "      <td>950</td>\n",
              "      <td>18775</td>\n",
              "      <td>False</td>\n",
              "      <td>2020-07-25 12:27:21</td>\n",
              "      <td>If I smelled the scent of hand sanitizers toda...</td>\n",
              "      <td>NaN</td>\n",
              "      <td>Twitter for iPhone</td>\n",
              "      <td>False</td>\n",
              "    </tr>\n",
              "    <tr>\n",
              "      <th>1</th>\n",
              "      <td>Tom Basile 🇺🇸</td>\n",
              "      <td>New York, NY</td>\n",
              "      <td>Husband, Father, Columnist &amp; Commentator. Auth...</td>\n",
              "      <td>2009-04-16 20:06:23</td>\n",
              "      <td>2253</td>\n",
              "      <td>1677</td>\n",
              "      <td>24</td>\n",
              "      <td>True</td>\n",
              "      <td>2020-07-25 12:27:17</td>\n",
              "      <td>Hey @Yankees @YankeesPR and @MLB - wouldn't it...</td>\n",
              "      <td>NaN</td>\n",
              "      <td>Twitter for Android</td>\n",
              "      <td>False</td>\n",
              "    </tr>\n",
              "    <tr>\n",
              "      <th>2</th>\n",
              "      <td>Time4fisticuffs</td>\n",
              "      <td>Pewee Valley, KY</td>\n",
              "      <td>#Christian #Catholic #Conservative #Reagan #Re...</td>\n",
              "      <td>2009-02-28 18:57:41</td>\n",
              "      <td>9275</td>\n",
              "      <td>9525</td>\n",
              "      <td>7254</td>\n",
              "      <td>False</td>\n",
              "      <td>2020-07-25 12:27:14</td>\n",
              "      <td>@diane3443 @wdunlap @realDonaldTrump Trump nev...</td>\n",
              "      <td>['COVID19']</td>\n",
              "      <td>Twitter for Android</td>\n",
              "      <td>False</td>\n",
              "    </tr>\n",
              "    <tr>\n",
              "      <th>3</th>\n",
              "      <td>ethel mertz</td>\n",
              "      <td>Stuck in the Middle</td>\n",
              "      <td>#Browns #Indians #ClevelandProud #[]_[] #Cavs ...</td>\n",
              "      <td>2019-03-07 01:45:06</td>\n",
              "      <td>197</td>\n",
              "      <td>987</td>\n",
              "      <td>1488</td>\n",
              "      <td>False</td>\n",
              "      <td>2020-07-25 12:27:10</td>\n",
              "      <td>@brookbanktv The one gift #COVID19 has give me...</td>\n",
              "      <td>['COVID19']</td>\n",
              "      <td>Twitter for iPhone</td>\n",
              "      <td>False</td>\n",
              "    </tr>\n",
              "    <tr>\n",
              "      <th>4</th>\n",
              "      <td>DIPR-J&amp;K</td>\n",
              "      <td>Jammu and Kashmir</td>\n",
              "      <td>🖊️Official Twitter handle of Department of Inf...</td>\n",
              "      <td>2017-02-12 06:45:15</td>\n",
              "      <td>101009</td>\n",
              "      <td>168</td>\n",
              "      <td>101</td>\n",
              "      <td>False</td>\n",
              "      <td>2020-07-25 12:27:08</td>\n",
              "      <td>25 July : Media Bulletin on Novel #CoronaVirus...</td>\n",
              "      <td>['CoronaVirusUpdates', 'COVID19']</td>\n",
              "      <td>Twitter for Android</td>\n",
              "      <td>False</td>\n",
              "    </tr>\n",
              "  </tbody>\n",
              "</table>\n",
              "</div>"
            ],
            "text/plain": [
              "         user_name         user_location  ...               source is_retweet\n",
              "0           ᏉᎥ☻լꂅϮ            astroworld  ...   Twitter for iPhone      False\n",
              "1    Tom Basile 🇺🇸          New York, NY  ...  Twitter for Android      False\n",
              "2  Time4fisticuffs      Pewee Valley, KY  ...  Twitter for Android      False\n",
              "3      ethel mertz  Stuck in the Middle   ...   Twitter for iPhone      False\n",
              "4         DIPR-J&K     Jammu and Kashmir  ...  Twitter for Android      False\n",
              "\n",
              "[5 rows x 13 columns]"
            ]
          },
          "metadata": {
            "tags": []
          },
          "execution_count": 14
        }
      ]
    },
    {
      "cell_type": "code",
      "metadata": {
        "id": "p5ScW6ebVyE8"
      },
      "source": [
        "df = tweets"
      ],
      "execution_count": 16,
      "outputs": []
    },
    {
      "cell_type": "code",
      "metadata": {
        "colab": {
          "base_uri": "https://localhost:8080/"
        },
        "id": "TkhP8vcQzm7_",
        "outputId": "686e90bd-381d-4e97-c14b-233f534276d9"
      },
      "source": [
        "df.shape"
      ],
      "execution_count": 17,
      "outputs": [
        {
          "output_type": "execute_result",
          "data": {
            "text/plain": [
              "(179108, 13)"
            ]
          },
          "metadata": {
            "tags": []
          },
          "execution_count": 17
        }
      ]
    },
    {
      "cell_type": "code",
      "metadata": {
        "colab": {
          "base_uri": "https://localhost:8080/",
          "height": 286
        },
        "id": "yzigksAqzoYt",
        "outputId": "bdf375a4-9eb6-4642-a268-1aba1d26e662"
      },
      "source": [
        "df.describe()"
      ],
      "execution_count": 18,
      "outputs": [
        {
          "output_type": "execute_result",
          "data": {
            "text/html": [
              "<div>\n",
              "<style scoped>\n",
              "    .dataframe tbody tr th:only-of-type {\n",
              "        vertical-align: middle;\n",
              "    }\n",
              "\n",
              "    .dataframe tbody tr th {\n",
              "        vertical-align: top;\n",
              "    }\n",
              "\n",
              "    .dataframe thead th {\n",
              "        text-align: right;\n",
              "    }\n",
              "</style>\n",
              "<table border=\"1\" class=\"dataframe\">\n",
              "  <thead>\n",
              "    <tr style=\"text-align: right;\">\n",
              "      <th></th>\n",
              "      <th>user_followers</th>\n",
              "      <th>user_friends</th>\n",
              "      <th>user_favourites</th>\n",
              "    </tr>\n",
              "  </thead>\n",
              "  <tbody>\n",
              "    <tr>\n",
              "      <th>count</th>\n",
              "      <td>1.791080e+05</td>\n",
              "      <td>179108.000000</td>\n",
              "      <td>1.791080e+05</td>\n",
              "    </tr>\n",
              "    <tr>\n",
              "      <th>mean</th>\n",
              "      <td>1.090555e+05</td>\n",
              "      <td>2121.701566</td>\n",
              "      <td>1.444411e+04</td>\n",
              "    </tr>\n",
              "    <tr>\n",
              "      <th>std</th>\n",
              "      <td>8.414670e+05</td>\n",
              "      <td>9162.553072</td>\n",
              "      <td>4.452270e+04</td>\n",
              "    </tr>\n",
              "    <tr>\n",
              "      <th>min</th>\n",
              "      <td>0.000000e+00</td>\n",
              "      <td>0.000000</td>\n",
              "      <td>0.000000e+00</td>\n",
              "    </tr>\n",
              "    <tr>\n",
              "      <th>25%</th>\n",
              "      <td>1.720000e+02</td>\n",
              "      <td>148.000000</td>\n",
              "      <td>2.060000e+02</td>\n",
              "    </tr>\n",
              "    <tr>\n",
              "      <th>50%</th>\n",
              "      <td>9.920000e+02</td>\n",
              "      <td>542.000000</td>\n",
              "      <td>1.791000e+03</td>\n",
              "    </tr>\n",
              "    <tr>\n",
              "      <th>75%</th>\n",
              "      <td>5.284000e+03</td>\n",
              "      <td>1725.250000</td>\n",
              "      <td>9.388000e+03</td>\n",
              "    </tr>\n",
              "    <tr>\n",
              "      <th>max</th>\n",
              "      <td>4.944256e+07</td>\n",
              "      <td>497363.000000</td>\n",
              "      <td>2.047197e+06</td>\n",
              "    </tr>\n",
              "  </tbody>\n",
              "</table>\n",
              "</div>"
            ],
            "text/plain": [
              "       user_followers   user_friends  user_favourites\n",
              "count    1.791080e+05  179108.000000     1.791080e+05\n",
              "mean     1.090555e+05    2121.701566     1.444411e+04\n",
              "std      8.414670e+05    9162.553072     4.452270e+04\n",
              "min      0.000000e+00       0.000000     0.000000e+00\n",
              "25%      1.720000e+02     148.000000     2.060000e+02\n",
              "50%      9.920000e+02     542.000000     1.791000e+03\n",
              "75%      5.284000e+03    1725.250000     9.388000e+03\n",
              "max      4.944256e+07  497363.000000     2.047197e+06"
            ]
          },
          "metadata": {
            "tags": []
          },
          "execution_count": 18
        }
      ]
    },
    {
      "cell_type": "code",
      "metadata": {
        "colab": {
          "base_uri": "https://localhost:8080/"
        },
        "id": "ycIszcISxtci",
        "outputId": "222aad97-eadc-41c6-e2a0-7affdf0257b5"
      },
      "source": [
        "df.isnull().sum() "
      ],
      "execution_count": 19,
      "outputs": [
        {
          "output_type": "execute_result",
          "data": {
            "text/plain": [
              "user_name               0\n",
              "user_location       36771\n",
              "user_description    10286\n",
              "user_created            0\n",
              "user_followers          0\n",
              "user_friends            0\n",
              "user_favourites         0\n",
              "user_verified           0\n",
              "date                    0\n",
              "text                    0\n",
              "hashtags            51334\n",
              "source                 77\n",
              "is_retweet              0\n",
              "dtype: int64"
            ]
          },
          "metadata": {
            "tags": []
          },
          "execution_count": 19
        }
      ]
    },
    {
      "cell_type": "code",
      "metadata": {
        "id": "8kqdd5fux595"
      },
      "source": [
        "df = df.dropna()"
      ],
      "execution_count": 20,
      "outputs": []
    },
    {
      "cell_type": "code",
      "metadata": {
        "colab": {
          "base_uri": "https://localhost:8080/"
        },
        "id": "one7PBnVxubP",
        "outputId": "fdb91fbf-03da-4d17-efd5-c49742fe8495"
      },
      "source": [
        "df.duplicated().sum()"
      ],
      "execution_count": 21,
      "outputs": [
        {
          "output_type": "execute_result",
          "data": {
            "text/plain": [
              "0"
            ]
          },
          "metadata": {
            "tags": []
          },
          "execution_count": 21
        }
      ]
    },
    {
      "cell_type": "code",
      "metadata": {
        "id": "F5ffrPoizcXk"
      },
      "source": [
        "df = df.drop_duplicates(subset=None, keep='first', inplace=False)"
      ],
      "execution_count": 24,
      "outputs": []
    },
    {
      "cell_type": "code",
      "metadata": {
        "colab": {
          "base_uri": "https://localhost:8080/"
        },
        "id": "tSoLiNQaxzPY",
        "outputId": "3f83e909-da60-44f2-8add-4b8ef8d88d22"
      },
      "source": [
        "df.isnull().sum()"
      ],
      "execution_count": 25,
      "outputs": [
        {
          "output_type": "execute_result",
          "data": {
            "text/plain": [
              "user_name           0\n",
              "user_location       0\n",
              "user_description    0\n",
              "user_created        0\n",
              "user_followers      0\n",
              "user_friends        0\n",
              "user_favourites     0\n",
              "user_verified       0\n",
              "date                0\n",
              "text                0\n",
              "hashtags            0\n",
              "source              0\n",
              "is_retweet          0\n",
              "dtype: int64"
            ]
          },
          "metadata": {
            "tags": []
          },
          "execution_count": 25
        }
      ]
    },
    {
      "cell_type": "code",
      "metadata": {
        "colab": {
          "base_uri": "https://localhost:8080/"
        },
        "id": "oUbUI2gH1GZT",
        "outputId": "1097c9c8-6061-4a14-f326-29cd8aefe974"
      },
      "source": [
        "df.shape"
      ],
      "execution_count": 26,
      "outputs": [
        {
          "output_type": "execute_result",
          "data": {
            "text/plain": [
              "(99138, 13)"
            ]
          },
          "metadata": {
            "tags": []
          },
          "execution_count": 26
        }
      ]
    },
    {
      "cell_type": "code",
      "metadata": {
        "id": "f78Y73pmynA4"
      },
      "source": [
        "sample = df.sample(n=15000)\n",
        "sample.to_csv('sample_data.csv',index=False)"
      ],
      "execution_count": 27,
      "outputs": []
    },
    {
      "cell_type": "code",
      "metadata": {
        "colab": {
          "base_uri": "https://localhost:8080/",
          "height": 534
        },
        "id": "GxcP2iv31J6Q",
        "outputId": "bc7eea95-d148-4516-c76b-6315d55174d2"
      },
      "source": [
        "sample.head()"
      ],
      "execution_count": 28,
      "outputs": [
        {
          "output_type": "execute_result",
          "data": {
            "text/html": [
              "<div>\n",
              "<style scoped>\n",
              "    .dataframe tbody tr th:only-of-type {\n",
              "        vertical-align: middle;\n",
              "    }\n",
              "\n",
              "    .dataframe tbody tr th {\n",
              "        vertical-align: top;\n",
              "    }\n",
              "\n",
              "    .dataframe thead th {\n",
              "        text-align: right;\n",
              "    }\n",
              "</style>\n",
              "<table border=\"1\" class=\"dataframe\">\n",
              "  <thead>\n",
              "    <tr style=\"text-align: right;\">\n",
              "      <th></th>\n",
              "      <th>user_name</th>\n",
              "      <th>user_location</th>\n",
              "      <th>user_description</th>\n",
              "      <th>user_created</th>\n",
              "      <th>user_followers</th>\n",
              "      <th>user_friends</th>\n",
              "      <th>user_favourites</th>\n",
              "      <th>user_verified</th>\n",
              "      <th>date</th>\n",
              "      <th>text</th>\n",
              "      <th>hashtags</th>\n",
              "      <th>source</th>\n",
              "      <th>is_retweet</th>\n",
              "    </tr>\n",
              "  </thead>\n",
              "  <tbody>\n",
              "    <tr>\n",
              "      <th>63854</th>\n",
              "      <td>Gautam Aggarwal</td>\n",
              "      <td>New Delhi, India</td>\n",
              "      <td>Businessman/ BJP &amp; RSS Member / Khand Pramukh ...</td>\n",
              "      <td>2014-05-24 05:18:54</td>\n",
              "      <td>1958</td>\n",
              "      <td>810</td>\n",
              "      <td>94963</td>\n",
              "      <td>False</td>\n",
              "      <td>2020-08-02 18:46:05</td>\n",
              "      <td>Prayers for your good health and speedy recove...</td>\n",
              "      <td>['COVID19']</td>\n",
              "      <td>Twitter for Android</td>\n",
              "      <td>False</td>\n",
              "    </tr>\n",
              "    <tr>\n",
              "      <th>163718</th>\n",
              "      <td>NDI Parties Team</td>\n",
              "      <td>Washington, D.C.</td>\n",
              "      <td>@NDI's Political Parties Team seeks to foster ...</td>\n",
              "      <td>2013-11-14 19:16:32</td>\n",
              "      <td>3306</td>\n",
              "      <td>759</td>\n",
              "      <td>958</td>\n",
              "      <td>False</td>\n",
              "      <td>2020-08-22 02:59:00</td>\n",
              "      <td>Around the world, @NDI is helping legislatures...</td>\n",
              "      <td>['PoliticalParties']</td>\n",
              "      <td>TweetDeck</td>\n",
              "      <td>False</td>\n",
              "    </tr>\n",
              "    <tr>\n",
              "      <th>118424</th>\n",
              "      <td>Emirates News</td>\n",
              "      <td>Dubai, UAE</td>\n",
              "      <td>#EmiratesNews the most balanced and credible s...</td>\n",
              "      <td>2019-10-24 15:46:15</td>\n",
              "      <td>1916</td>\n",
              "      <td>11</td>\n",
              "      <td>74</td>\n",
              "      <td>True</td>\n",
              "      <td>2020-08-13 10:21:32</td>\n",
              "      <td>#UAE Health Ministry conducts 68,964 additiona...</td>\n",
              "      <td>['UAE', 'COVID19']</td>\n",
              "      <td>Hootsuite Inc.</td>\n",
              "      <td>False</td>\n",
              "    </tr>\n",
              "    <tr>\n",
              "      <th>38896</th>\n",
              "      <td>Tvasta</td>\n",
              "      <td>Chennai, India</td>\n",
              "      <td>We are an emerging player in the #Additive Man...</td>\n",
              "      <td>2018-09-26 10:24:52</td>\n",
              "      <td>75</td>\n",
              "      <td>62</td>\n",
              "      <td>75</td>\n",
              "      <td>False</td>\n",
              "      <td>2020-07-28 03:21:30</td>\n",
              "      <td>A Possible Weapon Against the Pandemic: Printi...</td>\n",
              "      <td>['bioprinting', '3dprinting']</td>\n",
              "      <td>Twitter Web App</td>\n",
              "      <td>False</td>\n",
              "    </tr>\n",
              "    <tr>\n",
              "      <th>162080</th>\n",
              "      <td>Michael A. Freeman</td>\n",
              "      <td>Int'l Criminal Court The Hague</td>\n",
              "      <td>I'm an FDR-style American Democratic Socialist...</td>\n",
              "      <td>2019-08-10 23:27:39</td>\n",
              "      <td>234</td>\n",
              "      <td>745</td>\n",
              "      <td>15248</td>\n",
              "      <td>False</td>\n",
              "      <td>2020-08-22 04:38:09</td>\n",
              "      <td>@GOP @VP Pence, u already abdicated daily #Cov...</td>\n",
              "      <td>['CovidTaskForce']</td>\n",
              "      <td>Twitter Web App</td>\n",
              "      <td>False</td>\n",
              "    </tr>\n",
              "  </tbody>\n",
              "</table>\n",
              "</div>"
            ],
            "text/plain": [
              "                 user_name  ... is_retweet\n",
              "63854      Gautam Aggarwal  ...      False\n",
              "163718    NDI Parties Team  ...      False\n",
              "118424       Emirates News  ...      False\n",
              "38896               Tvasta  ...      False\n",
              "162080  Michael A. Freeman  ...      False\n",
              "\n",
              "[5 rows x 13 columns]"
            ]
          },
          "metadata": {
            "tags": []
          },
          "execution_count": 28
        }
      ]
    },
    {
      "cell_type": "code",
      "metadata": {
        "colab": {
          "base_uri": "https://localhost:8080/",
          "height": 196
        },
        "id": "l-FurZVb2Cdf",
        "outputId": "bd425a3e-938f-457d-f797-185def9ee83c"
      },
      "source": [
        "df1 = sample.drop(['user_created','user_description','user_followers','user_friends','user_favourites','user_verified','source','is_retweet'],axis=1)\n",
        "df1.head()"
      ],
      "execution_count": 30,
      "outputs": [
        {
          "output_type": "execute_result",
          "data": {
            "text/html": [
              "<div>\n",
              "<style scoped>\n",
              "    .dataframe tbody tr th:only-of-type {\n",
              "        vertical-align: middle;\n",
              "    }\n",
              "\n",
              "    .dataframe tbody tr th {\n",
              "        vertical-align: top;\n",
              "    }\n",
              "\n",
              "    .dataframe thead th {\n",
              "        text-align: right;\n",
              "    }\n",
              "</style>\n",
              "<table border=\"1\" class=\"dataframe\">\n",
              "  <thead>\n",
              "    <tr style=\"text-align: right;\">\n",
              "      <th></th>\n",
              "      <th>user_name</th>\n",
              "      <th>user_location</th>\n",
              "      <th>date</th>\n",
              "      <th>text</th>\n",
              "      <th>hashtags</th>\n",
              "    </tr>\n",
              "  </thead>\n",
              "  <tbody>\n",
              "    <tr>\n",
              "      <th>63854</th>\n",
              "      <td>Gautam Aggarwal</td>\n",
              "      <td>New Delhi, India</td>\n",
              "      <td>2020-08-02 18:46:05</td>\n",
              "      <td>Prayers for your good health and speedy recove...</td>\n",
              "      <td>['COVID19']</td>\n",
              "    </tr>\n",
              "    <tr>\n",
              "      <th>163718</th>\n",
              "      <td>NDI Parties Team</td>\n",
              "      <td>Washington, D.C.</td>\n",
              "      <td>2020-08-22 02:59:00</td>\n",
              "      <td>Around the world, @NDI is helping legislatures...</td>\n",
              "      <td>['PoliticalParties']</td>\n",
              "    </tr>\n",
              "    <tr>\n",
              "      <th>118424</th>\n",
              "      <td>Emirates News</td>\n",
              "      <td>Dubai, UAE</td>\n",
              "      <td>2020-08-13 10:21:32</td>\n",
              "      <td>#UAE Health Ministry conducts 68,964 additiona...</td>\n",
              "      <td>['UAE', 'COVID19']</td>\n",
              "    </tr>\n",
              "    <tr>\n",
              "      <th>38896</th>\n",
              "      <td>Tvasta</td>\n",
              "      <td>Chennai, India</td>\n",
              "      <td>2020-07-28 03:21:30</td>\n",
              "      <td>A Possible Weapon Against the Pandemic: Printi...</td>\n",
              "      <td>['bioprinting', '3dprinting']</td>\n",
              "    </tr>\n",
              "    <tr>\n",
              "      <th>162080</th>\n",
              "      <td>Michael A. Freeman</td>\n",
              "      <td>Int'l Criminal Court The Hague</td>\n",
              "      <td>2020-08-22 04:38:09</td>\n",
              "      <td>@GOP @VP Pence, u already abdicated daily #Cov...</td>\n",
              "      <td>['CovidTaskForce']</td>\n",
              "    </tr>\n",
              "  </tbody>\n",
              "</table>\n",
              "</div>"
            ],
            "text/plain": [
              "                 user_name  ...                       hashtags\n",
              "63854      Gautam Aggarwal  ...                    ['COVID19']\n",
              "163718    NDI Parties Team  ...           ['PoliticalParties']\n",
              "118424       Emirates News  ...             ['UAE', 'COVID19']\n",
              "38896               Tvasta  ...  ['bioprinting', '3dprinting']\n",
              "162080  Michael A. Freeman  ...             ['CovidTaskForce']\n",
              "\n",
              "[5 rows x 5 columns]"
            ]
          },
          "metadata": {
            "tags": []
          },
          "execution_count": 30
        }
      ]
    },
    {
      "cell_type": "code",
      "metadata": {
        "colab": {
          "base_uri": "https://localhost:8080/"
        },
        "id": "wvs3PBmo3SWr",
        "outputId": "788a0b06-72dd-44a4-929a-eca3bb0c8340"
      },
      "source": [
        "df1['user_location'].value_counts()"
      ],
      "execution_count": 31,
      "outputs": [
        {
          "output_type": "execute_result",
          "data": {
            "text/plain": [
              "India                          442\n",
              "United States                  254\n",
              "New Delhi, India               206\n",
              "Mumbai, India                  187\n",
              "Washington, DC                 125\n",
              "                              ... \n",
              "Mississippi                      1\n",
              "Sioux Falls, SD                  1\n",
              "Nairobi Metropolitan, Kenya      1\n",
              "Newfangled                       1\n",
              "Yorkshire Leeds UK               1\n",
              "Name: user_location, Length: 5555, dtype: int64"
            ]
          },
          "metadata": {
            "tags": []
          },
          "execution_count": 31
        }
      ]
    },
    {
      "cell_type": "code",
      "metadata": {
        "colab": {
          "base_uri": "https://localhost:8080/"
        },
        "id": "fF_Sx5a83vbS",
        "outputId": "b58b66f6-0815-451f-89fc-4b413f34a4fe"
      },
      "source": [
        "df1.shape"
      ],
      "execution_count": 32,
      "outputs": [
        {
          "output_type": "execute_result",
          "data": {
            "text/plain": [
              "(15000, 5)"
            ]
          },
          "metadata": {
            "tags": []
          },
          "execution_count": 32
        }
      ]
    },
    {
      "cell_type": "code",
      "metadata": {
        "id": "JNcPB-jW316T"
      },
      "source": [
        "df1.to_csv('sampledata.csv',index=False)"
      ],
      "execution_count": 33,
      "outputs": []
    },
    {
      "cell_type": "markdown",
      "metadata": {
        "id": "bF9wY4Dw90MP"
      },
      "source": [
        "ANALYSIS\n"
      ]
    },
    {
      "cell_type": "code",
      "metadata": {
        "id": "M1fycGbz_Jwz"
      },
      "source": [
        "df1 = pd.read_csv(\"sampledata.csv\")"
      ],
      "execution_count": 46,
      "outputs": []
    },
    {
      "cell_type": "code",
      "metadata": {
        "colab": {
          "base_uri": "https://localhost:8080/"
        },
        "id": "a_tXf3Au4hei",
        "outputId": "4e40dff2-1a4f-44be-b403-dc7993d03e9d"
      },
      "source": [
        "import nltk\n",
        "nltk.download('vader_lexicon')"
      ],
      "execution_count": 38,
      "outputs": [
        {
          "output_type": "stream",
          "text": [
            "[nltk_data] Downloading package vader_lexicon to /root/nltk_data...\n"
          ],
          "name": "stdout"
        },
        {
          "output_type": "execute_result",
          "data": {
            "text/plain": [
              "True"
            ]
          },
          "metadata": {
            "tags": []
          },
          "execution_count": 38
        }
      ]
    },
    {
      "cell_type": "code",
      "metadata": {
        "colab": {
          "base_uri": "https://localhost:8080/"
        },
        "id": "0NzKOJki92z5",
        "outputId": "819d13e7-b7eb-4981-86f4-113898465bf5"
      },
      "source": [
        "from nltk.sentiment.vader import SentimentIntensityAnalyzer\n",
        "\n",
        "sid = SentimentIntensityAnalyzer()"
      ],
      "execution_count": 39,
      "outputs": [
        {
          "output_type": "stream",
          "text": [
            "/usr/local/lib/python3.7/dist-packages/nltk/twitter/__init__.py:20: UserWarning: The twython library has not been installed. Some functionality from the twitter package will not be available.\n",
            "  warnings.warn(\"The twython library has not been installed. \"\n"
          ],
          "name": "stderr"
        }
      ]
    },
    {
      "cell_type": "code",
      "metadata": {
        "colab": {
          "base_uri": "https://localhost:8080/"
        },
        "id": "uI46o_50_dQm",
        "outputId": "073d2f1e-cbd3-4172-eab4-9e6be2414213"
      },
      "source": [
        "blanks = []  # start with an empty list\n",
        "\n",
        "for i,un,ul,d,t,h in df1.itertuples():  # iterate over the DataFrame\n",
        "    if type(t)==str:            # avoid NaN values\n",
        "        if t.isspace():         # test 'review' for whitespace\n",
        "            blanks.append(i)     # add matching index numbers to the list\n",
        "\n",
        "df1.drop(blanks, inplace=True)\n",
        "df1.shape"
      ],
      "execution_count": 50,
      "outputs": [
        {
          "output_type": "execute_result",
          "data": {
            "text/plain": [
              "(15000, 5)"
            ]
          },
          "metadata": {
            "tags": []
          },
          "execution_count": 50
        }
      ]
    },
    {
      "cell_type": "code",
      "metadata": {
        "colab": {
          "base_uri": "https://localhost:8080/",
          "height": 280
        },
        "id": "1YIi5gyP99ZF",
        "outputId": "c75fe07a-cce0-4c15-b10f-427b67dcacef"
      },
      "source": [
        "df1['scores'] = df1['text'].apply(lambda review: sid.polarity_scores(review))\n",
        "\n",
        "df1['compound']  = df1['scores'].apply(lambda score_dict: score_dict['compound'])\n",
        "\n",
        "\n",
        "df1['label'] = df1['compound'].apply(lambda c: 'pos' if c >0 else ('neu' if c==0 else 'neg'))\n",
        "\n",
        "\n",
        "df1.head()"
      ],
      "execution_count": 57,
      "outputs": [
        {
          "output_type": "execute_result",
          "data": {
            "text/html": [
              "<div>\n",
              "<style scoped>\n",
              "    .dataframe tbody tr th:only-of-type {\n",
              "        vertical-align: middle;\n",
              "    }\n",
              "\n",
              "    .dataframe tbody tr th {\n",
              "        vertical-align: top;\n",
              "    }\n",
              "\n",
              "    .dataframe thead th {\n",
              "        text-align: right;\n",
              "    }\n",
              "</style>\n",
              "<table border=\"1\" class=\"dataframe\">\n",
              "  <thead>\n",
              "    <tr style=\"text-align: right;\">\n",
              "      <th></th>\n",
              "      <th>user_name</th>\n",
              "      <th>user_location</th>\n",
              "      <th>date</th>\n",
              "      <th>text</th>\n",
              "      <th>hashtags</th>\n",
              "      <th>scores</th>\n",
              "      <th>compound</th>\n",
              "      <th>label</th>\n",
              "    </tr>\n",
              "  </thead>\n",
              "  <tbody>\n",
              "    <tr>\n",
              "      <th>0</th>\n",
              "      <td>Gautam Aggarwal</td>\n",
              "      <td>New Delhi, India</td>\n",
              "      <td>2020-08-02 18:46:05</td>\n",
              "      <td>Prayers for your good health and speedy recove...</td>\n",
              "      <td>['COVID19']</td>\n",
              "      <td>{'neg': 0.0, 'neu': 0.722, 'pos': 0.278, 'comp...</td>\n",
              "      <td>0.6124</td>\n",
              "      <td>pos</td>\n",
              "    </tr>\n",
              "    <tr>\n",
              "      <th>1</th>\n",
              "      <td>NDI Parties Team</td>\n",
              "      <td>Washington, D.C.</td>\n",
              "      <td>2020-08-22 02:59:00</td>\n",
              "      <td>Around the world, @NDI is helping legislatures...</td>\n",
              "      <td>['PoliticalParties']</td>\n",
              "      <td>{'neg': 0.0, 'neu': 0.71, 'pos': 0.29, 'compou...</td>\n",
              "      <td>0.6486</td>\n",
              "      <td>pos</td>\n",
              "    </tr>\n",
              "    <tr>\n",
              "      <th>2</th>\n",
              "      <td>Emirates News</td>\n",
              "      <td>Dubai, UAE</td>\n",
              "      <td>2020-08-13 10:21:32</td>\n",
              "      <td>#UAE Health Ministry conducts 68,964 additiona...</td>\n",
              "      <td>['UAE', 'COVID19']</td>\n",
              "      <td>{'neg': 0.0, 'neu': 1.0, 'pos': 0.0, 'compound...</td>\n",
              "      <td>0.0000</td>\n",
              "      <td>neu</td>\n",
              "    </tr>\n",
              "    <tr>\n",
              "      <th>3</th>\n",
              "      <td>Tvasta</td>\n",
              "      <td>Chennai, India</td>\n",
              "      <td>2020-07-28 03:21:30</td>\n",
              "      <td>A Possible Weapon Against the Pandemic: Printi...</td>\n",
              "      <td>['bioprinting', '3dprinting']</td>\n",
              "      <td>{'neg': 0.167, 'neu': 0.833, 'pos': 0.0, 'comp...</td>\n",
              "      <td>-0.2960</td>\n",
              "      <td>neg</td>\n",
              "    </tr>\n",
              "    <tr>\n",
              "      <th>4</th>\n",
              "      <td>Michael A. Freeman</td>\n",
              "      <td>Int'l Criminal Court The Hague</td>\n",
              "      <td>2020-08-22 04:38:09</td>\n",
              "      <td>@GOP @VP Pence, u already abdicated daily #Cov...</td>\n",
              "      <td>['CovidTaskForce']</td>\n",
              "      <td>{'neg': 0.0, 'neu': 1.0, 'pos': 0.0, 'compound...</td>\n",
              "      <td>0.0000</td>\n",
              "      <td>neu</td>\n",
              "    </tr>\n",
              "  </tbody>\n",
              "</table>\n",
              "</div>"
            ],
            "text/plain": [
              "            user_name                   user_location  ... compound label\n",
              "0     Gautam Aggarwal                New Delhi, India  ...   0.6124   pos\n",
              "1    NDI Parties Team                Washington, D.C.  ...   0.6486   pos\n",
              "2       Emirates News                      Dubai, UAE  ...   0.0000   neu\n",
              "3              Tvasta                  Chennai, India  ...  -0.2960   neg\n",
              "4  Michael A. Freeman  Int'l Criminal Court The Hague  ...   0.0000   neu\n",
              "\n",
              "[5 rows x 8 columns]"
            ]
          },
          "metadata": {
            "tags": []
          },
          "execution_count": 57
        }
      ]
    },
    {
      "cell_type": "code",
      "metadata": {
        "colab": {
          "base_uri": "https://localhost:8080/"
        },
        "id": "HmrmSGA9-hE_",
        "outputId": "7f8f9805-9b9c-4c96-cdc0-8094e66ce0dd"
      },
      "source": [
        "df1['label'].value_counts()"
      ],
      "execution_count": 58,
      "outputs": [
        {
          "output_type": "execute_result",
          "data": {
            "text/plain": [
              "neu    5617\n",
              "pos    5549\n",
              "neg    3834\n",
              "Name: label, dtype: int64"
            ]
          },
          "metadata": {
            "tags": []
          },
          "execution_count": 58
        }
      ]
    },
    {
      "cell_type": "code",
      "metadata": {
        "id": "l2va-VzMFTHp"
      },
      "source": [
        "import re\n",
        "contractions_dict = {\"can`t\":\"can not\",\n",
        "                     \"won`t\":\"will not\",\n",
        "                     \"don`t\":\"do not\",\n",
        "                     \"aren`t\":\"are not\",\n",
        "                     \"i`d\":\"i would\",\n",
        "                     \"couldn`t\": \"could not\",\n",
        "                     \"shouldn`t\": \"should not\",\n",
        "                     \"wouldn`t\": \"would not\",\n",
        "                     \"isn`t\": \"is not\",\n",
        "                     \"it`s\": \"it is\",\n",
        "                     \"didn`t\": \"did not\",\n",
        "                     \"weren`t\": \"were not\",\n",
        "                     \"mustn`t\": \"must not\",\n",
        "                    }\n",
        "\n",
        "def prepare_data(df1:pd.DataFrame) -> pd.DataFrame:\n",
        "    \n",
        "    df1[\"text\"] = df1[\"text\"] \\\n",
        "              .apply(lambda x: re.split('http:\\/\\/.*', str(x))[0]) \\\n",
        "              .str.lower() \\\n",
        "              .apply(lambda x: replace_words(x,contractions_dict))\n",
        "        \n",
        "    df1[\"label\"] = df1[\"label\"].map(\n",
        "                        {\"neu\": 1, \"neg\":0, \"pos\":2 }\n",
        "                        )\n",
        "    return df1.text.values, df1.label.values\n",
        "def replace_words(string:str, dictionary:dict):\n",
        "    for k, v in dictionary.items():\n",
        "        string = string.replace(k, v)\n",
        "    return string\n"
      ],
      "execution_count": 71,
      "outputs": []
    },
    {
      "cell_type": "code",
      "metadata": {
        "colab": {
          "base_uri": "https://localhost:8080/"
        },
        "id": "UTSIP8mFFshA",
        "outputId": "1d7f1c5e-fc34-4847-aea2-48ed0ef6a75b"
      },
      "source": [
        "from sklearn import datasets, linear_model\n",
        "from sklearn.model_selection import train_test_split\n",
        "from matplotlib import pyplot as plt\n",
        "\n",
        "X = df1.text\n",
        "Y =df1.label\n",
        "\n",
        "X_train, X_test, y_train, y_test = train_test_split(X, Y, test_size=0.2)\n",
        "print(X_train.shape, y_train.shape)\n",
        "print(X_test.shape, y_test.shape)\n",
        "\n",
        "\n",
        "\n",
        "X_train = X_train \\\n",
        "              .apply(lambda x: re.split('http:\\/\\/.*', str(x))[0]) \\\n",
        "              .str.lower() \\\n",
        "              .apply(lambda x: replace_words(x,contractions_dict))\n",
        "\n",
        "X_test = X_test \\\n",
        "              .apply(lambda x: re.split('http:\\/\\/.*', str(x))[0]) \\\n",
        "              .str.lower() \\\n",
        "              .apply(lambda x: replace_words(x,contractions_dict))\n",
        "\n",
        "y_train =  y_train.map(\n",
        "                        {\"neu\": 1, \"neg\":0, \"pos\":2 }\n",
        "                        )\n",
        "y_test = y_test.map(\n",
        "                        {\"neu\": 1, \"neg\":0, \"pos\":2 }\n",
        "                        )\n"
      ],
      "execution_count": 72,
      "outputs": [
        {
          "output_type": "stream",
          "text": [
            "(12000,) (12000,)\n",
            "(3000,) (3000,)\n"
          ],
          "name": "stdout"
        }
      ]
    },
    {
      "cell_type": "code",
      "metadata": {
        "id": "AbPJDgeVGiwM"
      },
      "source": [
        "train_tweets, train_labels = X_train,y_train\n",
        "test_tweets, test_labels = X_test,y_test"
      ],
      "execution_count": 73,
      "outputs": []
    },
    {
      "cell_type": "code",
      "metadata": {
        "colab": {
          "base_uri": "https://localhost:8080/"
        },
        "id": "2_Ew6d4PR3WG",
        "outputId": "5aeb95ee-2202-4ab6-9b87-8fd4d3a83f49"
      },
      "source": [
        "pip install keras\n"
      ],
      "execution_count": 75,
      "outputs": [
        {
          "output_type": "stream",
          "text": [
            "Requirement already satisfied: keras in /usr/local/lib/python3.7/dist-packages (2.4.3)\n",
            "Requirement already satisfied: numpy>=1.9.1 in /usr/local/lib/python3.7/dist-packages (from keras) (1.19.5)\n",
            "Requirement already satisfied: scipy>=0.14 in /usr/local/lib/python3.7/dist-packages (from keras) (1.4.1)\n",
            "Requirement already satisfied: pyyaml in /usr/local/lib/python3.7/dist-packages (from keras) (3.13)\n",
            "Requirement already satisfied: h5py in /usr/local/lib/python3.7/dist-packages (from keras) (2.10.0)\n",
            "Requirement already satisfied: six in /usr/local/lib/python3.7/dist-packages (from h5py->keras) (1.15.0)\n"
          ],
          "name": "stdout"
        }
      ]
    },
    {
      "cell_type": "markdown",
      "metadata": {
        "id": "LYrcQYuHFP8E"
      },
      "source": [
        "_______________________________________"
      ]
    },
    {
      "cell_type": "code",
      "metadata": {
        "id": "HTpu5q9kQ6jS"
      },
      "source": [
        "from keras.preprocessing.text import Tokenizer\n",
        "tokenizer = Tokenizer()\n",
        "tokenizer.fit_on_texts(train_tweets)\n",
        "train_tokenized = tokenizer.texts_to_matrix(\n",
        "                             train_tweets,\n",
        "                             mode='tfidf'\n",
        "                             )\n",
        "test_tokenized = tokenizer.texts_to_matrix(\n",
        "                             test_tweets,\n",
        "                             mode='tfidf'\n",
        "                             )"
      ],
      "execution_count": 81,
      "outputs": []
    },
    {
      "cell_type": "code",
      "metadata": {
        "colab": {
          "base_uri": "https://localhost:8080/"
        },
        "id": "tqB0j-RuRuJo",
        "outputId": "893ebe1f-5a37-4a63-e381-1fcba92b08b8"
      },
      "source": [
        "from  sklearn.ensemble import RandomForestClassifier\n",
        "forest = RandomForestClassifier(\n",
        "                                n_estimators=500, \n",
        "                                min_samples_leaf=2,\n",
        "                                oob_score=True,\n",
        "                                n_jobs=-1,\n",
        "                                )\n",
        "forest.fit(train_tokenized,train_labels)\n",
        "print(f\"Train score: {forest.score(train_tokenized,train_labels)}\")\n",
        "print(f\"OOB score: {forest.oob_score_}\")"
      ],
      "execution_count": 82,
      "outputs": [
        {
          "output_type": "stream",
          "text": [
            "Train score: 0.8411666666666666\n",
            "OOB score: 0.7286666666666667\n"
          ],
          "name": "stdout"
        }
      ]
    },
    {
      "cell_type": "code",
      "metadata": {
        "colab": {
          "base_uri": "https://localhost:8080/"
        },
        "id": "QKCBW59CRvMp",
        "outputId": "350570cb-c3f7-4f7c-e1c8-5aa30b52cdd0"
      },
      "source": [
        "print(\"Test score:\", forest.score(test_tokenized,test_labels))"
      ],
      "execution_count": 86,
      "outputs": [
        {
          "output_type": "stream",
          "text": [
            "Test score: 0.7216666666666667\n"
          ],
          "name": "stdout"
        }
      ]
    },
    {
      "cell_type": "markdown",
      "metadata": {
        "id": "aL417MDSCeYu"
      },
      "source": [
        "IMBALANCED\n"
      ]
    },
    {
      "cell_type": "code",
      "metadata": {
        "id": "G7A903Db-v9G"
      },
      "source": [
        "from sklearn.linear_model import LogisticRegression\n",
        "from sklearn.metrics import accuracy_score"
      ],
      "execution_count": 59,
      "outputs": []
    },
    {
      "cell_type": "code",
      "metadata": {
        "colab": {
          "base_uri": "https://localhost:8080/",
          "height": 369
        },
        "id": "IUMEEotQDtzJ",
        "outputId": "c8f9528e-dada-4b76-a049-0fe6ca22ab59"
      },
      "source": [
        "y = df1.label\n",
        "x = df1.text\n",
        "\n",
        "imb = LogisticRegression().fit(x,y)\n",
        "\n",
        "imb_pred = imb.predict(x)\n",
        "print(accuracy_score(imb_pred,y))"
      ],
      "execution_count": 62,
      "outputs": [
        {
          "output_type": "error",
          "ename": "ValueError",
          "evalue": "ignored",
          "traceback": [
            "\u001b[0;31m---------------------------------------------------------------------------\u001b[0m",
            "\u001b[0;31mValueError\u001b[0m                                Traceback (most recent call last)",
            "\u001b[0;32m<ipython-input-62-b9e04b3268de>\u001b[0m in \u001b[0;36m<module>\u001b[0;34m()\u001b[0m\n\u001b[1;32m      2\u001b[0m \u001b[0mx\u001b[0m \u001b[0;34m=\u001b[0m \u001b[0mdf1\u001b[0m\u001b[0;34m.\u001b[0m\u001b[0mtext\u001b[0m\u001b[0;34m\u001b[0m\u001b[0;34m\u001b[0m\u001b[0m\n\u001b[1;32m      3\u001b[0m \u001b[0;34m\u001b[0m\u001b[0m\n\u001b[0;32m----> 4\u001b[0;31m \u001b[0mimb\u001b[0m \u001b[0;34m=\u001b[0m \u001b[0mLogisticRegression\u001b[0m\u001b[0;34m(\u001b[0m\u001b[0;34m)\u001b[0m\u001b[0;34m.\u001b[0m\u001b[0mfit\u001b[0m\u001b[0;34m(\u001b[0m\u001b[0mx\u001b[0m\u001b[0;34m,\u001b[0m\u001b[0my\u001b[0m\u001b[0;34m)\u001b[0m\u001b[0;34m\u001b[0m\u001b[0;34m\u001b[0m\u001b[0m\n\u001b[0m\u001b[1;32m      5\u001b[0m \u001b[0;34m\u001b[0m\u001b[0m\n\u001b[1;32m      6\u001b[0m \u001b[0mimb_pred\u001b[0m \u001b[0;34m=\u001b[0m \u001b[0mimb\u001b[0m\u001b[0;34m.\u001b[0m\u001b[0mpredict\u001b[0m\u001b[0;34m(\u001b[0m\u001b[0mx\u001b[0m\u001b[0;34m)\u001b[0m\u001b[0;34m\u001b[0m\u001b[0;34m\u001b[0m\u001b[0m\n",
            "\u001b[0;32m/usr/local/lib/python3.7/dist-packages/sklearn/linear_model/_logistic.py\u001b[0m in \u001b[0;36mfit\u001b[0;34m(self, X, y, sample_weight)\u001b[0m\n\u001b[1;32m   1525\u001b[0m \u001b[0;34m\u001b[0m\u001b[0m\n\u001b[1;32m   1526\u001b[0m         X, y = check_X_y(X, y, accept_sparse='csr', dtype=_dtype, order=\"C\",\n\u001b[0;32m-> 1527\u001b[0;31m                          accept_large_sparse=solver != 'liblinear')\n\u001b[0m\u001b[1;32m   1528\u001b[0m         \u001b[0mcheck_classification_targets\u001b[0m\u001b[0;34m(\u001b[0m\u001b[0my\u001b[0m\u001b[0;34m)\u001b[0m\u001b[0;34m\u001b[0m\u001b[0;34m\u001b[0m\u001b[0m\n\u001b[1;32m   1529\u001b[0m         \u001b[0mself\u001b[0m\u001b[0;34m.\u001b[0m\u001b[0mclasses_\u001b[0m \u001b[0;34m=\u001b[0m \u001b[0mnp\u001b[0m\u001b[0;34m.\u001b[0m\u001b[0munique\u001b[0m\u001b[0;34m(\u001b[0m\u001b[0my\u001b[0m\u001b[0;34m)\u001b[0m\u001b[0;34m\u001b[0m\u001b[0;34m\u001b[0m\u001b[0m\n",
            "\u001b[0;32m/usr/local/lib/python3.7/dist-packages/sklearn/utils/validation.py\u001b[0m in \u001b[0;36mcheck_X_y\u001b[0;34m(X, y, accept_sparse, accept_large_sparse, dtype, order, copy, force_all_finite, ensure_2d, allow_nd, multi_output, ensure_min_samples, ensure_min_features, y_numeric, warn_on_dtype, estimator)\u001b[0m\n\u001b[1;32m    753\u001b[0m                     \u001b[0mensure_min_features\u001b[0m\u001b[0;34m=\u001b[0m\u001b[0mensure_min_features\u001b[0m\u001b[0;34m,\u001b[0m\u001b[0;34m\u001b[0m\u001b[0;34m\u001b[0m\u001b[0m\n\u001b[1;32m    754\u001b[0m                     \u001b[0mwarn_on_dtype\u001b[0m\u001b[0;34m=\u001b[0m\u001b[0mwarn_on_dtype\u001b[0m\u001b[0;34m,\u001b[0m\u001b[0;34m\u001b[0m\u001b[0;34m\u001b[0m\u001b[0m\n\u001b[0;32m--> 755\u001b[0;31m                     estimator=estimator)\n\u001b[0m\u001b[1;32m    756\u001b[0m     \u001b[0;32mif\u001b[0m \u001b[0mmulti_output\u001b[0m\u001b[0;34m:\u001b[0m\u001b[0;34m\u001b[0m\u001b[0;34m\u001b[0m\u001b[0m\n\u001b[1;32m    757\u001b[0m         y = check_array(y, 'csr', force_all_finite=True, ensure_2d=False,\n",
            "\u001b[0;32m/usr/local/lib/python3.7/dist-packages/sklearn/utils/validation.py\u001b[0m in \u001b[0;36mcheck_array\u001b[0;34m(array, accept_sparse, accept_large_sparse, dtype, order, copy, force_all_finite, ensure_2d, allow_nd, ensure_min_samples, ensure_min_features, warn_on_dtype, estimator)\u001b[0m\n\u001b[1;32m    529\u001b[0m                     \u001b[0marray\u001b[0m \u001b[0;34m=\u001b[0m \u001b[0marray\u001b[0m\u001b[0;34m.\u001b[0m\u001b[0mastype\u001b[0m\u001b[0;34m(\u001b[0m\u001b[0mdtype\u001b[0m\u001b[0;34m,\u001b[0m \u001b[0mcasting\u001b[0m\u001b[0;34m=\u001b[0m\u001b[0;34m\"unsafe\"\u001b[0m\u001b[0;34m,\u001b[0m \u001b[0mcopy\u001b[0m\u001b[0;34m=\u001b[0m\u001b[0;32mFalse\u001b[0m\u001b[0;34m)\u001b[0m\u001b[0;34m\u001b[0m\u001b[0;34m\u001b[0m\u001b[0m\n\u001b[1;32m    530\u001b[0m                 \u001b[0;32melse\u001b[0m\u001b[0;34m:\u001b[0m\u001b[0;34m\u001b[0m\u001b[0;34m\u001b[0m\u001b[0m\n\u001b[0;32m--> 531\u001b[0;31m                     \u001b[0marray\u001b[0m \u001b[0;34m=\u001b[0m \u001b[0mnp\u001b[0m\u001b[0;34m.\u001b[0m\u001b[0masarray\u001b[0m\u001b[0;34m(\u001b[0m\u001b[0marray\u001b[0m\u001b[0;34m,\u001b[0m \u001b[0morder\u001b[0m\u001b[0;34m=\u001b[0m\u001b[0morder\u001b[0m\u001b[0;34m,\u001b[0m \u001b[0mdtype\u001b[0m\u001b[0;34m=\u001b[0m\u001b[0mdtype\u001b[0m\u001b[0;34m)\u001b[0m\u001b[0;34m\u001b[0m\u001b[0;34m\u001b[0m\u001b[0m\n\u001b[0m\u001b[1;32m    532\u001b[0m             \u001b[0;32mexcept\u001b[0m \u001b[0mComplexWarning\u001b[0m\u001b[0;34m:\u001b[0m\u001b[0;34m\u001b[0m\u001b[0;34m\u001b[0m\u001b[0m\n\u001b[1;32m    533\u001b[0m                 raise ValueError(\"Complex data not supported\\n\"\n",
            "\u001b[0;32m/usr/local/lib/python3.7/dist-packages/numpy/core/_asarray.py\u001b[0m in \u001b[0;36masarray\u001b[0;34m(a, dtype, order)\u001b[0m\n\u001b[1;32m     81\u001b[0m \u001b[0;34m\u001b[0m\u001b[0m\n\u001b[1;32m     82\u001b[0m     \"\"\"\n\u001b[0;32m---> 83\u001b[0;31m     \u001b[0;32mreturn\u001b[0m \u001b[0marray\u001b[0m\u001b[0;34m(\u001b[0m\u001b[0ma\u001b[0m\u001b[0;34m,\u001b[0m \u001b[0mdtype\u001b[0m\u001b[0;34m,\u001b[0m \u001b[0mcopy\u001b[0m\u001b[0;34m=\u001b[0m\u001b[0;32mFalse\u001b[0m\u001b[0;34m,\u001b[0m \u001b[0morder\u001b[0m\u001b[0;34m=\u001b[0m\u001b[0morder\u001b[0m\u001b[0;34m)\u001b[0m\u001b[0;34m\u001b[0m\u001b[0;34m\u001b[0m\u001b[0m\n\u001b[0m\u001b[1;32m     84\u001b[0m \u001b[0;34m\u001b[0m\u001b[0m\n\u001b[1;32m     85\u001b[0m \u001b[0;34m\u001b[0m\u001b[0m\n",
            "\u001b[0;32m/usr/local/lib/python3.7/dist-packages/pandas/core/series.py\u001b[0m in \u001b[0;36m__array__\u001b[0;34m(self, dtype)\u001b[0m\n\u001b[1;32m    795\u001b[0m               dtype='datetime64[ns]')\n\u001b[1;32m    796\u001b[0m         \"\"\"\n\u001b[0;32m--> 797\u001b[0;31m         \u001b[0;32mreturn\u001b[0m \u001b[0mnp\u001b[0m\u001b[0;34m.\u001b[0m\u001b[0masarray\u001b[0m\u001b[0;34m(\u001b[0m\u001b[0mself\u001b[0m\u001b[0;34m.\u001b[0m\u001b[0marray\u001b[0m\u001b[0;34m,\u001b[0m \u001b[0mdtype\u001b[0m\u001b[0;34m)\u001b[0m\u001b[0;34m\u001b[0m\u001b[0;34m\u001b[0m\u001b[0m\n\u001b[0m\u001b[1;32m    798\u001b[0m \u001b[0;34m\u001b[0m\u001b[0m\n\u001b[1;32m    799\u001b[0m     \u001b[0;31m# ----------------------------------------------------------------------\u001b[0m\u001b[0;34m\u001b[0m\u001b[0;34m\u001b[0m\u001b[0;34m\u001b[0m\u001b[0m\n",
            "\u001b[0;32m/usr/local/lib/python3.7/dist-packages/numpy/core/_asarray.py\u001b[0m in \u001b[0;36masarray\u001b[0;34m(a, dtype, order)\u001b[0m\n\u001b[1;32m     81\u001b[0m \u001b[0;34m\u001b[0m\u001b[0m\n\u001b[1;32m     82\u001b[0m     \"\"\"\n\u001b[0;32m---> 83\u001b[0;31m     \u001b[0;32mreturn\u001b[0m \u001b[0marray\u001b[0m\u001b[0;34m(\u001b[0m\u001b[0ma\u001b[0m\u001b[0;34m,\u001b[0m \u001b[0mdtype\u001b[0m\u001b[0;34m,\u001b[0m \u001b[0mcopy\u001b[0m\u001b[0;34m=\u001b[0m\u001b[0;32mFalse\u001b[0m\u001b[0;34m,\u001b[0m \u001b[0morder\u001b[0m\u001b[0;34m=\u001b[0m\u001b[0morder\u001b[0m\u001b[0;34m)\u001b[0m\u001b[0;34m\u001b[0m\u001b[0;34m\u001b[0m\u001b[0m\n\u001b[0m\u001b[1;32m     84\u001b[0m \u001b[0;34m\u001b[0m\u001b[0m\n\u001b[1;32m     85\u001b[0m \u001b[0;34m\u001b[0m\u001b[0m\n",
            "\u001b[0;32m/usr/local/lib/python3.7/dist-packages/pandas/core/arrays/numpy_.py\u001b[0m in \u001b[0;36m__array__\u001b[0;34m(self, dtype)\u001b[0m\n\u001b[1;32m    209\u001b[0m \u001b[0;34m\u001b[0m\u001b[0m\n\u001b[1;32m    210\u001b[0m     \u001b[0;32mdef\u001b[0m \u001b[0m__array__\u001b[0m\u001b[0;34m(\u001b[0m\u001b[0mself\u001b[0m\u001b[0;34m,\u001b[0m \u001b[0mdtype\u001b[0m\u001b[0;34m=\u001b[0m\u001b[0;32mNone\u001b[0m\u001b[0;34m)\u001b[0m \u001b[0;34m->\u001b[0m \u001b[0mnp\u001b[0m\u001b[0;34m.\u001b[0m\u001b[0mndarray\u001b[0m\u001b[0;34m:\u001b[0m\u001b[0;34m\u001b[0m\u001b[0;34m\u001b[0m\u001b[0m\n\u001b[0;32m--> 211\u001b[0;31m         \u001b[0;32mreturn\u001b[0m \u001b[0mnp\u001b[0m\u001b[0;34m.\u001b[0m\u001b[0masarray\u001b[0m\u001b[0;34m(\u001b[0m\u001b[0mself\u001b[0m\u001b[0;34m.\u001b[0m\u001b[0m_ndarray\u001b[0m\u001b[0;34m,\u001b[0m \u001b[0mdtype\u001b[0m\u001b[0;34m=\u001b[0m\u001b[0mdtype\u001b[0m\u001b[0;34m)\u001b[0m\u001b[0;34m\u001b[0m\u001b[0;34m\u001b[0m\u001b[0m\n\u001b[0m\u001b[1;32m    212\u001b[0m \u001b[0;34m\u001b[0m\u001b[0m\n\u001b[1;32m    213\u001b[0m     \u001b[0m_HANDLED_TYPES\u001b[0m \u001b[0;34m=\u001b[0m \u001b[0;34m(\u001b[0m\u001b[0mnp\u001b[0m\u001b[0;34m.\u001b[0m\u001b[0mndarray\u001b[0m\u001b[0;34m,\u001b[0m \u001b[0mnumbers\u001b[0m\u001b[0;34m.\u001b[0m\u001b[0mNumber\u001b[0m\u001b[0;34m)\u001b[0m\u001b[0;34m\u001b[0m\u001b[0;34m\u001b[0m\u001b[0m\n",
            "\u001b[0;32m/usr/local/lib/python3.7/dist-packages/numpy/core/_asarray.py\u001b[0m in \u001b[0;36masarray\u001b[0;34m(a, dtype, order)\u001b[0m\n\u001b[1;32m     81\u001b[0m \u001b[0;34m\u001b[0m\u001b[0m\n\u001b[1;32m     82\u001b[0m     \"\"\"\n\u001b[0;32m---> 83\u001b[0;31m     \u001b[0;32mreturn\u001b[0m \u001b[0marray\u001b[0m\u001b[0;34m(\u001b[0m\u001b[0ma\u001b[0m\u001b[0;34m,\u001b[0m \u001b[0mdtype\u001b[0m\u001b[0;34m,\u001b[0m \u001b[0mcopy\u001b[0m\u001b[0;34m=\u001b[0m\u001b[0;32mFalse\u001b[0m\u001b[0;34m,\u001b[0m \u001b[0morder\u001b[0m\u001b[0;34m=\u001b[0m\u001b[0morder\u001b[0m\u001b[0;34m)\u001b[0m\u001b[0;34m\u001b[0m\u001b[0;34m\u001b[0m\u001b[0m\n\u001b[0m\u001b[1;32m     84\u001b[0m \u001b[0;34m\u001b[0m\u001b[0m\n\u001b[1;32m     85\u001b[0m \u001b[0;34m\u001b[0m\u001b[0m\n",
            "\u001b[0;31mValueError\u001b[0m: could not convert string to float: 'Prayers for your good health and speedy recovery from #COVID19 @BSYBJP ji\\n\\nGet Well Soon'"
          ]
        }
      ]
    },
    {
      "cell_type": "code",
      "metadata": {
        "id": "9DHU3syMEI0F"
      },
      "source": [
        ""
      ],
      "execution_count": null,
      "outputs": []
    }
  ]
}