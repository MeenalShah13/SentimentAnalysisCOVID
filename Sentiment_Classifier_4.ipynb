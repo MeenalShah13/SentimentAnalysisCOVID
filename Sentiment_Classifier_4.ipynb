{
  "nbformat": 4,
  "nbformat_minor": 0,
  "metadata": {
    "colab": {
      "name": "Sentiment Classifier_4.ipynb",
      "provenance": [],
      "collapsed_sections": [],
      "toc_visible": true,
      "include_colab_link": true
    },
    "kernelspec": {
      "name": "python3",
      "display_name": "Python 3"
    },
    "language_info": {
      "name": "python"
    }
  },
  "cells": [
    {
      "cell_type": "markdown",
      "metadata": {
        "id": "view-in-github",
        "colab_type": "text"
      },
      "source": [
        "<a href=\"https://colab.research.google.com/github/MeenalShah13/SentimentAnalysisCOVID/blob/main/Sentiment_Classifier_4.ipynb\" target=\"_parent\"><img src=\"https://colab.research.google.com/assets/colab-badge.svg\" alt=\"Open In Colab\"/></a>"
      ]
    },
    {
      "cell_type": "markdown",
      "metadata": {
        "id": "vV9iO-6fjcIh"
      },
      "source": [
        "## Preprocessing of tweets"
      ]
    },
    {
      "cell_type": "code",
      "metadata": {
        "id": "FTkci3EfWEZ0"
      },
      "source": [
        "import pandas as pd\n",
        "import numpy as np"
      ],
      "execution_count": 3,
      "outputs": []
    },
    {
      "cell_type": "code",
      "metadata": {
        "colab": {
          "base_uri": "https://localhost:8080/",
          "height": 434
        },
        "id": "L6M70Ob7UsdD",
        "outputId": "d4e12162-6ef8-4335-e626-9ff76e486afe"
      },
      "source": [
        "tweets=pd.read_csv('/covid19_tweets.csv')\n",
        "tweets.head()"
      ],
      "execution_count": null,
      "outputs": [
        {
          "output_type": "execute_result",
          "data": {
            "text/html": [
              "<div>\n",
              "<style scoped>\n",
              "    .dataframe tbody tr th:only-of-type {\n",
              "        vertical-align: middle;\n",
              "    }\n",
              "\n",
              "    .dataframe tbody tr th {\n",
              "        vertical-align: top;\n",
              "    }\n",
              "\n",
              "    .dataframe thead th {\n",
              "        text-align: right;\n",
              "    }\n",
              "</style>\n",
              "<table border=\"1\" class=\"dataframe\">\n",
              "  <thead>\n",
              "    <tr style=\"text-align: right;\">\n",
              "      <th></th>\n",
              "      <th>user_name</th>\n",
              "      <th>user_location</th>\n",
              "      <th>user_description</th>\n",
              "      <th>user_created</th>\n",
              "      <th>user_followers</th>\n",
              "      <th>user_friends</th>\n",
              "      <th>user_favourites</th>\n",
              "      <th>user_verified</th>\n",
              "      <th>date</th>\n",
              "      <th>text</th>\n",
              "      <th>hashtags</th>\n",
              "      <th>source</th>\n",
              "      <th>is_retweet</th>\n",
              "    </tr>\n",
              "  </thead>\n",
              "  <tbody>\n",
              "    <tr>\n",
              "      <th>0</th>\n",
              "      <td>ᏉᎥ☻լꂅϮ</td>\n",
              "      <td>astroworld</td>\n",
              "      <td>wednesday addams as a disney princess keepin i...</td>\n",
              "      <td>2017-05-26 05:46:42</td>\n",
              "      <td>624</td>\n",
              "      <td>950</td>\n",
              "      <td>18775</td>\n",
              "      <td>False</td>\n",
              "      <td>2020-07-25 12:27:21</td>\n",
              "      <td>If I smelled the scent of hand sanitizers toda...</td>\n",
              "      <td>NaN</td>\n",
              "      <td>Twitter for iPhone</td>\n",
              "      <td>False</td>\n",
              "    </tr>\n",
              "    <tr>\n",
              "      <th>1</th>\n",
              "      <td>Tom Basile 🇺🇸</td>\n",
              "      <td>New York, NY</td>\n",
              "      <td>Husband, Father, Columnist &amp; Commentator. Auth...</td>\n",
              "      <td>2009-04-16 20:06:23</td>\n",
              "      <td>2253</td>\n",
              "      <td>1677</td>\n",
              "      <td>24</td>\n",
              "      <td>True</td>\n",
              "      <td>2020-07-25 12:27:17</td>\n",
              "      <td>Hey @Yankees @YankeesPR and @MLB - wouldn't it...</td>\n",
              "      <td>NaN</td>\n",
              "      <td>Twitter for Android</td>\n",
              "      <td>False</td>\n",
              "    </tr>\n",
              "    <tr>\n",
              "      <th>2</th>\n",
              "      <td>Time4fisticuffs</td>\n",
              "      <td>Pewee Valley, KY</td>\n",
              "      <td>#Christian #Catholic #Conservative #Reagan #Re...</td>\n",
              "      <td>2009-02-28 18:57:41</td>\n",
              "      <td>9275</td>\n",
              "      <td>9525</td>\n",
              "      <td>7254</td>\n",
              "      <td>False</td>\n",
              "      <td>2020-07-25 12:27:14</td>\n",
              "      <td>@diane3443 @wdunlap @realDonaldTrump Trump nev...</td>\n",
              "      <td>['COVID19']</td>\n",
              "      <td>Twitter for Android</td>\n",
              "      <td>False</td>\n",
              "    </tr>\n",
              "    <tr>\n",
              "      <th>3</th>\n",
              "      <td>ethel mertz</td>\n",
              "      <td>Stuck in the Middle</td>\n",
              "      <td>#Browns #Indians #ClevelandProud #[]_[] #Cavs ...</td>\n",
              "      <td>2019-03-07 01:45:06</td>\n",
              "      <td>197</td>\n",
              "      <td>987</td>\n",
              "      <td>1488</td>\n",
              "      <td>False</td>\n",
              "      <td>2020-07-25 12:27:10</td>\n",
              "      <td>@brookbanktv The one gift #COVID19 has give me...</td>\n",
              "      <td>['COVID19']</td>\n",
              "      <td>Twitter for iPhone</td>\n",
              "      <td>False</td>\n",
              "    </tr>\n",
              "    <tr>\n",
              "      <th>4</th>\n",
              "      <td>DIPR-J&amp;K</td>\n",
              "      <td>Jammu and Kashmir</td>\n",
              "      <td>🖊️Official Twitter handle of Department of Inf...</td>\n",
              "      <td>2017-02-12 06:45:15</td>\n",
              "      <td>101009</td>\n",
              "      <td>168</td>\n",
              "      <td>101</td>\n",
              "      <td>False</td>\n",
              "      <td>2020-07-25 12:27:08</td>\n",
              "      <td>25 July : Media Bulletin on Novel #CoronaVirus...</td>\n",
              "      <td>['CoronaVirusUpdates', 'COVID19']</td>\n",
              "      <td>Twitter for Android</td>\n",
              "      <td>False</td>\n",
              "    </tr>\n",
              "  </tbody>\n",
              "</table>\n",
              "</div>"
            ],
            "text/plain": [
              "         user_name         user_location  ...               source is_retweet\n",
              "0           ᏉᎥ☻լꂅϮ            astroworld  ...   Twitter for iPhone      False\n",
              "1    Tom Basile 🇺🇸          New York, NY  ...  Twitter for Android      False\n",
              "2  Time4fisticuffs      Pewee Valley, KY  ...  Twitter for Android      False\n",
              "3      ethel mertz  Stuck in the Middle   ...   Twitter for iPhone      False\n",
              "4         DIPR-J&K     Jammu and Kashmir  ...  Twitter for Android      False\n",
              "\n",
              "[5 rows x 13 columns]"
            ]
          },
          "metadata": {
            "tags": []
          },
          "execution_count": 3
        }
      ]
    },
    {
      "cell_type": "code",
      "metadata": {
        "id": "p5ScW6ebVyE8"
      },
      "source": [
        "df = tweets"
      ],
      "execution_count": null,
      "outputs": []
    },
    {
      "cell_type": "code",
      "metadata": {
        "colab": {
          "base_uri": "https://localhost:8080/"
        },
        "id": "TkhP8vcQzm7_",
        "outputId": "32ec1bf7-1d1a-44e6-f2e7-f6fb68fafa65"
      },
      "source": [
        "df.shape"
      ],
      "execution_count": null,
      "outputs": [
        {
          "output_type": "execute_result",
          "data": {
            "text/plain": [
              "(179108, 13)"
            ]
          },
          "metadata": {
            "tags": []
          },
          "execution_count": 5
        }
      ]
    },
    {
      "cell_type": "code",
      "metadata": {
        "colab": {
          "base_uri": "https://localhost:8080/"
        },
        "id": "ycIszcISxtci",
        "outputId": "47ec906d-fb64-4025-dda2-d90c69e1025f"
      },
      "source": [
        "df.isnull().sum() "
      ],
      "execution_count": null,
      "outputs": [
        {
          "output_type": "execute_result",
          "data": {
            "text/plain": [
              "user_name               0\n",
              "user_location       36771\n",
              "user_description    10286\n",
              "user_created            0\n",
              "user_followers          0\n",
              "user_friends            0\n",
              "user_favourites         0\n",
              "user_verified           0\n",
              "date                    0\n",
              "text                    0\n",
              "hashtags            51334\n",
              "source                 77\n",
              "is_retweet              0\n",
              "dtype: int64"
            ]
          },
          "metadata": {
            "tags": []
          },
          "execution_count": 6
        }
      ]
    },
    {
      "cell_type": "code",
      "metadata": {
        "id": "8kqdd5fux595"
      },
      "source": [
        "df = df.dropna()"
      ],
      "execution_count": null,
      "outputs": []
    },
    {
      "cell_type": "code",
      "metadata": {
        "colab": {
          "base_uri": "https://localhost:8080/"
        },
        "id": "one7PBnVxubP",
        "outputId": "613588a8-53ab-4d6a-8ab8-76066cb7abc2"
      },
      "source": [
        "df.duplicated().sum()"
      ],
      "execution_count": null,
      "outputs": [
        {
          "output_type": "execute_result",
          "data": {
            "text/plain": [
              "0"
            ]
          },
          "metadata": {
            "tags": []
          },
          "execution_count": 8
        }
      ]
    },
    {
      "cell_type": "code",
      "metadata": {
        "id": "F5ffrPoizcXk"
      },
      "source": [
        "df = df.drop_duplicates(subset=None, keep='first', inplace=False)"
      ],
      "execution_count": null,
      "outputs": []
    },
    {
      "cell_type": "code",
      "metadata": {
        "colab": {
          "base_uri": "https://localhost:8080/"
        },
        "id": "tSoLiNQaxzPY",
        "outputId": "6caa2610-e265-47f0-f8c5-a43f36dd5c15"
      },
      "source": [
        "df.isnull().sum()"
      ],
      "execution_count": null,
      "outputs": [
        {
          "output_type": "execute_result",
          "data": {
            "text/plain": [
              "user_name           0\n",
              "user_location       0\n",
              "user_description    0\n",
              "user_created        0\n",
              "user_followers      0\n",
              "user_friends        0\n",
              "user_favourites     0\n",
              "user_verified       0\n",
              "date                0\n",
              "text                0\n",
              "hashtags            0\n",
              "source              0\n",
              "is_retweet          0\n",
              "dtype: int64"
            ]
          },
          "metadata": {
            "tags": []
          },
          "execution_count": 10
        }
      ]
    },
    {
      "cell_type": "code",
      "metadata": {
        "colab": {
          "base_uri": "https://localhost:8080/"
        },
        "id": "oUbUI2gH1GZT",
        "outputId": "9133695b-fcf7-481a-bb61-41ff444e5883"
      },
      "source": [
        "df.shape"
      ],
      "execution_count": null,
      "outputs": [
        {
          "output_type": "execute_result",
          "data": {
            "text/plain": [
              "(99138, 13)"
            ]
          },
          "metadata": {
            "tags": []
          },
          "execution_count": 11
        }
      ]
    },
    {
      "cell_type": "markdown",
      "metadata": {
        "id": "K4OmK5GVjqdz"
      },
      "source": [
        "## Sampling"
      ]
    },
    {
      "cell_type": "code",
      "metadata": {
        "id": "f78Y73pmynA4"
      },
      "source": [
        "sample = df.sample(n=15000)\n",
        "#sample.to_csv('sample_data.csv',index=False)"
      ],
      "execution_count": null,
      "outputs": []
    },
    {
      "cell_type": "code",
      "metadata": {
        "colab": {
          "base_uri": "https://localhost:8080/",
          "height": 434
        },
        "id": "GxcP2iv31J6Q",
        "outputId": "5867f7a5-4039-41dc-e383-0205aca8fd44"
      },
      "source": [
        "sample.head()"
      ],
      "execution_count": null,
      "outputs": [
        {
          "output_type": "execute_result",
          "data": {
            "text/html": [
              "<div>\n",
              "<style scoped>\n",
              "    .dataframe tbody tr th:only-of-type {\n",
              "        vertical-align: middle;\n",
              "    }\n",
              "\n",
              "    .dataframe tbody tr th {\n",
              "        vertical-align: top;\n",
              "    }\n",
              "\n",
              "    .dataframe thead th {\n",
              "        text-align: right;\n",
              "    }\n",
              "</style>\n",
              "<table border=\"1\" class=\"dataframe\">\n",
              "  <thead>\n",
              "    <tr style=\"text-align: right;\">\n",
              "      <th></th>\n",
              "      <th>user_name</th>\n",
              "      <th>user_location</th>\n",
              "      <th>user_description</th>\n",
              "      <th>user_created</th>\n",
              "      <th>user_followers</th>\n",
              "      <th>user_friends</th>\n",
              "      <th>user_favourites</th>\n",
              "      <th>user_verified</th>\n",
              "      <th>date</th>\n",
              "      <th>text</th>\n",
              "      <th>hashtags</th>\n",
              "      <th>source</th>\n",
              "      <th>is_retweet</th>\n",
              "    </tr>\n",
              "  </thead>\n",
              "  <tbody>\n",
              "    <tr>\n",
              "      <th>31128</th>\n",
              "      <td>John McPherson🏴󠁧󠁢󠁳󠁣󠁴󠁿⚽️🇺🇸</td>\n",
              "      <td>Arizona, USA</td>\n",
              "      <td>Scottish (naturalized American). Amazing wife ...</td>\n",
              "      <td>2008-08-01 19:31:48</td>\n",
              "      <td>833</td>\n",
              "      <td>532</td>\n",
              "      <td>55861</td>\n",
              "      <td>False</td>\n",
              "      <td>2020-07-27 02:25:52</td>\n",
              "      <td>That's something like 150,000 per person who d...</td>\n",
              "      <td>['COVID19']</td>\n",
              "      <td>Twitter for Android</td>\n",
              "      <td>False</td>\n",
              "    </tr>\n",
              "    <tr>\n",
              "      <th>40805</th>\n",
              "      <td>PETER MAER</td>\n",
              "      <td>Washington, DC</td>\n",
              "      <td>Retired White House Corr. \\nEdward R. Murrow A...</td>\n",
              "      <td>2010-03-12 15:20:56</td>\n",
              "      <td>13370</td>\n",
              "      <td>11483</td>\n",
              "      <td>1538</td>\n",
              "      <td>True</td>\n",
              "      <td>2020-07-29 16:15:48</td>\n",
              "      <td>As Trump continues to talk up #hydroxycholoroq...</td>\n",
              "      <td>['hydroxycholoroquine', 'DrFauci']</td>\n",
              "      <td>Twitter for iPhone</td>\n",
              "      <td>False</td>\n",
              "    </tr>\n",
              "    <tr>\n",
              "      <th>142424</th>\n",
              "      <td>The Korea Herald</td>\n",
              "      <td>Seoul, Korea</td>\n",
              "      <td>코리아헤럴드 Established in 1953, Korea's No.1 Engli...</td>\n",
              "      <td>2009-07-13 01:58:14</td>\n",
              "      <td>65722</td>\n",
              "      <td>25</td>\n",
              "      <td>32</td>\n",
              "      <td>True</td>\n",
              "      <td>2020-08-17 07:04:52</td>\n",
              "      <td>Culture sector scrambles as COVID-19 cases soa...</td>\n",
              "      <td>['SouthKorea', 'culture', 'COVID19', 'pandemic']</td>\n",
              "      <td>Twitter Web App</td>\n",
              "      <td>False</td>\n",
              "    </tr>\n",
              "    <tr>\n",
              "      <th>132768</th>\n",
              "      <td>Andrew Davis</td>\n",
              "      <td>London, England</td>\n",
              "      <td>A personal view of life, music and Hong Kong n...</td>\n",
              "      <td>2009-12-11 08:52:51</td>\n",
              "      <td>2715</td>\n",
              "      <td>4186</td>\n",
              "      <td>64387</td>\n",
              "      <td>False</td>\n",
              "      <td>2020-08-16 09:17:53</td>\n",
              "      <td>End of an era: has #coronavirus killed the #US...</td>\n",
              "      <td>['coronavirus', 'US', 'Democrats', 'Republican...</td>\n",
              "      <td>Twitter for iPhone</td>\n",
              "      <td>False</td>\n",
              "    </tr>\n",
              "    <tr>\n",
              "      <th>153865</th>\n",
              "      <td>OrgThis Blog - S.Lee</td>\n",
              "      <td>Texas, USA</td>\n",
              "      <td>Blog for organization, productivity, and style...</td>\n",
              "      <td>2011-02-28 20:15:47</td>\n",
              "      <td>10479</td>\n",
              "      <td>11742</td>\n",
              "      <td>0</td>\n",
              "      <td>False</td>\n",
              "      <td>2020-08-18 16:19:00</td>\n",
              "      <td>How to Clean Your Reusable #facemasks https://...</td>\n",
              "      <td>['facemasks', 'Tips', 'Video', 'Covid19']</td>\n",
              "      <td>TweetDeck</td>\n",
              "      <td>False</td>\n",
              "    </tr>\n",
              "  </tbody>\n",
              "</table>\n",
              "</div>"
            ],
            "text/plain": [
              "                        user_name  ... is_retweet\n",
              "31128   John McPherson🏴󠁧󠁢󠁳󠁣󠁴󠁿⚽️🇺🇸  ...      False\n",
              "40805                  PETER MAER  ...      False\n",
              "142424           The Korea Herald  ...      False\n",
              "132768               Andrew Davis  ...      False\n",
              "153865       OrgThis Blog - S.Lee  ...      False\n",
              "\n",
              "[5 rows x 13 columns]"
            ]
          },
          "metadata": {
            "tags": []
          },
          "execution_count": 13
        }
      ]
    },
    {
      "cell_type": "code",
      "metadata": {
        "colab": {
          "base_uri": "https://localhost:8080/",
          "height": 293
        },
        "id": "l-FurZVb2Cdf",
        "outputId": "467e476d-3636-4fa0-c9ed-7aebbc062835"
      },
      "source": [
        "df1 = sample.drop(['user_created','user_description','user_followers','user_friends','user_favourites','user_verified','source','is_retweet'],axis=1)\n",
        "df1.head()"
      ],
      "execution_count": null,
      "outputs": [
        {
          "output_type": "execute_result",
          "data": {
            "text/html": [
              "<div>\n",
              "<style scoped>\n",
              "    .dataframe tbody tr th:only-of-type {\n",
              "        vertical-align: middle;\n",
              "    }\n",
              "\n",
              "    .dataframe tbody tr th {\n",
              "        vertical-align: top;\n",
              "    }\n",
              "\n",
              "    .dataframe thead th {\n",
              "        text-align: right;\n",
              "    }\n",
              "</style>\n",
              "<table border=\"1\" class=\"dataframe\">\n",
              "  <thead>\n",
              "    <tr style=\"text-align: right;\">\n",
              "      <th></th>\n",
              "      <th>user_name</th>\n",
              "      <th>user_location</th>\n",
              "      <th>date</th>\n",
              "      <th>text</th>\n",
              "      <th>hashtags</th>\n",
              "    </tr>\n",
              "  </thead>\n",
              "  <tbody>\n",
              "    <tr>\n",
              "      <th>31128</th>\n",
              "      <td>John McPherson🏴󠁧󠁢󠁳󠁣󠁴󠁿⚽️🇺🇸</td>\n",
              "      <td>Arizona, USA</td>\n",
              "      <td>2020-07-27 02:25:52</td>\n",
              "      <td>That's something like 150,000 per person who d...</td>\n",
              "      <td>['COVID19']</td>\n",
              "    </tr>\n",
              "    <tr>\n",
              "      <th>40805</th>\n",
              "      <td>PETER MAER</td>\n",
              "      <td>Washington, DC</td>\n",
              "      <td>2020-07-29 16:15:48</td>\n",
              "      <td>As Trump continues to talk up #hydroxycholoroq...</td>\n",
              "      <td>['hydroxycholoroquine', 'DrFauci']</td>\n",
              "    </tr>\n",
              "    <tr>\n",
              "      <th>142424</th>\n",
              "      <td>The Korea Herald</td>\n",
              "      <td>Seoul, Korea</td>\n",
              "      <td>2020-08-17 07:04:52</td>\n",
              "      <td>Culture sector scrambles as COVID-19 cases soa...</td>\n",
              "      <td>['SouthKorea', 'culture', 'COVID19', 'pandemic']</td>\n",
              "    </tr>\n",
              "    <tr>\n",
              "      <th>132768</th>\n",
              "      <td>Andrew Davis</td>\n",
              "      <td>London, England</td>\n",
              "      <td>2020-08-16 09:17:53</td>\n",
              "      <td>End of an era: has #coronavirus killed the #US...</td>\n",
              "      <td>['coronavirus', 'US', 'Democrats', 'Republican...</td>\n",
              "    </tr>\n",
              "    <tr>\n",
              "      <th>153865</th>\n",
              "      <td>OrgThis Blog - S.Lee</td>\n",
              "      <td>Texas, USA</td>\n",
              "      <td>2020-08-18 16:19:00</td>\n",
              "      <td>How to Clean Your Reusable #facemasks https://...</td>\n",
              "      <td>['facemasks', 'Tips', 'Video', 'Covid19']</td>\n",
              "    </tr>\n",
              "  </tbody>\n",
              "</table>\n",
              "</div>"
            ],
            "text/plain": [
              "                        user_name  ...                                           hashtags\n",
              "31128   John McPherson🏴󠁧󠁢󠁳󠁣󠁴󠁿⚽️🇺🇸  ...                                        ['COVID19']\n",
              "40805                  PETER MAER  ...                 ['hydroxycholoroquine', 'DrFauci']\n",
              "142424           The Korea Herald  ...   ['SouthKorea', 'culture', 'COVID19', 'pandemic']\n",
              "132768               Andrew Davis  ...  ['coronavirus', 'US', 'Democrats', 'Republican...\n",
              "153865       OrgThis Blog - S.Lee  ...          ['facemasks', 'Tips', 'Video', 'Covid19']\n",
              "\n",
              "[5 rows x 5 columns]"
            ]
          },
          "metadata": {
            "tags": []
          },
          "execution_count": 14
        }
      ]
    },
    {
      "cell_type": "code",
      "metadata": {
        "colab": {
          "base_uri": "https://localhost:8080/"
        },
        "id": "wvs3PBmo3SWr",
        "outputId": "ad6e7526-49aa-4150-98ea-f600185966fb"
      },
      "source": [
        "df1['user_location'].value_counts()"
      ],
      "execution_count": null,
      "outputs": [
        {
          "output_type": "execute_result",
          "data": {
            "text/plain": [
              "India                       453\n",
              "United States               255\n",
              "New Delhi, India            235\n",
              "Mumbai, India               181\n",
              "Washington, DC              138\n",
              "                           ... \n",
              "Turn On Notifications 📲🔔      1\n",
              "Lahaska, PA                   1\n",
              "ÜT: 18.003518,-76.788264      1\n",
              "Graz, Österreich              1\n",
              "Mobile:0727-444454            1\n",
              "Name: user_location, Length: 5634, dtype: int64"
            ]
          },
          "metadata": {
            "tags": []
          },
          "execution_count": 15
        }
      ]
    },
    {
      "cell_type": "code",
      "metadata": {
        "colab": {
          "base_uri": "https://localhost:8080/"
        },
        "id": "fF_Sx5a83vbS",
        "outputId": "1f328eeb-9a3c-4b8c-a5ef-fcb1c800fefa"
      },
      "source": [
        "df1.shape"
      ],
      "execution_count": null,
      "outputs": [
        {
          "output_type": "execute_result",
          "data": {
            "text/plain": [
              "(15000, 5)"
            ]
          },
          "metadata": {
            "tags": []
          },
          "execution_count": 16
        }
      ]
    },
    {
      "cell_type": "code",
      "metadata": {
        "id": "JNcPB-jW316T"
      },
      "source": [
        "df1.to_csv('sampledata.csv',index=False)"
      ],
      "execution_count": null,
      "outputs": []
    },
    {
      "cell_type": "markdown",
      "metadata": {
        "id": "bF9wY4Dw90MP"
      },
      "source": [
        "## Sentiment Polarity\n"
      ]
    },
    {
      "cell_type": "code",
      "metadata": {
        "id": "M1fycGbz_Jwz"
      },
      "source": [
        "df1 = pd.read_csv(\"sampledata.csv\")"
      ],
      "execution_count": null,
      "outputs": []
    },
    {
      "cell_type": "code",
      "metadata": {
        "colab": {
          "base_uri": "https://localhost:8080/"
        },
        "id": "a_tXf3Au4hei",
        "outputId": "8467cea5-a763-4752-eb96-3a46bf10cb9b"
      },
      "source": [
        "import nltk\n",
        "nltk.download('vader_lexicon')"
      ],
      "execution_count": null,
      "outputs": [
        {
          "output_type": "stream",
          "text": [
            "[nltk_data] Downloading package vader_lexicon to /root/nltk_data...\n"
          ],
          "name": "stdout"
        },
        {
          "output_type": "execute_result",
          "data": {
            "text/plain": [
              "True"
            ]
          },
          "metadata": {
            "tags": []
          },
          "execution_count": 19
        }
      ]
    },
    {
      "cell_type": "code",
      "metadata": {
        "colab": {
          "base_uri": "https://localhost:8080/"
        },
        "id": "0NzKOJki92z5",
        "outputId": "2a163f58-cd18-4858-e951-0dc5ce65532a"
      },
      "source": [
        "from nltk.sentiment.vader import SentimentIntensityAnalyzer\n",
        "\n",
        "sid = SentimentIntensityAnalyzer()"
      ],
      "execution_count": null,
      "outputs": [
        {
          "output_type": "stream",
          "text": [
            "/usr/local/lib/python3.7/dist-packages/nltk/twitter/__init__.py:20: UserWarning: The twython library has not been installed. Some functionality from the twitter package will not be available.\n",
            "  warnings.warn(\"The twython library has not been installed. \"\n"
          ],
          "name": "stderr"
        }
      ]
    },
    {
      "cell_type": "code",
      "metadata": {
        "colab": {
          "base_uri": "https://localhost:8080/"
        },
        "id": "uI46o_50_dQm",
        "outputId": "df73b8eb-ac75-43bc-933b-4f157fe9c212"
      },
      "source": [
        "blanks = []  # start with an empty list\n",
        "\n",
        "for i,un,ul,d,t,h in df1.itertuples():  # iterate over the DataFrame\n",
        "    if type(t)==str:            # avoid NaN values\n",
        "        if t.isspace():         # test 'review' for whitespace\n",
        "            blanks.append(i)     # add matching index numbers to the list\n",
        "\n",
        "df1.drop(blanks, inplace=True)\n",
        "df1.shape"
      ],
      "execution_count": null,
      "outputs": [
        {
          "output_type": "execute_result",
          "data": {
            "text/plain": [
              "(15000, 5)"
            ]
          },
          "metadata": {
            "tags": []
          },
          "execution_count": 21
        }
      ]
    },
    {
      "cell_type": "code",
      "metadata": {
        "colab": {
          "base_uri": "https://localhost:8080/",
          "height": 293
        },
        "id": "1YIi5gyP99ZF",
        "outputId": "5070227c-c9c1-4206-819b-77051f184aaf"
      },
      "source": [
        "df1['scores'] = df1['text'].apply(lambda review: sid.polarity_scores(review))\n",
        "\n",
        "df1['compound']  = df1['scores'].apply(lambda score_dict: score_dict['compound'])\n",
        "\n",
        "\n",
        "df1['label'] = df1['compound'].apply(lambda c: 'pos' if c >0 else ('neu' if c==0 else 'neg'))\n",
        "\n",
        "\n",
        "df1.head()"
      ],
      "execution_count": null,
      "outputs": [
        {
          "output_type": "execute_result",
          "data": {
            "text/html": [
              "<div>\n",
              "<style scoped>\n",
              "    .dataframe tbody tr th:only-of-type {\n",
              "        vertical-align: middle;\n",
              "    }\n",
              "\n",
              "    .dataframe tbody tr th {\n",
              "        vertical-align: top;\n",
              "    }\n",
              "\n",
              "    .dataframe thead th {\n",
              "        text-align: right;\n",
              "    }\n",
              "</style>\n",
              "<table border=\"1\" class=\"dataframe\">\n",
              "  <thead>\n",
              "    <tr style=\"text-align: right;\">\n",
              "      <th></th>\n",
              "      <th>user_name</th>\n",
              "      <th>user_location</th>\n",
              "      <th>date</th>\n",
              "      <th>text</th>\n",
              "      <th>hashtags</th>\n",
              "      <th>scores</th>\n",
              "      <th>compound</th>\n",
              "      <th>label</th>\n",
              "    </tr>\n",
              "  </thead>\n",
              "  <tbody>\n",
              "    <tr>\n",
              "      <th>0</th>\n",
              "      <td>John McPherson🏴󠁧󠁢󠁳󠁣󠁴󠁿⚽️🇺🇸</td>\n",
              "      <td>Arizona, USA</td>\n",
              "      <td>2020-07-27 02:25:52</td>\n",
              "      <td>That's something like 150,000 per person who d...</td>\n",
              "      <td>['COVID19']</td>\n",
              "      <td>{'neg': 0.138, 'neu': 0.766, 'pos': 0.096, 'co...</td>\n",
              "      <td>-0.2732</td>\n",
              "      <td>neg</td>\n",
              "    </tr>\n",
              "    <tr>\n",
              "      <th>1</th>\n",
              "      <td>PETER MAER</td>\n",
              "      <td>Washington, DC</td>\n",
              "      <td>2020-07-29 16:15:48</td>\n",
              "      <td>As Trump continues to talk up #hydroxycholoroq...</td>\n",
              "      <td>['hydroxycholoroquine', 'DrFauci']</td>\n",
              "      <td>{'neg': 0.097, 'neu': 0.903, 'pos': 0.0, 'comp...</td>\n",
              "      <td>-0.1027</td>\n",
              "      <td>neg</td>\n",
              "    </tr>\n",
              "    <tr>\n",
              "      <th>2</th>\n",
              "      <td>The Korea Herald</td>\n",
              "      <td>Seoul, Korea</td>\n",
              "      <td>2020-08-17 07:04:52</td>\n",
              "      <td>Culture sector scrambles as COVID-19 cases soa...</td>\n",
              "      <td>['SouthKorea', 'culture', 'COVID19', 'pandemic']</td>\n",
              "      <td>{'neg': 0.0, 'neu': 1.0, 'pos': 0.0, 'compound...</td>\n",
              "      <td>0.0000</td>\n",
              "      <td>neu</td>\n",
              "    </tr>\n",
              "    <tr>\n",
              "      <th>3</th>\n",
              "      <td>Andrew Davis</td>\n",
              "      <td>London, England</td>\n",
              "      <td>2020-08-16 09:17:53</td>\n",
              "      <td>End of an era: has #coronavirus killed the #US...</td>\n",
              "      <td>['coronavirus', 'US', 'Democrats', 'Republican...</td>\n",
              "      <td>{'neg': 0.201, 'neu': 0.67, 'pos': 0.129, 'com...</td>\n",
              "      <td>-0.3818</td>\n",
              "      <td>neg</td>\n",
              "    </tr>\n",
              "    <tr>\n",
              "      <th>4</th>\n",
              "      <td>OrgThis Blog - S.Lee</td>\n",
              "      <td>Texas, USA</td>\n",
              "      <td>2020-08-18 16:19:00</td>\n",
              "      <td>How to Clean Your Reusable #facemasks https://...</td>\n",
              "      <td>['facemasks', 'Tips', 'Video', 'Covid19']</td>\n",
              "      <td>{'neg': 0.0, 'neu': 0.787, 'pos': 0.213, 'comp...</td>\n",
              "      <td>0.4019</td>\n",
              "      <td>pos</td>\n",
              "    </tr>\n",
              "  </tbody>\n",
              "</table>\n",
              "</div>"
            ],
            "text/plain": [
              "                   user_name    user_location  ... compound label\n",
              "0  John McPherson🏴󠁧󠁢󠁳󠁣󠁴󠁿⚽️🇺🇸     Arizona, USA  ...  -0.2732   neg\n",
              "1                 PETER MAER   Washington, DC  ...  -0.1027   neg\n",
              "2           The Korea Herald    Seoul, Korea   ...   0.0000   neu\n",
              "3               Andrew Davis  London, England  ...  -0.3818   neg\n",
              "4       OrgThis Blog - S.Lee       Texas, USA  ...   0.4019   pos\n",
              "\n",
              "[5 rows x 8 columns]"
            ]
          },
          "metadata": {
            "tags": []
          },
          "execution_count": 22
        }
      ]
    },
    {
      "cell_type": "code",
      "metadata": {
        "id": "5J8zgX5de30b"
      },
      "source": [
        "df1.to_csv('finalsample.csv',index=False)"
      ],
      "execution_count": null,
      "outputs": []
    },
    {
      "cell_type": "code",
      "metadata": {
        "colab": {
          "base_uri": "https://localhost:8080/"
        },
        "id": "HmrmSGA9-hE_",
        "outputId": "2a393eb3-0131-4a63-d92c-ed3b48448ceb"
      },
      "source": [
        "df1['label'].value_counts()"
      ],
      "execution_count": null,
      "outputs": [
        {
          "output_type": "execute_result",
          "data": {
            "text/plain": [
              "neu    5701\n",
              "pos    5438\n",
              "neg    3861\n",
              "Name: label, dtype: int64"
            ]
          },
          "metadata": {
            "tags": []
          },
          "execution_count": 24
        }
      ]
    },
    {
      "cell_type": "markdown",
      "metadata": {
        "id": "uyzdcb4Pj7FD"
      },
      "source": [
        "## Contractions removal"
      ]
    },
    {
      "cell_type": "code",
      "metadata": {
        "id": "l2va-VzMFTHp"
      },
      "source": [
        "import re\n",
        "contractions_dict = {\"can`t\":\"can not\",\n",
        "                     \"won`t\":\"will not\",\n",
        "                     \"don`t\":\"do not\",\n",
        "                     \"aren`t\":\"are not\",\n",
        "                     \"i`d\":\"i would\",\n",
        "                     \"couldn`t\": \"could not\",\n",
        "                     \"shouldn`t\": \"should not\",\n",
        "                     \"wouldn`t\": \"would not\",\n",
        "                     \"isn`t\": \"is not\",\n",
        "                     \"it`s\": \"it is\",\n",
        "                     \"didn`t\": \"did not\",\n",
        "                     \"weren`t\": \"were not\",\n",
        "                     \"mustn`t\": \"must not\",\n",
        "                    }\n",
        "\n",
        "def prepare_data(df1:pd.DataFrame) -> pd.DataFrame:\n",
        "    \n",
        "    df1[\"text\"] = df1[\"text\"] \\\n",
        "              .apply(lambda x: re.split('http:\\/\\/.*', str(x))[0]) \\\n",
        "              .str.lower() \\\n",
        "              .apply(lambda x: replace_words(x,contractions_dict))\n",
        "        \n",
        "    df1[\"label\"] = df1[\"label\"].map(\n",
        "                        {\"neu\": 1, \"neg\":0, \"pos\":2 }\n",
        "                        )\n",
        "    return df1.text.values, df1.label.values\n",
        "def replace_words(string:str, dictionary:dict):\n",
        "    for k, v in dictionary.items():\n",
        "        string = string.replace(k, v)\n",
        "    return string\n"
      ],
      "execution_count": null,
      "outputs": []
    },
    {
      "cell_type": "markdown",
      "metadata": {
        "id": "0QmKWiQ1Wqt0"
      },
      "source": [
        "##Lowercasing, Removing stopwords, and lemmatization"
      ]
    },
    {
      "cell_type": "code",
      "metadata": {
        "colab": {
          "base_uri": "https://localhost:8080/"
        },
        "id": "Qxt8F88o1ciJ",
        "outputId": "35da3842-f0be-4ab6-a2e7-e6f028f8d4e1"
      },
      "source": [
        "from nltk.corpus import stopwords\n",
        "from nltk.tokenize import word_tokenize\n",
        "from nltk.stem import WordNetLemmatizer\n",
        "nltk.download('stopwords')\n",
        "nltk.download('punkt')\n",
        "nltk.download('wordnet')\n",
        "\n",
        "lemmatizer = WordNetLemmatizer()\n",
        "stop_words = set(stopwords.words('english'))\n",
        "symbols = \"!\\\"#$%&()*+-./:;<=>?@[\\]^_`{|}~\\n\"\n",
        "\n",
        "for words in range(len(df1[\"text\"])):\n",
        "  word_tokens = word_tokenize(df1[\"text\"][words].lower())\n",
        "  filtered_sentence = [w for w in word_tokens if not w in stop_words]\n",
        "  filtered_sentence = []\n",
        "  for w in word_tokens:\n",
        "    if w not in stop_words and w not in symbols:\n",
        "      filtered_sentence.append(lemmatizer.lemmatize(w))\n",
        "  df1[\"text\"][words] = \" \".join(filtered_sentence)"
      ],
      "execution_count": null,
      "outputs": [
        {
          "output_type": "stream",
          "text": [
            "[nltk_data] Downloading package stopwords to /root/nltk_data...\n",
            "[nltk_data]   Package stopwords is already up-to-date!\n",
            "[nltk_data] Downloading package punkt to /root/nltk_data...\n",
            "[nltk_data]   Package punkt is already up-to-date!\n",
            "[nltk_data] Downloading package wordnet to /root/nltk_data...\n",
            "[nltk_data]   Unzipping corpora/wordnet.zip.\n"
          ],
          "name": "stdout"
        },
        {
          "output_type": "stream",
          "text": [
            "/usr/local/lib/python3.7/dist-packages/ipykernel_launcher.py:19: SettingWithCopyWarning: \n",
            "A value is trying to be set on a copy of a slice from a DataFrame\n",
            "\n",
            "See the caveats in the documentation: https://pandas.pydata.org/pandas-docs/stable/user_guide/indexing.html#returning-a-view-versus-a-copy\n"
          ],
          "name": "stderr"
        }
      ]
    },
    {
      "cell_type": "markdown",
      "metadata": {
        "id": "IibbXazqkAo5"
      },
      "source": [
        "## Random forest classifier"
      ]
    },
    {
      "cell_type": "code",
      "metadata": {
        "colab": {
          "base_uri": "https://localhost:8080/"
        },
        "id": "UTSIP8mFFshA",
        "outputId": "acc9d315-21c7-4d97-96a7-9781c5328f91"
      },
      "source": [
        "from sklearn import datasets, linear_model\n",
        "from sklearn.model_selection import train_test_split\n",
        "from matplotlib import pyplot as plt\n",
        "\n",
        "X = df1.text\n",
        "Y =df1.label\n",
        "\n",
        "X_train, X_test, y_train, y_test = train_test_split(X, Y, test_size=0.2)\n",
        "print(X_train.shape, y_train.shape)\n",
        "print(X_test.shape, y_test.shape)\n",
        "\n",
        "\n",
        "\n",
        "X_train = X_train \\\n",
        "              .apply(lambda x: re.split('http:\\/\\/.*', str(x))[0]) \\\n",
        "              .str.lower() \\\n",
        "              .apply(lambda x: replace_words(x,contractions_dict))\n",
        "\n",
        "X_test = X_test \\\n",
        "              .apply(lambda x: re.split('http:\\/\\/.*', str(x))[0]) \\\n",
        "              .str.lower() \\\n",
        "              .apply(lambda x: replace_words(x,contractions_dict))\n",
        "\n",
        "y_train =  y_train.map(\n",
        "                        {\"neu\": 1, \"neg\":0, \"pos\":2 }\n",
        "                        )\n",
        "y_test = y_test.map(\n",
        "                        {\"neu\": 1, \"neg\":0, \"pos\":2 }\n",
        "                        )\n"
      ],
      "execution_count": null,
      "outputs": [
        {
          "output_type": "stream",
          "text": [
            "(12000,) (12000,)\n",
            "(3000,) (3000,)\n"
          ],
          "name": "stdout"
        }
      ]
    },
    {
      "cell_type": "code",
      "metadata": {
        "id": "AbPJDgeVGiwM"
      },
      "source": [
        "train_tweets, train_labels = X_train,y_train\n",
        "test_tweets, test_labels = X_test,y_test"
      ],
      "execution_count": null,
      "outputs": []
    },
    {
      "cell_type": "code",
      "metadata": {
        "colab": {
          "base_uri": "https://localhost:8080/"
        },
        "id": "2_Ew6d4PR3WG",
        "outputId": "87105c85-b9aa-4596-9c11-7c61ae14064b"
      },
      "source": [
        "pip install keras\n"
      ],
      "execution_count": null,
      "outputs": [
        {
          "output_type": "stream",
          "text": [
            "Requirement already satisfied: keras in /usr/local/lib/python3.7/dist-packages (2.4.3)\n",
            "Requirement already satisfied: h5py in /usr/local/lib/python3.7/dist-packages (from keras) (2.10.0)\n",
            "Requirement already satisfied: numpy>=1.9.1 in /usr/local/lib/python3.7/dist-packages (from keras) (1.19.5)\n",
            "Requirement already satisfied: pyyaml in /usr/local/lib/python3.7/dist-packages (from keras) (3.13)\n",
            "Requirement already satisfied: scipy>=0.14 in /usr/local/lib/python3.7/dist-packages (from keras) (1.4.1)\n",
            "Requirement already satisfied: six in /usr/local/lib/python3.7/dist-packages (from h5py->keras) (1.15.0)\n"
          ],
          "name": "stdout"
        }
      ]
    },
    {
      "cell_type": "markdown",
      "metadata": {
        "id": "LYrcQYuHFP8E"
      },
      "source": [
        "_______________________________________"
      ]
    },
    {
      "cell_type": "code",
      "metadata": {
        "id": "HTpu5q9kQ6jS"
      },
      "source": [
        "from keras.preprocessing.text import Tokenizer\n",
        "tokenizer = Tokenizer()\n",
        "tokenizer.fit_on_texts(train_tweets)\n",
        "train_tokenized = tokenizer.texts_to_matrix(\n",
        "                             train_tweets,\n",
        "                             mode='tfidf'\n",
        "                             )\n",
        "test_tokenized = tokenizer.texts_to_matrix(\n",
        "                             test_tweets,\n",
        "                             mode='tfidf'\n",
        "                             )"
      ],
      "execution_count": null,
      "outputs": []
    },
    {
      "cell_type": "code",
      "metadata": {
        "colab": {
          "base_uri": "https://localhost:8080/"
        },
        "id": "tqB0j-RuRuJo",
        "outputId": "0f6a3ec5-cd7b-4a7b-e6e6-15f28f6538c6"
      },
      "source": [
        "from  sklearn.ensemble import RandomForestClassifier\n",
        "forest = RandomForestClassifier(\n",
        "                                n_estimators=500, \n",
        "                                min_samples_leaf=2,\n",
        "                                oob_score=True,\n",
        "                                n_jobs=-1,\n",
        "                                )\n",
        "forest.fit(train_tokenized,train_labels)\n",
        "print(f\"Train score: {forest.score(train_tokenized,train_labels)}\")\n",
        "print(f\"OOB score: {forest.oob_score_}\")"
      ],
      "execution_count": null,
      "outputs": [
        {
          "output_type": "stream",
          "text": [
            "Train score: 0.8415833333333333\n",
            "OOB score: 0.7650833333333333\n"
          ],
          "name": "stdout"
        }
      ]
    },
    {
      "cell_type": "code",
      "metadata": {
        "colab": {
          "base_uri": "https://localhost:8080/"
        },
        "id": "QKCBW59CRvMp",
        "outputId": "37de1c04-d5a9-4831-aea9-d9d130d462d9"
      },
      "source": [
        "print(\"Test score:\", forest.score(test_tokenized,test_labels))"
      ],
      "execution_count": null,
      "outputs": [
        {
          "output_type": "stream",
          "text": [
            "Test score: 0.756\n"
          ],
          "name": "stdout"
        }
      ]
    }
  ]
}