{
 "cells": [
  {
   "cell_type": "code",
   "execution_count": 6,
   "metadata": {},
   "outputs": [],
   "source": [
    "import csv\n",
    "import pandas as pd"
   ]
  },
  {
   "cell_type": "code",
   "execution_count": 4,
   "metadata": {},
   "outputs": [],
   "source": [
    "f = open(\"TweetsCOV19_3.tsv\")\n",
    "ff = csv.reader(f, delimiter=\"\\t\")"
   ]
  },
  {
   "cell_type": "code",
   "execution_count": 11,
   "metadata": {},
   "outputs": [
    {
     "data": {
      "text/html": [
       "<div>\n",
       "<style scoped>\n",
       "    .dataframe tbody tr th:only-of-type {\n",
       "        vertical-align: middle;\n",
       "    }\n",
       "\n",
       "    .dataframe tbody tr th {\n",
       "        vertical-align: top;\n",
       "    }\n",
       "\n",
       "    .dataframe thead th {\n",
       "        text-align: right;\n",
       "    }\n",
       "</style>\n",
       "<table border=\"1\" class=\"dataframe\">\n",
       "  <thead>\n",
       "    <tr style=\"text-align: right;\">\n",
       "      <th></th>\n",
       "      <th>1267214367881388035</th>\n",
       "      <th>4a493d9ef839054bbf2997fe10219ccd</th>\n",
       "      <th>Sun May 31 22:00:23 +0000 2020</th>\n",
       "      <th>525</th>\n",
       "      <th>285</th>\n",
       "      <th>0</th>\n",
       "      <th>0.1</th>\n",
       "      <th>orange chicken:Orange_chicken:-1.7264594681340661;asparagus:Asparagus:-1.8772463059084237;</th>\n",
       "      <th>1 -1</th>\n",
       "      <th>null;</th>\n",
       "      <th>QuarantineCuisine</th>\n",
       "      <th>null;.1</th>\n",
       "    </tr>\n",
       "  </thead>\n",
       "  <tbody>\n",
       "    <tr>\n",
       "      <th>0</th>\n",
       "      <td>1267214480192212993</td>\n",
       "      <td>601633f254c336271110c5837e831196</td>\n",
       "      <td>Sun May 31 22:00:50 +0000 2020</td>\n",
       "      <td>4851</td>\n",
       "      <td>4948</td>\n",
       "      <td>56</td>\n",
       "      <td>103</td>\n",
       "      <td>blacklivesmatter:Black_Lives_Matter:-2.0000780...</td>\n",
       "      <td>1 -1</td>\n",
       "      <td>null;</td>\n",
       "      <td>blacklivesmatter</td>\n",
       "      <td>null;</td>\n",
       "    </tr>\n",
       "    <tr>\n",
       "      <th>1</th>\n",
       "      <td>1267215059912179712</td>\n",
       "      <td>3b81eab3fb645a50b3d652a837c54ed5</td>\n",
       "      <td>Sun May 31 22:03:08 +0000 2020</td>\n",
       "      <td>145</td>\n",
       "      <td>234</td>\n",
       "      <td>0</td>\n",
       "      <td>0</td>\n",
       "      <td>birds of a feather:Birds_of_a_Feather:-1.45788...</td>\n",
       "      <td>1 -3</td>\n",
       "      <td>QuarantineTrac1 BeardsleeSherri</td>\n",
       "      <td>democrats madness DemocraticPartyPoliticians p...</td>\n",
       "      <td>null;</td>\n",
       "    </tr>\n",
       "    <tr>\n",
       "      <th>2</th>\n",
       "      <td>1267215114438168582</td>\n",
       "      <td>d80da4bb147e3829b48e305795e84b0e</td>\n",
       "      <td>Sun May 31 22:03:21 +0000 2020</td>\n",
       "      <td>130</td>\n",
       "      <td>581</td>\n",
       "      <td>0</td>\n",
       "      <td>0</td>\n",
       "      <td>vote leave:Vote_Leave:-1.2547500378858394;tory...</td>\n",
       "      <td>1 -1</td>\n",
       "      <td>lewis_goodall jo_penberthy ShippersUnbound</td>\n",
       "      <td>null;</td>\n",
       "      <td>null;</td>\n",
       "    </tr>\n",
       "    <tr>\n",
       "      <th>3</th>\n",
       "      <td>1267216070739464192</td>\n",
       "      <td>9e83fa483d2860d8147f9765d125e40b</td>\n",
       "      <td>Sun May 31 22:07:09 +0000 2020</td>\n",
       "      <td>263</td>\n",
       "      <td>241</td>\n",
       "      <td>0</td>\n",
       "      <td>0</td>\n",
       "      <td>you re telling me:You%27re_Telling_Me%21:-1.79...</td>\n",
       "      <td>2 -3</td>\n",
       "      <td>null;</td>\n",
       "      <td>null;</td>\n",
       "      <td>null;</td>\n",
       "    </tr>\n",
       "    <tr>\n",
       "      <th>4</th>\n",
       "      <td>1267216314038464524</td>\n",
       "      <td>a5b6a19c9dc970b564928159e8536dbb</td>\n",
       "      <td>Sun May 31 22:08:07 +0000 2020</td>\n",
       "      <td>13941</td>\n",
       "      <td>4905</td>\n",
       "      <td>0</td>\n",
       "      <td>0</td>\n",
       "      <td>biscayne bay:Biscayne_Bay:-1.1198451589657317;...</td>\n",
       "      <td>1 -1</td>\n",
       "      <td>ChristoandJC'</td>\n",
       "      <td>null;</td>\n",
       "      <td>null;</td>\n",
       "    </tr>\n",
       "  </tbody>\n",
       "</table>\n",
       "</div>"
      ],
      "text/plain": [
       "   1267214367881388035  4a493d9ef839054bbf2997fe10219ccd  \\\n",
       "0  1267214480192212993  601633f254c336271110c5837e831196   \n",
       "1  1267215059912179712  3b81eab3fb645a50b3d652a837c54ed5   \n",
       "2  1267215114438168582  d80da4bb147e3829b48e305795e84b0e   \n",
       "3  1267216070739464192  9e83fa483d2860d8147f9765d125e40b   \n",
       "4  1267216314038464524  a5b6a19c9dc970b564928159e8536dbb   \n",
       "\n",
       "   Sun May 31 22:00:23 +0000 2020    525   285   0  0.1  \\\n",
       "0  Sun May 31 22:00:50 +0000 2020   4851  4948  56  103   \n",
       "1  Sun May 31 22:03:08 +0000 2020    145   234   0    0   \n",
       "2  Sun May 31 22:03:21 +0000 2020    130   581   0    0   \n",
       "3  Sun May 31 22:07:09 +0000 2020    263   241   0    0   \n",
       "4  Sun May 31 22:08:07 +0000 2020  13941  4905   0    0   \n",
       "\n",
       "  orange chicken:Orange_chicken:-1.7264594681340661;asparagus:Asparagus:-1.8772463059084237;  \\\n",
       "0  blacklivesmatter:Black_Lives_Matter:-2.0000780...                                           \n",
       "1  birds of a feather:Birds_of_a_Feather:-1.45788...                                           \n",
       "2  vote leave:Vote_Leave:-1.2547500378858394;tory...                                           \n",
       "3  you re telling me:You%27re_Telling_Me%21:-1.79...                                           \n",
       "4  biscayne bay:Biscayne_Bay:-1.1198451589657317;...                                           \n",
       "\n",
       "   1 -1                                       null;  \\\n",
       "0  1 -1                                       null;   \n",
       "1  1 -3             QuarantineTrac1 BeardsleeSherri   \n",
       "2  1 -1  lewis_goodall jo_penberthy ShippersUnbound   \n",
       "3  2 -3                                       null;   \n",
       "4  1 -1                               ChristoandJC'   \n",
       "\n",
       "                                   QuarantineCuisine null;.1  \n",
       "0                                   blacklivesmatter   null;  \n",
       "1  democrats madness DemocraticPartyPoliticians p...   null;  \n",
       "2                                              null;   null;  \n",
       "3                                              null;   null;  \n",
       "4                                              null;   null;  "
      ]
     },
     "execution_count": 11,
     "metadata": {},
     "output_type": "execute_result"
    }
   ],
   "source": [
    "data = pd.read_csv(\"TweetsCOV19_3.tsv\", delimiter=\"\\t\", skiprows=[9885106])\n",
    "data.head()"
   ]
  },
  {
   "cell_type": "code",
   "execution_count": 12,
   "metadata": {},
   "outputs": [
    {
     "data": {
      "text/plain": [
       "Index(['1267214367881388035', '4a493d9ef839054bbf2997fe10219ccd',\n",
       "       'Sun May 31 22:00:23 +0000 2020', '525', '285', '0', '0.1',\n",
       "       'orange chicken:Orange_chicken:-1.7264594681340661;asparagus:Asparagus:-1.8772463059084237;',\n",
       "       '1 -1', 'null;', 'QuarantineCuisine', 'null;.1'],\n",
       "      dtype='object')"
      ]
     },
     "execution_count": 12,
     "metadata": {},
     "output_type": "execute_result"
    }
   ],
   "source": [
    "data.columns"
   ]
  },
  {
   "cell_type": "code",
   "execution_count": null,
   "metadata": {},
   "outputs": [],
   "source": []
  }
 ],
 "metadata": {
  "kernelspec": {
   "display_name": "Python 3",
   "language": "python",
   "name": "python3"
  },
  "language_info": {
   "codemirror_mode": {
    "name": "ipython",
    "version": 3
   },
   "file_extension": ".py",
   "mimetype": "text/x-python",
   "name": "python",
   "nbconvert_exporter": "python",
   "pygments_lexer": "ipython3",
   "version": "3.7.3"
  }
 },
 "nbformat": 4,
 "nbformat_minor": 2
}
