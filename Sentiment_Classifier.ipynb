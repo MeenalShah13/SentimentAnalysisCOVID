{
  "nbformat": 4,
  "nbformat_minor": 0,
  "metadata": {
    "colab": {
      "name": "Sentiment Classifier.ipynb",
      "provenance": [],
      "collapsed_sections": [],
      "authorship_tag": "ABX9TyPkdCnaSGgwzX/awdwmIvE8",
      "include_colab_link": true
    },
    "kernelspec": {
      "name": "python3",
      "display_name": "Python 3"
    },
    "language_info": {
      "name": "python"
    }
  },
  "cells": [
    {
      "cell_type": "markdown",
      "metadata": {
        "id": "view-in-github",
        "colab_type": "text"
      },
      "source": [
        "<a href=\"https://colab.research.google.com/github/MeenalShah13/SentimentAnalysisCOVID/blob/main/Sentiment_Classifier.ipynb\" target=\"_parent\"><img src=\"https://colab.research.google.com/assets/colab-badge.svg\" alt=\"Open In Colab\"/></a>"
      ]
    },
    {
      "cell_type": "markdown",
      "metadata": {
        "id": "vV9iO-6fjcIh"
      },
      "source": [
        "## Preprocessing of tweets"
      ]
    },
    {
      "cell_type": "code",
      "metadata": {
        "id": "FTkci3EfWEZ0"
      },
      "source": [
        "import pandas as pd\n",
        "import numpy as np\n"
      ],
      "execution_count": null,
      "outputs": []
    },
    {
      "cell_type": "code",
      "metadata": {
        "colab": {
          "base_uri": "https://localhost:8080/",
          "height": 434
        },
        "id": "L6M70Ob7UsdD",
        "outputId": "1168ff48-7321-4a6f-aa1a-e8c2a8e95228"
      },
      "source": [
        "tweets=pd.read_csv('covid19_tweets.csv')\n",
        "tweets.head()"
      ],
      "execution_count": null,
      "outputs": [
        {
          "output_type": "execute_result",
          "data": {
            "text/html": [
              "<div>\n",
              "<style scoped>\n",
              "    .dataframe tbody tr th:only-of-type {\n",
              "        vertical-align: middle;\n",
              "    }\n",
              "\n",
              "    .dataframe tbody tr th {\n",
              "        vertical-align: top;\n",
              "    }\n",
              "\n",
              "    .dataframe thead th {\n",
              "        text-align: right;\n",
              "    }\n",
              "</style>\n",
              "<table border=\"1\" class=\"dataframe\">\n",
              "  <thead>\n",
              "    <tr style=\"text-align: right;\">\n",
              "      <th></th>\n",
              "      <th>user_name</th>\n",
              "      <th>user_location</th>\n",
              "      <th>user_description</th>\n",
              "      <th>user_created</th>\n",
              "      <th>user_followers</th>\n",
              "      <th>user_friends</th>\n",
              "      <th>user_favourites</th>\n",
              "      <th>user_verified</th>\n",
              "      <th>date</th>\n",
              "      <th>text</th>\n",
              "      <th>hashtags</th>\n",
              "      <th>source</th>\n",
              "      <th>is_retweet</th>\n",
              "    </tr>\n",
              "  </thead>\n",
              "  <tbody>\n",
              "    <tr>\n",
              "      <th>0</th>\n",
              "      <td>ᏉᎥ☻լꂅϮ</td>\n",
              "      <td>astroworld</td>\n",
              "      <td>wednesday addams as a disney princess keepin i...</td>\n",
              "      <td>2017-05-26 05:46:42</td>\n",
              "      <td>624</td>\n",
              "      <td>950</td>\n",
              "      <td>18775</td>\n",
              "      <td>False</td>\n",
              "      <td>2020-07-25 12:27:21</td>\n",
              "      <td>If I smelled the scent of hand sanitizers toda...</td>\n",
              "      <td>NaN</td>\n",
              "      <td>Twitter for iPhone</td>\n",
              "      <td>False</td>\n",
              "    </tr>\n",
              "    <tr>\n",
              "      <th>1</th>\n",
              "      <td>Tom Basile 🇺🇸</td>\n",
              "      <td>New York, NY</td>\n",
              "      <td>Husband, Father, Columnist &amp; Commentator. Auth...</td>\n",
              "      <td>2009-04-16 20:06:23</td>\n",
              "      <td>2253</td>\n",
              "      <td>1677</td>\n",
              "      <td>24</td>\n",
              "      <td>True</td>\n",
              "      <td>2020-07-25 12:27:17</td>\n",
              "      <td>Hey @Yankees @YankeesPR and @MLB - wouldn't it...</td>\n",
              "      <td>NaN</td>\n",
              "      <td>Twitter for Android</td>\n",
              "      <td>False</td>\n",
              "    </tr>\n",
              "    <tr>\n",
              "      <th>2</th>\n",
              "      <td>Time4fisticuffs</td>\n",
              "      <td>Pewee Valley, KY</td>\n",
              "      <td>#Christian #Catholic #Conservative #Reagan #Re...</td>\n",
              "      <td>2009-02-28 18:57:41</td>\n",
              "      <td>9275</td>\n",
              "      <td>9525</td>\n",
              "      <td>7254</td>\n",
              "      <td>False</td>\n",
              "      <td>2020-07-25 12:27:14</td>\n",
              "      <td>@diane3443 @wdunlap @realDonaldTrump Trump nev...</td>\n",
              "      <td>['COVID19']</td>\n",
              "      <td>Twitter for Android</td>\n",
              "      <td>False</td>\n",
              "    </tr>\n",
              "    <tr>\n",
              "      <th>3</th>\n",
              "      <td>ethel mertz</td>\n",
              "      <td>Stuck in the Middle</td>\n",
              "      <td>#Browns #Indians #ClevelandProud #[]_[] #Cavs ...</td>\n",
              "      <td>2019-03-07 01:45:06</td>\n",
              "      <td>197</td>\n",
              "      <td>987</td>\n",
              "      <td>1488</td>\n",
              "      <td>False</td>\n",
              "      <td>2020-07-25 12:27:10</td>\n",
              "      <td>@brookbanktv The one gift #COVID19 has give me...</td>\n",
              "      <td>['COVID19']</td>\n",
              "      <td>Twitter for iPhone</td>\n",
              "      <td>False</td>\n",
              "    </tr>\n",
              "    <tr>\n",
              "      <th>4</th>\n",
              "      <td>DIPR-J&amp;K</td>\n",
              "      <td>Jammu and Kashmir</td>\n",
              "      <td>🖊️Official Twitter handle of Department of Inf...</td>\n",
              "      <td>2017-02-12 06:45:15</td>\n",
              "      <td>101009</td>\n",
              "      <td>168</td>\n",
              "      <td>101</td>\n",
              "      <td>False</td>\n",
              "      <td>2020-07-25 12:27:08</td>\n",
              "      <td>25 July : Media Bulletin on Novel #CoronaVirus...</td>\n",
              "      <td>['CoronaVirusUpdates', 'COVID19']</td>\n",
              "      <td>Twitter for Android</td>\n",
              "      <td>False</td>\n",
              "    </tr>\n",
              "  </tbody>\n",
              "</table>\n",
              "</div>"
            ],
            "text/plain": [
              "         user_name         user_location  ...               source is_retweet\n",
              "0           ᏉᎥ☻լꂅϮ            astroworld  ...   Twitter for iPhone      False\n",
              "1    Tom Basile 🇺🇸          New York, NY  ...  Twitter for Android      False\n",
              "2  Time4fisticuffs      Pewee Valley, KY  ...  Twitter for Android      False\n",
              "3      ethel mertz  Stuck in the Middle   ...   Twitter for iPhone      False\n",
              "4         DIPR-J&K     Jammu and Kashmir  ...  Twitter for Android      False\n",
              "\n",
              "[5 rows x 13 columns]"
            ]
          },
          "metadata": {
            "tags": []
          },
          "execution_count": 15
        }
      ]
    },
    {
      "cell_type": "code",
      "metadata": {
        "id": "p5ScW6ebVyE8"
      },
      "source": [
        "df = tweets"
      ],
      "execution_count": null,
      "outputs": []
    },
    {
      "cell_type": "code",
      "metadata": {
        "colab": {
          "base_uri": "https://localhost:8080/"
        },
        "id": "TkhP8vcQzm7_",
        "outputId": "686e90bd-381d-4e97-c14b-233f534276d9"
      },
      "source": [
        "df.shape"
      ],
      "execution_count": null,
      "outputs": [
        {
          "output_type": "execute_result",
          "data": {
            "text/plain": [
              "(179108, 13)"
            ]
          },
          "metadata": {
            "tags": []
          },
          "execution_count": 17
        }
      ]
    },
    {
      "cell_type": "code",
      "metadata": {
        "colab": {
          "base_uri": "https://localhost:8080/"
        },
        "id": "ycIszcISxtci",
        "outputId": "222aad97-eadc-41c6-e2a0-7affdf0257b5"
      },
      "source": [
        "df.isnull().sum() "
      ],
      "execution_count": null,
      "outputs": [
        {
          "output_type": "execute_result",
          "data": {
            "text/plain": [
              "user_name               0\n",
              "user_location       36771\n",
              "user_description    10286\n",
              "user_created            0\n",
              "user_followers          0\n",
              "user_friends            0\n",
              "user_favourites         0\n",
              "user_verified           0\n",
              "date                    0\n",
              "text                    0\n",
              "hashtags            51334\n",
              "source                 77\n",
              "is_retweet              0\n",
              "dtype: int64"
            ]
          },
          "metadata": {
            "tags": []
          },
          "execution_count": 19
        }
      ]
    },
    {
      "cell_type": "code",
      "metadata": {
        "id": "8kqdd5fux595"
      },
      "source": [
        "df = df.dropna()"
      ],
      "execution_count": null,
      "outputs": []
    },
    {
      "cell_type": "code",
      "metadata": {
        "colab": {
          "base_uri": "https://localhost:8080/"
        },
        "id": "one7PBnVxubP",
        "outputId": "fdb91fbf-03da-4d17-efd5-c49742fe8495"
      },
      "source": [
        "df.duplicated().sum()"
      ],
      "execution_count": null,
      "outputs": [
        {
          "output_type": "execute_result",
          "data": {
            "text/plain": [
              "0"
            ]
          },
          "metadata": {
            "tags": []
          },
          "execution_count": 21
        }
      ]
    },
    {
      "cell_type": "code",
      "metadata": {
        "id": "F5ffrPoizcXk"
      },
      "source": [
        "df = df.drop_duplicates(subset=None, keep='first', inplace=False)"
      ],
      "execution_count": null,
      "outputs": []
    },
    {
      "cell_type": "code",
      "metadata": {
        "colab": {
          "base_uri": "https://localhost:8080/"
        },
        "id": "tSoLiNQaxzPY",
        "outputId": "98d08f64-fa81-4d6f-cf8f-e13f680fbe76"
      },
      "source": [
        "df.isnull().sum()"
      ],
      "execution_count": null,
      "outputs": [
        {
          "output_type": "execute_result",
          "data": {
            "text/plain": [
              "user_name           0\n",
              "user_location       0\n",
              "user_description    0\n",
              "user_created        0\n",
              "user_followers      0\n",
              "user_friends        0\n",
              "user_favourites     0\n",
              "user_verified       0\n",
              "date                0\n",
              "text                0\n",
              "hashtags            0\n",
              "source              0\n",
              "is_retweet          0\n",
              "dtype: int64"
            ]
          },
          "metadata": {
            "tags": []
          },
          "execution_count": 5
        }
      ]
    },
    {
      "cell_type": "code",
      "metadata": {
        "colab": {
          "base_uri": "https://localhost:8080/"
        },
        "id": "oUbUI2gH1GZT",
        "outputId": "8442e965-085c-42f0-9b94-b5a1dab7dcff"
      },
      "source": [
        "df.shape"
      ],
      "execution_count": null,
      "outputs": [
        {
          "output_type": "execute_result",
          "data": {
            "text/plain": [
              "(99138, 13)"
            ]
          },
          "metadata": {
            "tags": []
          },
          "execution_count": 6
        }
      ]
    },
    {
      "cell_type": "markdown",
      "metadata": {
        "id": "K4OmK5GVjqdz"
      },
      "source": [
        "## Sampling"
      ]
    },
    {
      "cell_type": "code",
      "metadata": {
        "id": "f78Y73pmynA4"
      },
      "source": [
        "sample = df.sample(n=15000)\n",
        "#sample.to_csv('sample_data.csv',index=False)"
      ],
      "execution_count": null,
      "outputs": []
    },
    {
      "cell_type": "code",
      "metadata": {
        "colab": {
          "base_uri": "https://localhost:8080/",
          "height": 434
        },
        "id": "GxcP2iv31J6Q",
        "outputId": "8d843469-fe8e-4df2-ff48-b494dd41a374"
      },
      "source": [
        "sample.head()"
      ],
      "execution_count": null,
      "outputs": [
        {
          "output_type": "execute_result",
          "data": {
            "text/html": [
              "<div>\n",
              "<style scoped>\n",
              "    .dataframe tbody tr th:only-of-type {\n",
              "        vertical-align: middle;\n",
              "    }\n",
              "\n",
              "    .dataframe tbody tr th {\n",
              "        vertical-align: top;\n",
              "    }\n",
              "\n",
              "    .dataframe thead th {\n",
              "        text-align: right;\n",
              "    }\n",
              "</style>\n",
              "<table border=\"1\" class=\"dataframe\">\n",
              "  <thead>\n",
              "    <tr style=\"text-align: right;\">\n",
              "      <th></th>\n",
              "      <th>user_name</th>\n",
              "      <th>user_location</th>\n",
              "      <th>user_description</th>\n",
              "      <th>user_created</th>\n",
              "      <th>user_followers</th>\n",
              "      <th>user_friends</th>\n",
              "      <th>user_favourites</th>\n",
              "      <th>user_verified</th>\n",
              "      <th>date</th>\n",
              "      <th>text</th>\n",
              "      <th>hashtags</th>\n",
              "      <th>source</th>\n",
              "      <th>is_retweet</th>\n",
              "    </tr>\n",
              "  </thead>\n",
              "  <tbody>\n",
              "    <tr>\n",
              "      <th>127508</th>\n",
              "      <td>راشد</td>\n",
              "      <td>Kingdom of Saudi Arabia</td>\n",
              "      <td>آغتراب ﻻفقدت إلي تحب كن مافوقك سماء وكن ماتحتك...</td>\n",
              "      <td>2019-05-18 03:54:26</td>\n",
              "      <td>18</td>\n",
              "      <td>212</td>\n",
              "      <td>52</td>\n",
              "      <td>False</td>\n",
              "      <td>2020-08-14 05:27:36</td>\n",
              "      <td>The Saudi Health Organization released #Tabaud...</td>\n",
              "      <td>['TabaudApp', 'COVID19']</td>\n",
              "      <td>Twitter Web App</td>\n",
              "      <td>False</td>\n",
              "    </tr>\n",
              "    <tr>\n",
              "      <th>50461</th>\n",
              "      <td>kim kartazian</td>\n",
              "      <td>Civic Center Tenderloin</td>\n",
              "      <td>Liberal. Punching up for the Tenderloin's most...</td>\n",
              "      <td>2018-07-11 18:01:04</td>\n",
              "      <td>408</td>\n",
              "      <td>353</td>\n",
              "      <td>8571</td>\n",
              "      <td>False</td>\n",
              "      <td>2020-07-31 17:28:44</td>\n",
              "      <td>@SF_DPH finally testing our mostly #Latinx bui...</td>\n",
              "      <td>['Latinx']</td>\n",
              "      <td>Twitter for iPhone</td>\n",
              "      <td>False</td>\n",
              "    </tr>\n",
              "    <tr>\n",
              "      <th>157654</th>\n",
              "      <td>ShanghaiEye</td>\n",
              "      <td>上海, 中华人民共和国</td>\n",
              "      <td>News and stories with a Shanghai perspective, ...</td>\n",
              "      <td>2015-10-16 06:24:19</td>\n",
              "      <td>29456</td>\n",
              "      <td>515</td>\n",
              "      <td>488</td>\n",
              "      <td>True</td>\n",
              "      <td>2020-08-22 08:36:46</td>\n",
              "      <td>...including stipulating that masks must be wo...</td>\n",
              "      <td>['COVID19']</td>\n",
              "      <td>Twitter Web App</td>\n",
              "      <td>False</td>\n",
              "    </tr>\n",
              "    <tr>\n",
              "      <th>43757</th>\n",
              "      <td>AMC</td>\n",
              "      <td>Tucson, AZ</td>\n",
              "      <td>Old liberal cat with kitten's heart. Mom/Mimi....</td>\n",
              "      <td>2010-03-21 00:07:35</td>\n",
              "      <td>12561</td>\n",
              "      <td>12393</td>\n",
              "      <td>154851</td>\n",
              "      <td>False</td>\n",
              "      <td>2020-07-30 20:15:53</td>\n",
              "      <td>#HermanCain wasn’t sick at #TrumpTulsaRally, w...</td>\n",
              "      <td>['HermanCain', 'TrumpTulsaRally']</td>\n",
              "      <td>Twitter for iPhone</td>\n",
              "      <td>False</td>\n",
              "    </tr>\n",
              "    <tr>\n",
              "      <th>125406</th>\n",
              "      <td>Trap Suit Podcast</td>\n",
              "      <td>Los Angeles, CA</td>\n",
              "      <td>Official Twitter of the Trap Suit Podcast 🎥🎙📺 ...</td>\n",
              "      <td>2020-05-11 02:50:00</td>\n",
              "      <td>71</td>\n",
              "      <td>223</td>\n",
              "      <td>329</td>\n",
              "      <td>False</td>\n",
              "      <td>2020-08-14 07:18:27</td>\n",
              "      <td>167K deaths due to #covid19 https://t.co/HJKbn...</td>\n",
              "      <td>['covid19']</td>\n",
              "      <td>Twitter for iPhone</td>\n",
              "      <td>False</td>\n",
              "    </tr>\n",
              "  </tbody>\n",
              "</table>\n",
              "</div>"
            ],
            "text/plain": [
              "                user_name  ... is_retweet\n",
              "127508               راشد  ...      False\n",
              "50461       kim kartazian  ...      False\n",
              "157654        ShanghaiEye  ...      False\n",
              "43757                 AMC  ...      False\n",
              "125406  Trap Suit Podcast  ...      False\n",
              "\n",
              "[5 rows x 13 columns]"
            ]
          },
          "metadata": {
            "tags": []
          },
          "execution_count": 8
        }
      ]
    },
    {
      "cell_type": "code",
      "metadata": {
        "colab": {
          "base_uri": "https://localhost:8080/",
          "height": 280
        },
        "id": "l-FurZVb2Cdf",
        "outputId": "a87d0ebd-c0e7-45e1-f6a6-6ff67d4c2d34"
      },
      "source": [
        "df1 = sample.drop(['user_created','user_description','user_followers','user_friends','user_favourites','user_verified','source','is_retweet'],axis=1)\n",
        "df1.head()"
      ],
      "execution_count": null,
      "outputs": [
        {
          "output_type": "execute_result",
          "data": {
            "text/html": [
              "<div>\n",
              "<style scoped>\n",
              "    .dataframe tbody tr th:only-of-type {\n",
              "        vertical-align: middle;\n",
              "    }\n",
              "\n",
              "    .dataframe tbody tr th {\n",
              "        vertical-align: top;\n",
              "    }\n",
              "\n",
              "    .dataframe thead th {\n",
              "        text-align: right;\n",
              "    }\n",
              "</style>\n",
              "<table border=\"1\" class=\"dataframe\">\n",
              "  <thead>\n",
              "    <tr style=\"text-align: right;\">\n",
              "      <th></th>\n",
              "      <th>user_name</th>\n",
              "      <th>user_location</th>\n",
              "      <th>date</th>\n",
              "      <th>text</th>\n",
              "      <th>hashtags</th>\n",
              "    </tr>\n",
              "  </thead>\n",
              "  <tbody>\n",
              "    <tr>\n",
              "      <th>127508</th>\n",
              "      <td>راشد</td>\n",
              "      <td>Kingdom of Saudi Arabia</td>\n",
              "      <td>2020-08-14 05:27:36</td>\n",
              "      <td>The Saudi Health Organization released #Tabaud...</td>\n",
              "      <td>['TabaudApp', 'COVID19']</td>\n",
              "    </tr>\n",
              "    <tr>\n",
              "      <th>50461</th>\n",
              "      <td>kim kartazian</td>\n",
              "      <td>Civic Center Tenderloin</td>\n",
              "      <td>2020-07-31 17:28:44</td>\n",
              "      <td>@SF_DPH finally testing our mostly #Latinx bui...</td>\n",
              "      <td>['Latinx']</td>\n",
              "    </tr>\n",
              "    <tr>\n",
              "      <th>157654</th>\n",
              "      <td>ShanghaiEye</td>\n",
              "      <td>上海, 中华人民共和国</td>\n",
              "      <td>2020-08-22 08:36:46</td>\n",
              "      <td>...including stipulating that masks must be wo...</td>\n",
              "      <td>['COVID19']</td>\n",
              "    </tr>\n",
              "    <tr>\n",
              "      <th>43757</th>\n",
              "      <td>AMC</td>\n",
              "      <td>Tucson, AZ</td>\n",
              "      <td>2020-07-30 20:15:53</td>\n",
              "      <td>#HermanCain wasn’t sick at #TrumpTulsaRally, w...</td>\n",
              "      <td>['HermanCain', 'TrumpTulsaRally']</td>\n",
              "    </tr>\n",
              "    <tr>\n",
              "      <th>125406</th>\n",
              "      <td>Trap Suit Podcast</td>\n",
              "      <td>Los Angeles, CA</td>\n",
              "      <td>2020-08-14 07:18:27</td>\n",
              "      <td>167K deaths due to #covid19 https://t.co/HJKbn...</td>\n",
              "      <td>['covid19']</td>\n",
              "    </tr>\n",
              "  </tbody>\n",
              "</table>\n",
              "</div>"
            ],
            "text/plain": [
              "                user_name  ...                           hashtags\n",
              "127508               راشد  ...           ['TabaudApp', 'COVID19']\n",
              "50461       kim kartazian  ...                         ['Latinx']\n",
              "157654        ShanghaiEye  ...                        ['COVID19']\n",
              "43757                 AMC  ...  ['HermanCain', 'TrumpTulsaRally']\n",
              "125406  Trap Suit Podcast  ...                        ['covid19']\n",
              "\n",
              "[5 rows x 5 columns]"
            ]
          },
          "metadata": {
            "tags": []
          },
          "execution_count": 9
        }
      ]
    },
    {
      "cell_type": "code",
      "metadata": {
        "colab": {
          "base_uri": "https://localhost:8080/"
        },
        "id": "wvs3PBmo3SWr",
        "outputId": "788a0b06-72dd-44a4-929a-eca3bb0c8340"
      },
      "source": [
        "df1['user_location'].value_counts()"
      ],
      "execution_count": null,
      "outputs": [
        {
          "output_type": "execute_result",
          "data": {
            "text/plain": [
              "India                          442\n",
              "United States                  254\n",
              "New Delhi, India               206\n",
              "Mumbai, India                  187\n",
              "Washington, DC                 125\n",
              "                              ... \n",
              "Mississippi                      1\n",
              "Sioux Falls, SD                  1\n",
              "Nairobi Metropolitan, Kenya      1\n",
              "Newfangled                       1\n",
              "Yorkshire Leeds UK               1\n",
              "Name: user_location, Length: 5555, dtype: int64"
            ]
          },
          "metadata": {
            "tags": []
          },
          "execution_count": 31
        }
      ]
    },
    {
      "cell_type": "code",
      "metadata": {
        "colab": {
          "base_uri": "https://localhost:8080/"
        },
        "id": "fF_Sx5a83vbS",
        "outputId": "66e49e50-24b0-4494-8ebd-fdb92643203f"
      },
      "source": [
        "df1.shape"
      ],
      "execution_count": null,
      "outputs": [
        {
          "output_type": "execute_result",
          "data": {
            "text/plain": [
              "(15000, 5)"
            ]
          },
          "metadata": {
            "tags": []
          },
          "execution_count": 10
        }
      ]
    },
    {
      "cell_type": "code",
      "metadata": {
        "id": "JNcPB-jW316T"
      },
      "source": [
        "df1.to_csv('sampledata.csv',index=False)"
      ],
      "execution_count": null,
      "outputs": []
    },
    {
      "cell_type": "markdown",
      "metadata": {
        "id": "bF9wY4Dw90MP"
      },
      "source": [
        "## Sentiment Polarity\n"
      ]
    },
    {
      "cell_type": "code",
      "metadata": {
        "id": "M1fycGbz_Jwz"
      },
      "source": [
        "df1 = pd.read_csv(\"sampledata.csv\")"
      ],
      "execution_count": null,
      "outputs": []
    },
    {
      "cell_type": "code",
      "metadata": {
        "colab": {
          "base_uri": "https://localhost:8080/"
        },
        "id": "a_tXf3Au4hei",
        "outputId": "29df9fc9-3410-41b9-a538-74972e0f75fc"
      },
      "source": [
        "import nltk\n",
        "nltk.download('vader_lexicon')"
      ],
      "execution_count": null,
      "outputs": [
        {
          "output_type": "stream",
          "text": [
            "[nltk_data] Downloading package vader_lexicon to /root/nltk_data...\n"
          ],
          "name": "stdout"
        },
        {
          "output_type": "execute_result",
          "data": {
            "text/plain": [
              "True"
            ]
          },
          "metadata": {
            "tags": []
          },
          "execution_count": 11
        }
      ]
    },
    {
      "cell_type": "code",
      "metadata": {
        "colab": {
          "base_uri": "https://localhost:8080/"
        },
        "id": "0NzKOJki92z5",
        "outputId": "77d2146e-b332-4949-cc8a-70354825a6c5"
      },
      "source": [
        "from nltk.sentiment.vader import SentimentIntensityAnalyzer\n",
        "\n",
        "sid = SentimentIntensityAnalyzer()"
      ],
      "execution_count": null,
      "outputs": [
        {
          "output_type": "stream",
          "text": [
            "/usr/local/lib/python3.7/dist-packages/nltk/twitter/__init__.py:20: UserWarning: The twython library has not been installed. Some functionality from the twitter package will not be available.\n",
            "  warnings.warn(\"The twython library has not been installed. \"\n"
          ],
          "name": "stderr"
        }
      ]
    },
    {
      "cell_type": "code",
      "metadata": {
        "colab": {
          "base_uri": "https://localhost:8080/"
        },
        "id": "uI46o_50_dQm",
        "outputId": "9a10aa27-064d-4154-e540-a94e362967c4"
      },
      "source": [
        "blanks = []  # start with an empty list\n",
        "\n",
        "for i,un,ul,d,t,h in df1.itertuples():  # iterate over the DataFrame\n",
        "    if type(t)==str:            # avoid NaN values\n",
        "        if t.isspace():         # test 'review' for whitespace\n",
        "            blanks.append(i)     # add matching index numbers to the list\n",
        "\n",
        "df1.drop(blanks, inplace=True)\n",
        "df1.shape"
      ],
      "execution_count": null,
      "outputs": [
        {
          "output_type": "execute_result",
          "data": {
            "text/plain": [
              "(15000, 5)"
            ]
          },
          "metadata": {
            "tags": []
          },
          "execution_count": 13
        }
      ]
    },
    {
      "cell_type": "code",
      "metadata": {
        "colab": {
          "base_uri": "https://localhost:8080/",
          "height": 364
        },
        "id": "1YIi5gyP99ZF",
        "outputId": "326de7c4-43d1-4a8b-82f6-2a5eb8dfbcb7"
      },
      "source": [
        "df1['scores'] = df1['text'].apply(lambda review: sid.polarity_scores(review))\n",
        "\n",
        "df1['compound']  = df1['scores'].apply(lambda score_dict: score_dict['compound'])\n",
        "\n",
        "\n",
        "df1['label'] = df1['compound'].apply(lambda c: 'pos' if c >0 else ('neu' if c==0 else 'neg'))\n",
        "\n",
        "\n",
        "df1.head()"
      ],
      "execution_count": null,
      "outputs": [
        {
          "output_type": "execute_result",
          "data": {
            "text/html": [
              "<div>\n",
              "<style scoped>\n",
              "    .dataframe tbody tr th:only-of-type {\n",
              "        vertical-align: middle;\n",
              "    }\n",
              "\n",
              "    .dataframe tbody tr th {\n",
              "        vertical-align: top;\n",
              "    }\n",
              "\n",
              "    .dataframe thead th {\n",
              "        text-align: right;\n",
              "    }\n",
              "</style>\n",
              "<table border=\"1\" class=\"dataframe\">\n",
              "  <thead>\n",
              "    <tr style=\"text-align: right;\">\n",
              "      <th></th>\n",
              "      <th>user_name</th>\n",
              "      <th>user_location</th>\n",
              "      <th>date</th>\n",
              "      <th>text</th>\n",
              "      <th>hashtags</th>\n",
              "      <th>scores</th>\n",
              "      <th>compound</th>\n",
              "      <th>label</th>\n",
              "    </tr>\n",
              "  </thead>\n",
              "  <tbody>\n",
              "    <tr>\n",
              "      <th>127508</th>\n",
              "      <td>راشد</td>\n",
              "      <td>Kingdom of Saudi Arabia</td>\n",
              "      <td>2020-08-14 05:27:36</td>\n",
              "      <td>The Saudi Health Organization released #Tabaud...</td>\n",
              "      <td>['TabaudApp', 'COVID19']</td>\n",
              "      <td>{'neg': 0.0, 'neu': 1.0, 'pos': 0.0, 'compound...</td>\n",
              "      <td>0.0000</td>\n",
              "      <td>neu</td>\n",
              "    </tr>\n",
              "    <tr>\n",
              "      <th>50461</th>\n",
              "      <td>kim kartazian</td>\n",
              "      <td>Civic Center Tenderloin</td>\n",
              "      <td>2020-07-31 17:28:44</td>\n",
              "      <td>@SF_DPH finally testing our mostly #Latinx bui...</td>\n",
              "      <td>['Latinx']</td>\n",
              "      <td>{'neg': 0.0, 'neu': 0.881, 'pos': 0.119, 'comp...</td>\n",
              "      <td>0.3182</td>\n",
              "      <td>pos</td>\n",
              "    </tr>\n",
              "    <tr>\n",
              "      <th>157654</th>\n",
              "      <td>ShanghaiEye</td>\n",
              "      <td>上海, 中华人民共和国</td>\n",
              "      <td>2020-08-22 08:36:46</td>\n",
              "      <td>...including stipulating that masks must be wo...</td>\n",
              "      <td>['COVID19']</td>\n",
              "      <td>{'neg': 0.118, 'neu': 0.699, 'pos': 0.183, 'co...</td>\n",
              "      <td>0.2960</td>\n",
              "      <td>pos</td>\n",
              "    </tr>\n",
              "    <tr>\n",
              "      <th>43757</th>\n",
              "      <td>AMC</td>\n",
              "      <td>Tucson, AZ</td>\n",
              "      <td>2020-07-30 20:15:53</td>\n",
              "      <td>#HermanCain wasn’t sick at #TrumpTulsaRally, w...</td>\n",
              "      <td>['HermanCain', 'TrumpTulsaRally']</td>\n",
              "      <td>{'neg': 0.138, 'neu': 0.711, 'pos': 0.151, 'co...</td>\n",
              "      <td>0.0772</td>\n",
              "      <td>pos</td>\n",
              "    </tr>\n",
              "    <tr>\n",
              "      <th>125406</th>\n",
              "      <td>Trap Suit Podcast</td>\n",
              "      <td>Los Angeles, CA</td>\n",
              "      <td>2020-08-14 07:18:27</td>\n",
              "      <td>167K deaths due to #covid19 https://t.co/HJKbn...</td>\n",
              "      <td>['covid19']</td>\n",
              "      <td>{'neg': 0.0, 'neu': 1.0, 'pos': 0.0, 'compound...</td>\n",
              "      <td>0.0000</td>\n",
              "      <td>neu</td>\n",
              "    </tr>\n",
              "  </tbody>\n",
              "</table>\n",
              "</div>"
            ],
            "text/plain": [
              "                user_name            user_location  ... compound label\n",
              "127508               راشد  Kingdom of Saudi Arabia  ...   0.0000   neu\n",
              "50461       kim kartazian  Civic Center Tenderloin  ...   0.3182   pos\n",
              "157654        ShanghaiEye              上海, 中华人民共和国  ...   0.2960   pos\n",
              "43757                 AMC               Tucson, AZ  ...   0.0772   pos\n",
              "125406  Trap Suit Podcast          Los Angeles, CA  ...   0.0000   neu\n",
              "\n",
              "[5 rows x 8 columns]"
            ]
          },
          "metadata": {
            "tags": []
          },
          "execution_count": 14
        }
      ]
    },
    {
      "cell_type": "code",
      "metadata": {
        "id": "5J8zgX5de30b"
      },
      "source": [
        "df1.to_csv('finalsample.csv',index=False)"
      ],
      "execution_count": null,
      "outputs": []
    },
    {
      "cell_type": "code",
      "metadata": {
        "colab": {
          "base_uri": "https://localhost:8080/"
        },
        "id": "HmrmSGA9-hE_",
        "outputId": "74c3d8b7-9d92-4322-9e07-04329598312a"
      },
      "source": [
        "df1['label'].value_counts()"
      ],
      "execution_count": null,
      "outputs": [
        {
          "output_type": "execute_result",
          "data": {
            "text/plain": [
              "pos    5602\n",
              "neu    5547\n",
              "neg    3851\n",
              "Name: label, dtype: int64"
            ]
          },
          "metadata": {
            "tags": []
          },
          "execution_count": 18
        }
      ]
    },
    {
      "cell_type": "markdown",
      "metadata": {
        "id": "uyzdcb4Pj7FD"
      },
      "source": [
        "## Contractions removal"
      ]
    },
    {
      "cell_type": "code",
      "metadata": {
        "id": "l2va-VzMFTHp"
      },
      "source": [
        "import re\n",
        "contractions_dict = {\"can`t\":\"can not\",\n",
        "                     \"won`t\":\"will not\",\n",
        "                     \"don`t\":\"do not\",\n",
        "                     \"aren`t\":\"are not\",\n",
        "                     \"i`d\":\"i would\",\n",
        "                     \"couldn`t\": \"could not\",\n",
        "                     \"shouldn`t\": \"should not\",\n",
        "                     \"wouldn`t\": \"would not\",\n",
        "                     \"isn`t\": \"is not\",\n",
        "                     \"it`s\": \"it is\",\n",
        "                     \"didn`t\": \"did not\",\n",
        "                     \"weren`t\": \"were not\",\n",
        "                     \"mustn`t\": \"must not\",\n",
        "                    }\n",
        "\n",
        "def prepare_data(df1:pd.DataFrame) -> pd.DataFrame:\n",
        "    \n",
        "    df1[\"text\"] = df1[\"text\"] \\\n",
        "              .apply(lambda x: re.split('http:\\/\\/.*', str(x))[0]) \\\n",
        "              .str.lower() \\\n",
        "              .apply(lambda x: replace_words(x,contractions_dict))\n",
        "        \n",
        "    df1[\"label\"] = df1[\"label\"].map(\n",
        "                        {\"neu\": 1, \"neg\":0, \"pos\":2 }\n",
        "                        )\n",
        "    return df1.text.values, df1.label.values\n",
        "def replace_words(string:str, dictionary:dict):\n",
        "    for k, v in dictionary.items():\n",
        "        string = string.replace(k, v)\n",
        "    return string\n"
      ],
      "execution_count": null,
      "outputs": []
    },
    {
      "cell_type": "markdown",
      "metadata": {
        "id": "IibbXazqkAo5"
      },
      "source": [
        "## Random forest classifier"
      ]
    },
    {
      "cell_type": "code",
      "metadata": {
        "colab": {
          "base_uri": "https://localhost:8080/"
        },
        "id": "UTSIP8mFFshA",
        "outputId": "e9bf13ab-d1af-4072-f299-d557726d7bde"
      },
      "source": [
        "from sklearn import datasets, linear_model\n",
        "from sklearn.model_selection import train_test_split\n",
        "from matplotlib import pyplot as plt\n",
        "\n",
        "X = df1.text\n",
        "Y =df1.label\n",
        "\n",
        "X_train, X_test, y_train, y_test = train_test_split(X, Y, test_size=0.2)\n",
        "print(X_train.shape, y_train.shape)\n",
        "print(X_test.shape, y_test.shape)\n",
        "\n",
        "\n",
        "\n",
        "X_train = X_train \\\n",
        "              .apply(lambda x: re.split('http:\\/\\/.*', str(x))[0]) \\\n",
        "              .str.lower() \\\n",
        "              .apply(lambda x: replace_words(x,contractions_dict))\n",
        "\n",
        "X_test = X_test \\\n",
        "              .apply(lambda x: re.split('http:\\/\\/.*', str(x))[0]) \\\n",
        "              .str.lower() \\\n",
        "              .apply(lambda x: replace_words(x,contractions_dict))\n",
        "\n",
        "y_train =  y_train.map(\n",
        "                        {\"neu\": 1, \"neg\":0, \"pos\":2 }\n",
        "                        )\n",
        "y_test = y_test.map(\n",
        "                        {\"neu\": 1, \"neg\":0, \"pos\":2 }\n",
        "                        )\n"
      ],
      "execution_count": null,
      "outputs": [
        {
          "output_type": "stream",
          "text": [
            "(12000,) (12000,)\n",
            "(3000,) (3000,)\n"
          ],
          "name": "stdout"
        }
      ]
    },
    {
      "cell_type": "code",
      "metadata": {
        "id": "AbPJDgeVGiwM"
      },
      "source": [
        "train_tweets, train_labels = X_train,y_train\n",
        "test_tweets, test_labels = X_test,y_test"
      ],
      "execution_count": null,
      "outputs": []
    },
    {
      "cell_type": "code",
      "metadata": {
        "colab": {
          "base_uri": "https://localhost:8080/"
        },
        "id": "2_Ew6d4PR3WG",
        "outputId": "5aeb95ee-2202-4ab6-9b87-8fd4d3a83f49"
      },
      "source": [
        "pip install keras\n"
      ],
      "execution_count": null,
      "outputs": [
        {
          "output_type": "stream",
          "text": [
            "Requirement already satisfied: keras in /usr/local/lib/python3.7/dist-packages (2.4.3)\n",
            "Requirement already satisfied: numpy>=1.9.1 in /usr/local/lib/python3.7/dist-packages (from keras) (1.19.5)\n",
            "Requirement already satisfied: scipy>=0.14 in /usr/local/lib/python3.7/dist-packages (from keras) (1.4.1)\n",
            "Requirement already satisfied: pyyaml in /usr/local/lib/python3.7/dist-packages (from keras) (3.13)\n",
            "Requirement already satisfied: h5py in /usr/local/lib/python3.7/dist-packages (from keras) (2.10.0)\n",
            "Requirement already satisfied: six in /usr/local/lib/python3.7/dist-packages (from h5py->keras) (1.15.0)\n"
          ],
          "name": "stdout"
        }
      ]
    },
    {
      "cell_type": "markdown",
      "metadata": {
        "id": "LYrcQYuHFP8E"
      },
      "source": [
        "_______________________________________"
      ]
    },
    {
      "cell_type": "code",
      "metadata": {
        "id": "HTpu5q9kQ6jS"
      },
      "source": [
        "from keras.preprocessing.text import Tokenizer\n",
        "tokenizer = Tokenizer()\n",
        "tokenizer.fit_on_texts(train_tweets)\n",
        "train_tokenized = tokenizer.texts_to_matrix(\n",
        "                             train_tweets,\n",
        "                             mode='tfidf'\n",
        "                             )\n",
        "test_tokenized = tokenizer.texts_to_matrix(\n",
        "                             test_tweets,\n",
        "                             mode='tfidf'\n",
        "                             )"
      ],
      "execution_count": null,
      "outputs": []
    },
    {
      "cell_type": "code",
      "metadata": {
        "colab": {
          "base_uri": "https://localhost:8080/"
        },
        "id": "tqB0j-RuRuJo",
        "outputId": "a3aefd91-e05b-4b7b-dd77-bf4911eade3c"
      },
      "source": [
        "from  sklearn.ensemble import RandomForestClassifier\n",
        "forest = RandomForestClassifier(\n",
        "                                n_estimators=500, \n",
        "                                min_samples_leaf=2,\n",
        "                                oob_score=True,\n",
        "                                n_jobs=-1,\n",
        "                                )\n",
        "forest.fit(train_tokenized,train_labels)\n",
        "print(f\"Train score: {forest.score(train_tokenized,train_labels)}\")\n",
        "print(f\"OOB score: {forest.oob_score_}\")"
      ],
      "execution_count": null,
      "outputs": [
        {
          "output_type": "stream",
          "text": [
            "Train score: 0.8465\n",
            "OOB score: 0.7280833333333333\n"
          ],
          "name": "stdout"
        }
      ]
    },
    {
      "cell_type": "code",
      "metadata": {
        "colab": {
          "base_uri": "https://localhost:8080/"
        },
        "id": "QKCBW59CRvMp",
        "outputId": "2845f4bd-5808-4e3f-b906-8fb47254391f"
      },
      "source": [
        "print(\"Test score:\", forest.score(test_tokenized,test_labels))"
      ],
      "execution_count": null,
      "outputs": [
        {
          "output_type": "stream",
          "text": [
            "Test score: 0.7236666666666667\n"
          ],
          "name": "stdout"
        }
      ]
    },
    {
      "cell_type": "code",
      "metadata": {
        "id": "9DHU3syMEI0F"
      },
      "source": [
        ""
      ],
      "execution_count": null,
      "outputs": []
    }
  ]
}